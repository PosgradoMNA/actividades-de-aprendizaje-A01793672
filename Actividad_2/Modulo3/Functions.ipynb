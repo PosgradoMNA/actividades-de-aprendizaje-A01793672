{
 "cells": [
  {
   "cell_type": "code",
   "execution_count": 6,
   "metadata": {},
   "outputs": [
    {
     "name": "stdout",
     "output_type": "stream",
     "text": [
      "Help on function add1 in module __main__:\n",
      "\n",
      "add1(a)\n",
      "    Add 1 to a\n",
      "\n",
      "8 plus 2 equals 10\n"
     ]
    },
    {
     "data": {
      "text/plain": [
       "10"
      ]
     },
     "execution_count": 6,
     "metadata": {},
     "output_type": "execute_result"
    }
   ],
   "source": [
    "#Crear Funciones\n",
    "\n",
    "def add1(a):\n",
    "    \"\"\"Add 1 to a\"\"\" #Para documentacion\n",
    "    b=a+1\n",
    "    return b\n",
    "add1(5)\n",
    "help(add1)\n",
    "\n",
    "def mult(x,y):\n",
    "    z=x*y\n",
    "    return z\n",
    "mult(10,3.14)\n",
    "mult(2,\"Freddy\")\n",
    "\n",
    "def add2(a):\n",
    "    b=a+2\n",
    "    print(a,\"plus 2 equals\",b)\n",
    "    return(b)\n",
    "add2(8)\n"
   ]
  }
 ],
 "metadata": {
  "kernelspec": {
   "display_name": "Python 3.10.5 64-bit",
   "language": "python",
   "name": "python3"
  },
  "language_info": {
   "codemirror_mode": {
    "name": "ipython",
    "version": 3
   },
   "file_extension": ".py",
   "mimetype": "text/x-python",
   "name": "python",
   "nbconvert_exporter": "python",
   "pygments_lexer": "ipython3",
   "version": "3.10.5"
  },
  "orig_nbformat": 4,
  "vscode": {
   "interpreter": {
    "hash": "014f6fe67bb4dcf7b480963fb0ba5531e9ff1af73eb3aa89b0e6e1569b9c5d4c"
   }
  }
 },
 "nbformat": 4,
 "nbformat_minor": 2
}
