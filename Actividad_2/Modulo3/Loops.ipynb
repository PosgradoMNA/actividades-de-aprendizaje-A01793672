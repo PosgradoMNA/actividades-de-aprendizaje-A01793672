{
 "cells": [
  {
   "cell_type": "code",
   "execution_count": 12,
   "metadata": {},
   "outputs": [
    {
     "data": {
      "text/plain": [
       "['orange', 'orange']"
      ]
     },
     "execution_count": 12,
     "metadata": {},
     "output_type": "execute_result"
    }
   ],
   "source": [
    "# By: Freddy Armendariz Herrera\n",
    "# Loops\n",
    "\n",
    "#Ejemplos de For Loops\n",
    "range(3)\n",
    "range(10,15)\n",
    "squares=[\"red\",\"yellow\",\"green\",\"purple\",\"blue\"]\n",
    "for i in range(0,5):\n",
    "    squares[i]=\"white\"\n",
    "squares=[\"red\",\"yellow\",\"green\"]\n",
    "for square in squares:\n",
    "    square\n",
    "squares=[\"red\",\"yellow\",\"green\"]\n",
    "for i, square in enumerate(squares):\n",
    "    square\n",
    "    i\n",
    "\n",
    "#Ejemplos de While Loops\n",
    "squares=[\"orange\",\"orange\",\"purple\",\"blue\"]\n",
    "Newsquares=[]\n",
    "i=0\n",
    "while (squares[i]==\"orange\"):\n",
    "    Newsquares.append(squares[i])\n",
    "    i=i+1\n",
    "Newsquares"
   ]
  }
 ],
 "metadata": {
  "kernelspec": {
   "display_name": "Python 3.10.5 64-bit",
   "language": "python",
   "name": "python3"
  },
  "language_info": {
   "codemirror_mode": {
    "name": "ipython",
    "version": 3
   },
   "file_extension": ".py",
   "mimetype": "text/x-python",
   "name": "python",
   "nbconvert_exporter": "python",
   "pygments_lexer": "ipython3",
   "version": "3.10.5"
  },
  "orig_nbformat": 4,
  "vscode": {
   "interpreter": {
    "hash": "014f6fe67bb4dcf7b480963fb0ba5531e9ff1af73eb3aa89b0e6e1569b9c5d4c"
   }
  }
 },
 "nbformat": 4,
 "nbformat_minor": 2
}
