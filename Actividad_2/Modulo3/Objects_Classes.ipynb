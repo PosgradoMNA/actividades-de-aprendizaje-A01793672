{
 "cells": [
  {
   "cell_type": "code",
   "execution_count": 1,
   "metadata": {},
   "outputs": [
    {
     "data": {
      "text/plain": [
       "30"
      ]
     },
     "execution_count": 1,
     "metadata": {},
     "output_type": "execute_result"
    }
   ],
   "source": [
    "# By: Freddy Armendariz Herrera\n",
    "# Expressions and Variables\n",
    "\n",
    "#Objetos y Clases\n",
    "\n",
    "#import matplotlib.pyplot as plt\n",
    "#%matplotlib inline\n",
    "\n",
    "class Circle(object):\n",
    "    def __init__(self,radius,color):\n",
    "        self.radius=radius\n",
    "        self.color=color\n",
    "\n",
    "    def add_radius(self,r):\n",
    "        self.radius=self.radius+r\n",
    "        return self.radius\n",
    "\n",
    "C1=Circle(3,\"Azul\")\n",
    "C1.add_radius(27)"
   ]
  }
 ],
 "metadata": {
  "kernelspec": {
   "display_name": "Python 3.10.5 64-bit",
   "language": "python",
   "name": "python3"
  },
  "language_info": {
   "codemirror_mode": {
    "name": "ipython",
    "version": 3
   },
   "file_extension": ".py",
   "mimetype": "text/x-python",
   "name": "python",
   "nbconvert_exporter": "python",
   "pygments_lexer": "ipython3",
   "version": "3.10.5"
  },
  "orig_nbformat": 4,
  "vscode": {
   "interpreter": {
    "hash": "014f6fe67bb4dcf7b480963fb0ba5531e9ff1af73eb3aa89b0e6e1569b9c5d4c"
   }
  }
 },
 "nbformat": 4,
 "nbformat_minor": 2
}
