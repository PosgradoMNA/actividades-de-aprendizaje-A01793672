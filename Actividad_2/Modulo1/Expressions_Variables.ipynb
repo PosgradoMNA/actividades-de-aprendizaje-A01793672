{
 "cells": [
  {
   "cell_type": "code",
   "execution_count": 11,
   "metadata": {},
   "outputs": [
    {
     "name": "stdout",
     "output_type": "stream",
     "text": [
      "Valor de x:  163\n",
      "Valor de y: 40.75\n",
      "163.0\n"
     ]
    }
   ],
   "source": [
    "# By: Freddy Armendariz Herrera\n",
    "# Expressions and Variables\n",
    "\n",
    "x=145+6*3\n",
    "y=x/4\n",
    "print(\"Valor de x: \",x)\n",
    "print(\"Valor de y:\",y)\n",
    "print(type(y)(x))"
   ]
  }
 ],
 "metadata": {
  "kernelspec": {
   "display_name": "Python 3.10.5 64-bit",
   "language": "python",
   "name": "python3"
  },
  "language_info": {
   "codemirror_mode": {
    "name": "ipython",
    "version": 3
   },
   "file_extension": ".py",
   "mimetype": "text/x-python",
   "name": "python",
   "nbconvert_exporter": "python",
   "pygments_lexer": "ipython3",
   "version": "3.10.5"
  },
  "orig_nbformat": 4,
  "vscode": {
   "interpreter": {
    "hash": "014f6fe67bb4dcf7b480963fb0ba5531e9ff1af73eb3aa89b0e6e1569b9c5d4c"
   }
  }
 },
 "nbformat": 4,
 "nbformat_minor": 2
}
