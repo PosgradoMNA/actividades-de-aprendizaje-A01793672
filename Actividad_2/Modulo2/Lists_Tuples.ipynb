{
 "cells": [
  {
   "cell_type": "code",
   "execution_count": 34,
   "metadata": {},
   "outputs": [
    {
     "data": {
      "text/plain": [
       "[0, 2, 5, 6, 6, 8, 9, 9, 10]"
      ]
     },
     "execution_count": 34,
     "metadata": {},
     "output_type": "execute_result"
    }
   ],
   "source": [
    "# By: Freddy Armendariz Herrera\n",
    "# Lists and Tuples\n",
    "\n",
    "# Uso de los Tuples\n",
    "tuple1=('disco',10,1.2)\n",
    "tuple1[1]\n",
    "tuple1[-1]\n",
    "tuple2=tuple1+('hard rock',10)\n",
    "tuple2[0:3]\n",
    "len(tuple2)\n",
    "tuple3=(10,20,30,('Freddy','Rubi'),50)\n",
    "tuple3[3][1]\n",
    "\n",
    "# Uso de las Listas\n",
    "L=['Michael',10.1,1982,'MJ',1]\n",
    "L[3:5]\n",
    "B=[\"a\",\"b\",\"c\"]\n",
    "B[1:]\n",
    "A=[\"disco\",10,1.2]\n",
    "del(A[0])\n",
    "A\n",
    "\"hard rock\".split()\n",
    "\"A,B,C,D\".split(\",\")\n",
    "A=[10,20,30]\n",
    "B=A\n",
    "del(A[0])\n",
    "B\n",
    "A=[10,20,30]\n",
    "B=A[:]\n",
    "del(A[0])\n",
    "B\n",
    "\n",
    "Ratings=(0,9,6,5,10,8,9,6,2)\n",
    "RatingsSorted=sorted(Ratings)\n",
    "RatingsSorted"
   ]
  }
 ],
 "metadata": {
  "kernelspec": {
   "display_name": "Python 3.10.5 64-bit",
   "language": "python",
   "name": "python3"
  },
  "language_info": {
   "codemirror_mode": {
    "name": "ipython",
    "version": 3
   },
   "file_extension": ".py",
   "mimetype": "text/x-python",
   "name": "python",
   "nbconvert_exporter": "python",
   "pygments_lexer": "ipython3",
   "version": "3.10.5"
  },
  "orig_nbformat": 4,
  "vscode": {
   "interpreter": {
    "hash": "014f6fe67bb4dcf7b480963fb0ba5531e9ff1af73eb3aa89b0e6e1569b9c5d4c"
   }
  }
 },
 "nbformat": 4,
 "nbformat_minor": 2
}
