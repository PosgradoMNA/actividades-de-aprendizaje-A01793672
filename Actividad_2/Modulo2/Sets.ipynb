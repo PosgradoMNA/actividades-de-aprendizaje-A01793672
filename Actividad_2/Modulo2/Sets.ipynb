{
 "cells": [
  {
   "cell_type": "code",
   "execution_count": 9,
   "metadata": {},
   "outputs": [
    {
     "name": "stdout",
     "output_type": "stream",
     "text": [
      "La suma de los elementos de A:  6\n",
      "La suma de los elementos de B:  3\n"
     ]
    }
   ],
   "source": [
    "set1={'pop','rock','soul','rock','R&B','rock'}\n",
    "set1\n",
    "album_list=[\"Michael Jackson\",\"Thriller\",\"Thriller\",1982]\n",
    "album_set=set(album_list)\n",
    "album_set\n",
    "A={\"Thriller\",\"Back in Black\",\"AC/DC\"}\n",
    "A.add(\"NSYNC\")\n",
    "A\n",
    "A.remove(\"NSYNC\")\n",
    "A\n",
    "Album_set_1={\"AC/DC\",\"Back in Black\",\"Thriller\"}\n",
    "Album_set_2={\"AC/DC\",\"Back in Black\",\"The Dark\"}\n",
    "Album_set_3=Album_set_1 & Album_set_2\n",
    "Album_set_3\n",
    "Album_set_1.union(Album_set_2)\n",
    "Album_set_1.issubset(Album_set_2)\n",
    "Album_set_1.difference(Album_set_2)\n",
    "A=[1,2,2,1]\n",
    "B=set(A)\n",
    "print(\"La suma de los elementos de A: \",sum(A))\n",
    "print(\"La suma de los elementos de B: \",sum(B))"
   ]
  }
 ],
 "metadata": {
  "kernelspec": {
   "display_name": "Python 3.10.5 64-bit",
   "language": "python",
   "name": "python3"
  },
  "language_info": {
   "codemirror_mode": {
    "name": "ipython",
    "version": 3
   },
   "file_extension": ".py",
   "mimetype": "text/x-python",
   "name": "python",
   "nbconvert_exporter": "python",
   "pygments_lexer": "ipython3",
   "version": "3.10.5"
  },
  "orig_nbformat": 4,
  "vscode": {
   "interpreter": {
    "hash": "014f6fe67bb4dcf7b480963fb0ba5531e9ff1af73eb3aa89b0e6e1569b9c5d4c"
   }
  }
 },
 "nbformat": 4,
 "nbformat_minor": 2
}
