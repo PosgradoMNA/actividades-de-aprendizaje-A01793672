{
  "nbformat": 4,
  "nbformat_minor": 0,
  "metadata": {
    "colab": {
      "provenance": [],
      "collapsed_sections": [],
      "authorship_tag": "ABX9TyMKo/qtbIQyc+LR4VpwglX4",
      "include_colab_link": true
    },
    "kernelspec": {
      "name": "python3",
      "display_name": "Python 3"
    },
    "language_info": {
      "name": "python"
    }
  },
  "cells": [
    {
      "cell_type": "markdown",
      "metadata": {
        "id": "view-in-github",
        "colab_type": "text"
      },
      "source": [
        "<a href=\"https://colab.research.google.com/github/PosgradoMNA/actividades-de-aprendizaje-A01793672/blob/main/DataAnalysisPythonIBM_M2.ipynb\" target=\"_parent\"><img src=\"https://colab.research.google.com/assets/colab-badge.svg\" alt=\"Open In Colab\"/></a>"
      ]
    },
    {
      "cell_type": "markdown",
      "source": [
        "#**DATA ANALYSIS WITH PYTHON (IBM)**\n",
        "---\n",
        "#**Modulo 2 - Manipulación de Datos**\n",
        "---\n",
        "##**Alumno: Freddy Armendariz Herrera**\n",
        "##**Matrícula: A01793672**\n",
        "---"
      ],
      "metadata": {
        "id": "T5BnOfalNvSn"
      }
    },
    {
      "cell_type": "markdown",
      "source": [
        "---\n",
        "##**Preprocesamiento de los Datos en Python**"
      ],
      "metadata": {
        "id": "r8Ww1B3K8y39"
      }
    },
    {
      "cell_type": "markdown",
      "source": [
        "El preprocesamiento de datos es necesario es un paso necesario para el análisis de datos. Se refiere al proceso de mapear los datos desde su forma inicial hasta a un formato diferente, con el objetivo de preparar los datos para un análisis más extenso.\n",
        "\n",
        "También es llamado limpieza de datos (*data cleaning*) o manipulación de datos (*data wrangling*)."
      ],
      "metadata": {
        "id": "FfYSQ1jNR8G9"
      }
    },
    {
      "cell_type": "markdown",
      "source": [
        "**Objetivos de Aprendizaje**\n",
        "* Identificación y manejo de datos vacíos.\n",
        "* Formato de datos.\n",
        "* Normalización de datos (centrado y escalamiento).\n",
        "* Agrupación de datos.\n",
        "* Conversión de valores categóricos en variables numéricas."
      ],
      "metadata": {
        "id": "YQAJ2gHNTzsM"
      }
    },
    {
      "cell_type": "code",
      "source": [
        "import pandas as pd\n",
        "\n",
        "url = \"https://cf-courses-data.s3.us.cloud-object-storage.appdomain.cloud/IBMDeveloperSkillsNetwork-DA0101EN-SkillsNetwork/labs/Data%20files/auto.csv\"\n",
        "df = pd.read_csv(url, header = None)\n",
        "headers = [\"symboling\",\"normalized-losses\",\"make\",\"fuel-type\",\"aspiration\",\"num-of-doors\",\"body-style\",\n",
        "           \"drive-wheels\",\"engine-location\",\"wheel-base\",\"length\",\"width\",\"height\",\"curb-weight\",\n",
        "           \"engine-type\",\"num-of-cylinders\",\"engine-size\",\"fuel-system\",\"bore\",\"stroke\",\"compression-ratio\",\n",
        "           \"horsepower\",\"peak-rpm\",\"city-mpg\",\"highway-mpg\",\"price\"]\n",
        "df.columns=headers #Reemplaza el encabezado por defecto.\n",
        "df.head()"
      ],
      "metadata": {
        "colab": {
          "base_uri": "https://localhost:8080/",
          "height": 386
        },
        "id": "r9RwGiJr5o_M",
        "outputId": "32dcb73a-21f6-47a7-8695-5220f9926084"
      },
      "execution_count": 98,
      "outputs": [
        {
          "output_type": "execute_result",
          "data": {
            "text/plain": [
              "   symboling normalized-losses         make fuel-type aspiration num-of-doors  \\\n",
              "0          3                 ?  alfa-romero       gas        std          two   \n",
              "1          3                 ?  alfa-romero       gas        std          two   \n",
              "2          1                 ?  alfa-romero       gas        std          two   \n",
              "3          2               164         audi       gas        std         four   \n",
              "4          2               164         audi       gas        std         four   \n",
              "\n",
              "    body-style drive-wheels engine-location  wheel-base  ...  engine-size  \\\n",
              "0  convertible          rwd           front        88.6  ...          130   \n",
              "1  convertible          rwd           front        88.6  ...          130   \n",
              "2    hatchback          rwd           front        94.5  ...          152   \n",
              "3        sedan          fwd           front        99.8  ...          109   \n",
              "4        sedan          4wd           front        99.4  ...          136   \n",
              "\n",
              "   fuel-system  bore  stroke compression-ratio horsepower  peak-rpm city-mpg  \\\n",
              "0         mpfi  3.47    2.68               9.0        111      5000       21   \n",
              "1         mpfi  3.47    2.68               9.0        111      5000       21   \n",
              "2         mpfi  2.68    3.47               9.0        154      5000       19   \n",
              "3         mpfi  3.19    3.40              10.0        102      5500       24   \n",
              "4         mpfi  3.19    3.40               8.0        115      5500       18   \n",
              "\n",
              "  highway-mpg  price  \n",
              "0          27  13495  \n",
              "1          27  16500  \n",
              "2          26  16500  \n",
              "3          30  13950  \n",
              "4          22  17450  \n",
              "\n",
              "[5 rows x 26 columns]"
            ],
            "text/html": [
              "\n",
              "  <div id=\"df-a1dee94f-2d9b-4b40-bcf7-625255459e91\">\n",
              "    <div class=\"colab-df-container\">\n",
              "      <div>\n",
              "<style scoped>\n",
              "    .dataframe tbody tr th:only-of-type {\n",
              "        vertical-align: middle;\n",
              "    }\n",
              "\n",
              "    .dataframe tbody tr th {\n",
              "        vertical-align: top;\n",
              "    }\n",
              "\n",
              "    .dataframe thead th {\n",
              "        text-align: right;\n",
              "    }\n",
              "</style>\n",
              "<table border=\"1\" class=\"dataframe\">\n",
              "  <thead>\n",
              "    <tr style=\"text-align: right;\">\n",
              "      <th></th>\n",
              "      <th>symboling</th>\n",
              "      <th>normalized-losses</th>\n",
              "      <th>make</th>\n",
              "      <th>fuel-type</th>\n",
              "      <th>aspiration</th>\n",
              "      <th>num-of-doors</th>\n",
              "      <th>body-style</th>\n",
              "      <th>drive-wheels</th>\n",
              "      <th>engine-location</th>\n",
              "      <th>wheel-base</th>\n",
              "      <th>...</th>\n",
              "      <th>engine-size</th>\n",
              "      <th>fuel-system</th>\n",
              "      <th>bore</th>\n",
              "      <th>stroke</th>\n",
              "      <th>compression-ratio</th>\n",
              "      <th>horsepower</th>\n",
              "      <th>peak-rpm</th>\n",
              "      <th>city-mpg</th>\n",
              "      <th>highway-mpg</th>\n",
              "      <th>price</th>\n",
              "    </tr>\n",
              "  </thead>\n",
              "  <tbody>\n",
              "    <tr>\n",
              "      <th>0</th>\n",
              "      <td>3</td>\n",
              "      <td>?</td>\n",
              "      <td>alfa-romero</td>\n",
              "      <td>gas</td>\n",
              "      <td>std</td>\n",
              "      <td>two</td>\n",
              "      <td>convertible</td>\n",
              "      <td>rwd</td>\n",
              "      <td>front</td>\n",
              "      <td>88.6</td>\n",
              "      <td>...</td>\n",
              "      <td>130</td>\n",
              "      <td>mpfi</td>\n",
              "      <td>3.47</td>\n",
              "      <td>2.68</td>\n",
              "      <td>9.0</td>\n",
              "      <td>111</td>\n",
              "      <td>5000</td>\n",
              "      <td>21</td>\n",
              "      <td>27</td>\n",
              "      <td>13495</td>\n",
              "    </tr>\n",
              "    <tr>\n",
              "      <th>1</th>\n",
              "      <td>3</td>\n",
              "      <td>?</td>\n",
              "      <td>alfa-romero</td>\n",
              "      <td>gas</td>\n",
              "      <td>std</td>\n",
              "      <td>two</td>\n",
              "      <td>convertible</td>\n",
              "      <td>rwd</td>\n",
              "      <td>front</td>\n",
              "      <td>88.6</td>\n",
              "      <td>...</td>\n",
              "      <td>130</td>\n",
              "      <td>mpfi</td>\n",
              "      <td>3.47</td>\n",
              "      <td>2.68</td>\n",
              "      <td>9.0</td>\n",
              "      <td>111</td>\n",
              "      <td>5000</td>\n",
              "      <td>21</td>\n",
              "      <td>27</td>\n",
              "      <td>16500</td>\n",
              "    </tr>\n",
              "    <tr>\n",
              "      <th>2</th>\n",
              "      <td>1</td>\n",
              "      <td>?</td>\n",
              "      <td>alfa-romero</td>\n",
              "      <td>gas</td>\n",
              "      <td>std</td>\n",
              "      <td>two</td>\n",
              "      <td>hatchback</td>\n",
              "      <td>rwd</td>\n",
              "      <td>front</td>\n",
              "      <td>94.5</td>\n",
              "      <td>...</td>\n",
              "      <td>152</td>\n",
              "      <td>mpfi</td>\n",
              "      <td>2.68</td>\n",
              "      <td>3.47</td>\n",
              "      <td>9.0</td>\n",
              "      <td>154</td>\n",
              "      <td>5000</td>\n",
              "      <td>19</td>\n",
              "      <td>26</td>\n",
              "      <td>16500</td>\n",
              "    </tr>\n",
              "    <tr>\n",
              "      <th>3</th>\n",
              "      <td>2</td>\n",
              "      <td>164</td>\n",
              "      <td>audi</td>\n",
              "      <td>gas</td>\n",
              "      <td>std</td>\n",
              "      <td>four</td>\n",
              "      <td>sedan</td>\n",
              "      <td>fwd</td>\n",
              "      <td>front</td>\n",
              "      <td>99.8</td>\n",
              "      <td>...</td>\n",
              "      <td>109</td>\n",
              "      <td>mpfi</td>\n",
              "      <td>3.19</td>\n",
              "      <td>3.40</td>\n",
              "      <td>10.0</td>\n",
              "      <td>102</td>\n",
              "      <td>5500</td>\n",
              "      <td>24</td>\n",
              "      <td>30</td>\n",
              "      <td>13950</td>\n",
              "    </tr>\n",
              "    <tr>\n",
              "      <th>4</th>\n",
              "      <td>2</td>\n",
              "      <td>164</td>\n",
              "      <td>audi</td>\n",
              "      <td>gas</td>\n",
              "      <td>std</td>\n",
              "      <td>four</td>\n",
              "      <td>sedan</td>\n",
              "      <td>4wd</td>\n",
              "      <td>front</td>\n",
              "      <td>99.4</td>\n",
              "      <td>...</td>\n",
              "      <td>136</td>\n",
              "      <td>mpfi</td>\n",
              "      <td>3.19</td>\n",
              "      <td>3.40</td>\n",
              "      <td>8.0</td>\n",
              "      <td>115</td>\n",
              "      <td>5500</td>\n",
              "      <td>18</td>\n",
              "      <td>22</td>\n",
              "      <td>17450</td>\n",
              "    </tr>\n",
              "  </tbody>\n",
              "</table>\n",
              "<p>5 rows × 26 columns</p>\n",
              "</div>\n",
              "      <button class=\"colab-df-convert\" onclick=\"convertToInteractive('df-a1dee94f-2d9b-4b40-bcf7-625255459e91')\"\n",
              "              title=\"Convert this dataframe to an interactive table.\"\n",
              "              style=\"display:none;\">\n",
              "        \n",
              "  <svg xmlns=\"http://www.w3.org/2000/svg\" height=\"24px\"viewBox=\"0 0 24 24\"\n",
              "       width=\"24px\">\n",
              "    <path d=\"M0 0h24v24H0V0z\" fill=\"none\"/>\n",
              "    <path d=\"M18.56 5.44l.94 2.06.94-2.06 2.06-.94-2.06-.94-.94-2.06-.94 2.06-2.06.94zm-11 1L8.5 8.5l.94-2.06 2.06-.94-2.06-.94L8.5 2.5l-.94 2.06-2.06.94zm10 10l.94 2.06.94-2.06 2.06-.94-2.06-.94-.94-2.06-.94 2.06-2.06.94z\"/><path d=\"M17.41 7.96l-1.37-1.37c-.4-.4-.92-.59-1.43-.59-.52 0-1.04.2-1.43.59L10.3 9.45l-7.72 7.72c-.78.78-.78 2.05 0 2.83L4 21.41c.39.39.9.59 1.41.59.51 0 1.02-.2 1.41-.59l7.78-7.78 2.81-2.81c.8-.78.8-2.07 0-2.86zM5.41 20L4 18.59l7.72-7.72 1.47 1.35L5.41 20z\"/>\n",
              "  </svg>\n",
              "      </button>\n",
              "      \n",
              "  <style>\n",
              "    .colab-df-container {\n",
              "      display:flex;\n",
              "      flex-wrap:wrap;\n",
              "      gap: 12px;\n",
              "    }\n",
              "\n",
              "    .colab-df-convert {\n",
              "      background-color: #E8F0FE;\n",
              "      border: none;\n",
              "      border-radius: 50%;\n",
              "      cursor: pointer;\n",
              "      display: none;\n",
              "      fill: #1967D2;\n",
              "      height: 32px;\n",
              "      padding: 0 0 0 0;\n",
              "      width: 32px;\n",
              "    }\n",
              "\n",
              "    .colab-df-convert:hover {\n",
              "      background-color: #E2EBFA;\n",
              "      box-shadow: 0px 1px 2px rgba(60, 64, 67, 0.3), 0px 1px 3px 1px rgba(60, 64, 67, 0.15);\n",
              "      fill: #174EA6;\n",
              "    }\n",
              "\n",
              "    [theme=dark] .colab-df-convert {\n",
              "      background-color: #3B4455;\n",
              "      fill: #D2E3FC;\n",
              "    }\n",
              "\n",
              "    [theme=dark] .colab-df-convert:hover {\n",
              "      background-color: #434B5C;\n",
              "      box-shadow: 0px 1px 3px 1px rgba(0, 0, 0, 0.15);\n",
              "      filter: drop-shadow(0px 1px 2px rgba(0, 0, 0, 0.3));\n",
              "      fill: #FFFFFF;\n",
              "    }\n",
              "  </style>\n",
              "\n",
              "      <script>\n",
              "        const buttonEl =\n",
              "          document.querySelector('#df-a1dee94f-2d9b-4b40-bcf7-625255459e91 button.colab-df-convert');\n",
              "        buttonEl.style.display =\n",
              "          google.colab.kernel.accessAllowed ? 'block' : 'none';\n",
              "\n",
              "        async function convertToInteractive(key) {\n",
              "          const element = document.querySelector('#df-a1dee94f-2d9b-4b40-bcf7-625255459e91');\n",
              "          const dataTable =\n",
              "            await google.colab.kernel.invokeFunction('convertToInteractive',\n",
              "                                                     [key], {});\n",
              "          if (!dataTable) return;\n",
              "\n",
              "          const docLinkHtml = 'Like what you see? Visit the ' +\n",
              "            '<a target=\"_blank\" href=https://colab.research.google.com/notebooks/data_table.ipynb>data table notebook</a>'\n",
              "            + ' to learn more about interactive tables.';\n",
              "          element.innerHTML = '';\n",
              "          dataTable['output_type'] = 'display_data';\n",
              "          await google.colab.output.renderOutput(dataTable, element);\n",
              "          const docLink = document.createElement('div');\n",
              "          docLink.innerHTML = docLinkHtml;\n",
              "          element.appendChild(docLink);\n",
              "        }\n",
              "      </script>\n",
              "    </div>\n",
              "  </div>\n",
              "  "
            ]
          },
          "metadata": {},
          "execution_count": 98
        }
      ]
    },
    {
      "cell_type": "markdown",
      "source": [
        "---\n",
        "##**Lidiar con Datos Faltantes**"
      ],
      "metadata": {
        "id": "lx-P9AF_W2tU"
      }
    },
    {
      "cell_type": "markdown",
      "source": [
        "Cuando no se guarda un valor en alguna de las características se dice que esa característica tiene un valor faltante. Estos valores pueden ser representados por:\n",
        "* ?\n",
        "* N/A\n",
        "* 0\n",
        "* Celda vacía"
      ],
      "metadata": {
        "id": "2qwVdwrMYXdU"
      }
    },
    {
      "cell_type": "markdown",
      "source": [
        "**Acciones recomendadas ante la Falta de Datos**\n",
        "\n",
        "**Remover**\n",
        "\n",
        "* Verificar si la fuente de donde provienen los datos puede recuperar los faltantes.\n",
        "\n",
        "* Remover los registros o columnas en donde hagan falta campos.\n",
        "\n",
        "Cuando se opta por eliminar los datos, se puede eliminar la columna completa o solo el registro en donde haga falta ese dato.\n",
        "\n",
        "Si los datos faltantes son muy pocos, lo mas recomendable es eliminar solo el registro.\n",
        "\n",
        "Al eliminar datos se busca crear el menor impacto posible.\n",
        "\n",
        "**Reemplazar**\n",
        "\n",
        "**Reemplazar** un dato es mejor que eliminarlo.\n",
        "\n",
        "* Reemplazar los datos faltantes por el promedio de la columna (variables numéricas)\n",
        "* Reemplazar los datos faltantes por la moda de la columna (variables categóricas)\n",
        "* Reemplazar el dato basándose en otros atributos.\n",
        "\n",
        "**Mantener los datos faltantes**"
      ],
      "metadata": {
        "id": "vtkP5zuMtkTC"
      }
    },
    {
      "cell_type": "markdown",
      "source": [
        "**¿Cómo eliminar datos en Python?**\n",
        "\n",
        "Haciendo uso de la función *dropna()*."
      ],
      "metadata": {
        "id": "ybjRAzjb42sh"
      }
    },
    {
      "cell_type": "code",
      "source": [
        "df.dropna(              #Selecciona filas o columnas con valores faltantes para eliminarlos.\n",
        "    subset=[\"price\"],   #Columna donde se verifican datos faltantes.\n",
        "    axis=0,             #0 para registros y 1 para columnas.\n",
        "    inplace=True        #La modificación se realiza directamente en el dataset.\n",
        ")"
      ],
      "metadata": {
        "id": "Xcenk7hV9Lul"
      },
      "execution_count": 99,
      "outputs": []
    },
    {
      "cell_type": "markdown",
      "source": [
        "**¿Cómo reemplazar datos faltantes en Python?**\n",
        "\n",
        "Haciendo uso de la función *replace()*."
      ],
      "metadata": {
        "id": "XuRX67_Q_JyQ"
      }
    },
    {
      "cell_type": "code",
      "source": [
        "import numpy as np\n",
        "\n",
        "df.replace('?',np.NaN,inplace=True) #Reemplaza los ? por NaN\n",
        "df[\"normalized-losses\"]=df[\"normalized-losses\"].astype(float) #Cambia el tipo de dato de la columna seleccionada\n",
        "mean=df[\"normalized-losses\"].mean() #Calcula el promedio de la columna\n",
        "\n",
        "df[\"normalized-losses\"].replace(  #Seleeciona la columna normalized-losses para reemplazar datos\n",
        "    np.nan,                       #Un valor NaN\n",
        "    mean,                         #Por el promedio de dicha columna\n",
        "    inplace=True                  #Directamente sobre el dataset\n",
        ")"
      ],
      "metadata": {
        "id": "B7IOoF7y_ZjL"
      },
      "execution_count": 100,
      "outputs": []
    },
    {
      "cell_type": "markdown",
      "source": [
        "---\n",
        "##**Formato de Datos en Python**"
      ],
      "metadata": {
        "id": "qtqq6qucHHHe"
      }
    },
    {
      "cell_type": "markdown",
      "source": [
        "Los datos son usualmente recolectados de diferentes fuentes en donde se le da diferente formato a los datos.\n",
        "\n",
        "Estandarizar el formato de los datos simplifica el hacer una buena comparación entre estos.\n",
        "\n",
        "Los datos sin formato son:\n",
        "* Confusos.\n",
        "* Dificiles de agregar.\n",
        "* Difíciles de comparar.\n",
        "\n",
        "Con formato:\n",
        "\n",
        "* Más claros.\n",
        "* Fáciles de agregar.\n",
        "* Fáciles de comparar."
      ],
      "metadata": {
        "id": "ml41STOmHRYa"
      }
    },
    {
      "cell_type": "markdown",
      "source": [
        "Hablando de nuestro conjunto de dato, hay una columna llamada *city-mpg* que hace referencia al consumo de combustible en millas por galón, es mejor manejar unidades métricas L/100km, por lo que se requiere convertir los valores de esta columna."
      ],
      "metadata": {
        "id": "9Iw8emgyh4Fl"
      }
    },
    {
      "cell_type": "code",
      "source": [
        "df[\"city-mpg\"]=235/df[\"city-mpg\"] #Se realiza la división para convertir millas por galón a L/100km."
      ],
      "metadata": {
        "id": "A582K9qXkld2"
      },
      "execution_count": 101,
      "outputs": []
    },
    {
      "cell_type": "code",
      "source": [
        "df.rename(columns={\"city-mpg\":\"city-L/100km\"},inplace=True) #Se sustituye el nombre de la columna."
      ],
      "metadata": {
        "id": "6f1vBjNelM7G"
      },
      "execution_count": 102,
      "outputs": []
    },
    {
      "cell_type": "markdown",
      "source": [
        "Por alguna razón, al importar el conjunto de datos, los tipos de datos de las columnas pueden estar mal establecidos.\n",
        "\n",
        "Por ejemplo:"
      ],
      "metadata": {
        "id": "2cdT0HNcltuI"
      }
    },
    {
      "cell_type": "code",
      "source": [
        "df[\"price\"].tail()"
      ],
      "metadata": {
        "colab": {
          "base_uri": "https://localhost:8080/"
        },
        "id": "-amnedrfmiBu",
        "outputId": "932519f8-13ed-46c0-9377-f4de4155f368"
      },
      "execution_count": 103,
      "outputs": [
        {
          "output_type": "execute_result",
          "data": {
            "text/plain": [
              "200    16845\n",
              "201    19045\n",
              "202    21485\n",
              "203    22470\n",
              "204    22625\n",
              "Name: price, dtype: object"
            ]
          },
          "metadata": {},
          "execution_count": 103
        }
      ]
    },
    {
      "cell_type": "markdown",
      "source": [
        "Como podemos ver, la columna de precio está identificada con el tipo de dato objeto, que pueden ser letras o palabras.\n",
        "\n",
        "Hay muchos tipos de datos en Pandas:\n",
        "* Objects: letras o palabras.\n",
        "* Int64: Números enteros.\n",
        "* Float64: Números con punto decimal."
      ],
      "metadata": {
        "id": "DnqT94sTmns3"
      }
    },
    {
      "cell_type": "markdown",
      "source": [
        "**Corregir el tipo de dato**"
      ],
      "metadata": {
        "id": "vfZ1aGHKnc3o"
      }
    },
    {
      "cell_type": "markdown",
      "source": [
        "Para identificar el tipo de dato:"
      ],
      "metadata": {
        "id": "-J3HNdV3qT_r"
      }
    },
    {
      "cell_type": "code",
      "source": [
        "df[\"price\"].dtypes"
      ],
      "metadata": {
        "colab": {
          "base_uri": "https://localhost:8080/"
        },
        "id": "NL-sHx7JnoQt",
        "outputId": "c6efe574-45cb-465b-e895-36c6f1a05f27"
      },
      "execution_count": 104,
      "outputs": [
        {
          "output_type": "execute_result",
          "data": {
            "text/plain": [
              "dtype('O')"
            ]
          },
          "metadata": {},
          "execution_count": 104
        }
      ]
    },
    {
      "cell_type": "markdown",
      "source": [
        "Para convertir el tipo de dato:"
      ],
      "metadata": {
        "id": "bhnjrGJQqbJ9"
      }
    },
    {
      "cell_type": "code",
      "source": [
        "df[\"price\"]=df[\"price\"].astype(float) #Se convierte la columna price a flotante"
      ],
      "metadata": {
        "id": "xgyb33sZqdRE"
      },
      "execution_count": 105,
      "outputs": []
    },
    {
      "cell_type": "code",
      "source": [
        "df[\"price\"].dtypes"
      ],
      "metadata": {
        "colab": {
          "base_uri": "https://localhost:8080/"
        },
        "id": "O28z89L9riRh",
        "outputId": "e9c716df-bbcc-42a8-adaf-c0656fab6aec"
      },
      "execution_count": 106,
      "outputs": [
        {
          "output_type": "execute_result",
          "data": {
            "text/plain": [
              "dtype('float64')"
            ]
          },
          "metadata": {},
          "execution_count": 106
        }
      ]
    },
    {
      "cell_type": "markdown",
      "source": [
        "---\n",
        "##**Normalización de Datos en Python**"
      ],
      "metadata": {
        "id": "TSY15OyJyRaB"
      }
    },
    {
      "cell_type": "markdown",
      "source": [
        "Esta es una técnica importante en el preprocesamiento de los datos.\n",
        "\n",
        "En el conjunto de datos de autos usados, se puede apreciar como la columna *length* tiene diferente rango de valores comparándolo con la columna *width* y *height*."
      ],
      "metadata": {
        "id": "7hkn2lMFyUIg"
      }
    },
    {
      "cell_type": "code",
      "source": [
        "df[[\"length\",\"width\",\"height\"]].head()"
      ],
      "metadata": {
        "colab": {
          "base_uri": "https://localhost:8080/",
          "height": 206
        },
        "id": "iTWgXEYXz3Md",
        "outputId": "c32688cd-5cab-4b51-c45b-7e9d5af25bf0"
      },
      "execution_count": 107,
      "outputs": [
        {
          "output_type": "execute_result",
          "data": {
            "text/plain": [
              "   length  width  height\n",
              "0   168.8   64.1    48.8\n",
              "1   168.8   64.1    48.8\n",
              "2   171.2   65.5    52.4\n",
              "3   176.6   66.2    54.3\n",
              "4   176.6   66.4    54.3"
            ],
            "text/html": [
              "\n",
              "  <div id=\"df-ac4791de-4659-4ccc-9b1c-f066cf487348\">\n",
              "    <div class=\"colab-df-container\">\n",
              "      <div>\n",
              "<style scoped>\n",
              "    .dataframe tbody tr th:only-of-type {\n",
              "        vertical-align: middle;\n",
              "    }\n",
              "\n",
              "    .dataframe tbody tr th {\n",
              "        vertical-align: top;\n",
              "    }\n",
              "\n",
              "    .dataframe thead th {\n",
              "        text-align: right;\n",
              "    }\n",
              "</style>\n",
              "<table border=\"1\" class=\"dataframe\">\n",
              "  <thead>\n",
              "    <tr style=\"text-align: right;\">\n",
              "      <th></th>\n",
              "      <th>length</th>\n",
              "      <th>width</th>\n",
              "      <th>height</th>\n",
              "    </tr>\n",
              "  </thead>\n",
              "  <tbody>\n",
              "    <tr>\n",
              "      <th>0</th>\n",
              "      <td>168.8</td>\n",
              "      <td>64.1</td>\n",
              "      <td>48.8</td>\n",
              "    </tr>\n",
              "    <tr>\n",
              "      <th>1</th>\n",
              "      <td>168.8</td>\n",
              "      <td>64.1</td>\n",
              "      <td>48.8</td>\n",
              "    </tr>\n",
              "    <tr>\n",
              "      <th>2</th>\n",
              "      <td>171.2</td>\n",
              "      <td>65.5</td>\n",
              "      <td>52.4</td>\n",
              "    </tr>\n",
              "    <tr>\n",
              "      <th>3</th>\n",
              "      <td>176.6</td>\n",
              "      <td>66.2</td>\n",
              "      <td>54.3</td>\n",
              "    </tr>\n",
              "    <tr>\n",
              "      <th>4</th>\n",
              "      <td>176.6</td>\n",
              "      <td>66.4</td>\n",
              "      <td>54.3</td>\n",
              "    </tr>\n",
              "  </tbody>\n",
              "</table>\n",
              "</div>\n",
              "      <button class=\"colab-df-convert\" onclick=\"convertToInteractive('df-ac4791de-4659-4ccc-9b1c-f066cf487348')\"\n",
              "              title=\"Convert this dataframe to an interactive table.\"\n",
              "              style=\"display:none;\">\n",
              "        \n",
              "  <svg xmlns=\"http://www.w3.org/2000/svg\" height=\"24px\"viewBox=\"0 0 24 24\"\n",
              "       width=\"24px\">\n",
              "    <path d=\"M0 0h24v24H0V0z\" fill=\"none\"/>\n",
              "    <path d=\"M18.56 5.44l.94 2.06.94-2.06 2.06-.94-2.06-.94-.94-2.06-.94 2.06-2.06.94zm-11 1L8.5 8.5l.94-2.06 2.06-.94-2.06-.94L8.5 2.5l-.94 2.06-2.06.94zm10 10l.94 2.06.94-2.06 2.06-.94-2.06-.94-.94-2.06-.94 2.06-2.06.94z\"/><path d=\"M17.41 7.96l-1.37-1.37c-.4-.4-.92-.59-1.43-.59-.52 0-1.04.2-1.43.59L10.3 9.45l-7.72 7.72c-.78.78-.78 2.05 0 2.83L4 21.41c.39.39.9.59 1.41.59.51 0 1.02-.2 1.41-.59l7.78-7.78 2.81-2.81c.8-.78.8-2.07 0-2.86zM5.41 20L4 18.59l7.72-7.72 1.47 1.35L5.41 20z\"/>\n",
              "  </svg>\n",
              "      </button>\n",
              "      \n",
              "  <style>\n",
              "    .colab-df-container {\n",
              "      display:flex;\n",
              "      flex-wrap:wrap;\n",
              "      gap: 12px;\n",
              "    }\n",
              "\n",
              "    .colab-df-convert {\n",
              "      background-color: #E8F0FE;\n",
              "      border: none;\n",
              "      border-radius: 50%;\n",
              "      cursor: pointer;\n",
              "      display: none;\n",
              "      fill: #1967D2;\n",
              "      height: 32px;\n",
              "      padding: 0 0 0 0;\n",
              "      width: 32px;\n",
              "    }\n",
              "\n",
              "    .colab-df-convert:hover {\n",
              "      background-color: #E2EBFA;\n",
              "      box-shadow: 0px 1px 2px rgba(60, 64, 67, 0.3), 0px 1px 3px 1px rgba(60, 64, 67, 0.15);\n",
              "      fill: #174EA6;\n",
              "    }\n",
              "\n",
              "    [theme=dark] .colab-df-convert {\n",
              "      background-color: #3B4455;\n",
              "      fill: #D2E3FC;\n",
              "    }\n",
              "\n",
              "    [theme=dark] .colab-df-convert:hover {\n",
              "      background-color: #434B5C;\n",
              "      box-shadow: 0px 1px 3px 1px rgba(0, 0, 0, 0.15);\n",
              "      filter: drop-shadow(0px 1px 2px rgba(0, 0, 0, 0.3));\n",
              "      fill: #FFFFFF;\n",
              "    }\n",
              "  </style>\n",
              "\n",
              "      <script>\n",
              "        const buttonEl =\n",
              "          document.querySelector('#df-ac4791de-4659-4ccc-9b1c-f066cf487348 button.colab-df-convert');\n",
              "        buttonEl.style.display =\n",
              "          google.colab.kernel.accessAllowed ? 'block' : 'none';\n",
              "\n",
              "        async function convertToInteractive(key) {\n",
              "          const element = document.querySelector('#df-ac4791de-4659-4ccc-9b1c-f066cf487348');\n",
              "          const dataTable =\n",
              "            await google.colab.kernel.invokeFunction('convertToInteractive',\n",
              "                                                     [key], {});\n",
              "          if (!dataTable) return;\n",
              "\n",
              "          const docLinkHtml = 'Like what you see? Visit the ' +\n",
              "            '<a target=\"_blank\" href=https://colab.research.google.com/notebooks/data_table.ipynb>data table notebook</a>'\n",
              "            + ' to learn more about interactive tables.';\n",
              "          element.innerHTML = '';\n",
              "          dataTable['output_type'] = 'display_data';\n",
              "          await google.colab.output.renderOutput(dataTable, element);\n",
              "          const docLink = document.createElement('div');\n",
              "          docLink.innerHTML = docLinkHtml;\n",
              "          element.appendChild(docLink);\n",
              "        }\n",
              "      </script>\n",
              "    </div>\n",
              "  </div>\n",
              "  "
            ]
          },
          "metadata": {},
          "execution_count": 107
        }
      ]
    },
    {
      "cell_type": "markdown",
      "source": [
        "Se requiere normalizar estos valores para que su rango sea consistente.\n",
        "La gran diferencia entre sus rangos hace difícil el análisis de los datos. Por ejemplo, si se requiere hacer una regresión lineal, entre dos columnas, la columna de rango mayor influencierá demasiado el valor de los resultados. Para solucionar esto, los datos son normalizados para que queden en un rango entre 0 y 1."
      ],
      "metadata": {
        "id": "JMFFTyhq0ySw"
      }
    },
    {
      "cell_type": "markdown",
      "source": [
        "Existen diferentes métodos de normalización:"
      ],
      "metadata": {
        "id": "NGmznB6o3hqj"
      }
    },
    {
      "cell_type": "markdown",
      "source": [
        "**Escalamiento simple**\n",
        "\n",
        "$x_{new}=\\frac{x_{old}}{x_{max}}$\n",
        "\n",
        "**Min-Max**\n",
        "\n",
        "$x_{new}=\\frac{x_{old}-x_{min}}{x_{max}-x_{min}}$\n",
        "\n",
        "**Z-score**\n",
        "\n",
        "$x_{new}=\\frac{x_{old}-\\mu}{\\sigma}$\n"
      ],
      "metadata": {
        "id": "4-Z111Et7Nm6"
      }
    },
    {
      "cell_type": "markdown",
      "source": [
        "Aplicaremos estos métodos utilizando Pandas:"
      ],
      "metadata": {
        "id": "L3Tp4Qh2A14_"
      }
    },
    {
      "cell_type": "code",
      "source": [
        "dfc1=df.copy()\n",
        "dfc2=df.copy()\n",
        "dfc3=df.copy()"
      ],
      "metadata": {
        "id": "r5QQmONaBMDi"
      },
      "execution_count": 108,
      "outputs": []
    },
    {
      "cell_type": "code",
      "source": [
        "# Escalamiento simple\n",
        "dfc1[\"length\"]=dfc1[\"length\"]/dfc1[\"length\"].max()\n",
        "dfc1[\"length\"].head()"
      ],
      "metadata": {
        "colab": {
          "base_uri": "https://localhost:8080/"
        },
        "id": "GFTKg6kFBROR",
        "outputId": "975ca1f1-63f0-4c68-e477-3ac8c6094930"
      },
      "execution_count": 109,
      "outputs": [
        {
          "output_type": "execute_result",
          "data": {
            "text/plain": [
              "0    0.811148\n",
              "1    0.811148\n",
              "2    0.822681\n",
              "3    0.848630\n",
              "4    0.848630\n",
              "Name: length, dtype: float64"
            ]
          },
          "metadata": {},
          "execution_count": 109
        }
      ]
    },
    {
      "cell_type": "code",
      "source": [
        "# Escalamiento Min-Max\n",
        "dfc2[\"length\"]=(dfc2[\"length\"]-dfc2[\"length\"].min())/(dfc2[\"length\"].max()-dfc2[\"length\"].min())\n",
        "dfc2[\"length\"].head()"
      ],
      "metadata": {
        "colab": {
          "base_uri": "https://localhost:8080/"
        },
        "id": "1_dDabMlCyGk",
        "outputId": "261903e5-5c6b-4c68-f1a6-e220be93fd3a"
      },
      "execution_count": 110,
      "outputs": [
        {
          "output_type": "execute_result",
          "data": {
            "text/plain": [
              "0    0.413433\n",
              "1    0.413433\n",
              "2    0.449254\n",
              "3    0.529851\n",
              "4    0.529851\n",
              "Name: length, dtype: float64"
            ]
          },
          "metadata": {},
          "execution_count": 110
        }
      ]
    },
    {
      "cell_type": "code",
      "source": [
        "# Escalamiento Z-score\n",
        "dfc3[\"length\"]=(dfc3[\"length\"]-dfc3[\"length\"].mean())/dfc3[\"length\"].std()\n",
        "dfc3[\"length\"].head()"
      ],
      "metadata": {
        "colab": {
          "base_uri": "https://localhost:8080/"
        },
        "id": "iZmjh3ZLD2LK",
        "outputId": "6f2ac729-9917-4978-95bd-0d9a205de6ee"
      },
      "execution_count": 111,
      "outputs": [
        {
          "output_type": "execute_result",
          "data": {
            "text/plain": [
              "0   -0.425480\n",
              "1   -0.425480\n",
              "2   -0.230948\n",
              "3    0.206750\n",
              "4    0.206750\n",
              "Name: length, dtype: float64"
            ]
          },
          "metadata": {},
          "execution_count": 111
        }
      ]
    },
    {
      "cell_type": "markdown",
      "source": [
        "Los valores del escalamiento z-score van desde -3 a 3."
      ],
      "metadata": {
        "id": "YgxXjCo9ESjg"
      }
    },
    {
      "cell_type": "markdown",
      "source": [
        "---\n",
        "##**Clasificación (*Binning*) de Datos en Python**"
      ],
      "metadata": {
        "id": "7LMlUtnWEtiq"
      }
    },
    {
      "cell_type": "markdown",
      "source": [
        "*Binning* se refiere a agrupar los valores en bins.\n",
        "\n",
        "Se utiliza para convertir variables numéricas en variables categóricas.\n",
        "\n",
        "Agrupa conjuntos de datos numéricos en un set de bins.\n",
        "\n",
        "Por ejemplo, el precio de los vehículos se puede representar en rangos y representarlos como bajo, medio y alto."
      ],
      "metadata": {
        "id": "5VoCEaSkFhLG"
      }
    },
    {
      "cell_type": "code",
      "source": [
        "import numpy as np\n",
        "bins=np.linspace(min(df[\"price\"]),max(df[\"price\"]),4)\n",
        "group_names=[\"Low\",\"Medium\",\"High\"]\n",
        "df[\"price-binned\"]=pd.cut(df[\"price\"],bins,labels=group_names,include_lowest=True)\n",
        "df[[\"price\",\"price-binned\"]].head()"
      ],
      "metadata": {
        "colab": {
          "base_uri": "https://localhost:8080/",
          "height": 206
        },
        "id": "jtF4eMkqIw22",
        "outputId": "75aa8684-8756-4e4f-f410-aca7b548e627"
      },
      "execution_count": 112,
      "outputs": [
        {
          "output_type": "execute_result",
          "data": {
            "text/plain": [
              "     price price-binned\n",
              "0  13495.0          Low\n",
              "1  16500.0          Low\n",
              "2  16500.0          Low\n",
              "3  13950.0          Low\n",
              "4  17450.0          Low"
            ],
            "text/html": [
              "\n",
              "  <div id=\"df-85c76a8d-7930-4e45-b050-2cffc54b09a0\">\n",
              "    <div class=\"colab-df-container\">\n",
              "      <div>\n",
              "<style scoped>\n",
              "    .dataframe tbody tr th:only-of-type {\n",
              "        vertical-align: middle;\n",
              "    }\n",
              "\n",
              "    .dataframe tbody tr th {\n",
              "        vertical-align: top;\n",
              "    }\n",
              "\n",
              "    .dataframe thead th {\n",
              "        text-align: right;\n",
              "    }\n",
              "</style>\n",
              "<table border=\"1\" class=\"dataframe\">\n",
              "  <thead>\n",
              "    <tr style=\"text-align: right;\">\n",
              "      <th></th>\n",
              "      <th>price</th>\n",
              "      <th>price-binned</th>\n",
              "    </tr>\n",
              "  </thead>\n",
              "  <tbody>\n",
              "    <tr>\n",
              "      <th>0</th>\n",
              "      <td>13495.0</td>\n",
              "      <td>Low</td>\n",
              "    </tr>\n",
              "    <tr>\n",
              "      <th>1</th>\n",
              "      <td>16500.0</td>\n",
              "      <td>Low</td>\n",
              "    </tr>\n",
              "    <tr>\n",
              "      <th>2</th>\n",
              "      <td>16500.0</td>\n",
              "      <td>Low</td>\n",
              "    </tr>\n",
              "    <tr>\n",
              "      <th>3</th>\n",
              "      <td>13950.0</td>\n",
              "      <td>Low</td>\n",
              "    </tr>\n",
              "    <tr>\n",
              "      <th>4</th>\n",
              "      <td>17450.0</td>\n",
              "      <td>Low</td>\n",
              "    </tr>\n",
              "  </tbody>\n",
              "</table>\n",
              "</div>\n",
              "      <button class=\"colab-df-convert\" onclick=\"convertToInteractive('df-85c76a8d-7930-4e45-b050-2cffc54b09a0')\"\n",
              "              title=\"Convert this dataframe to an interactive table.\"\n",
              "              style=\"display:none;\">\n",
              "        \n",
              "  <svg xmlns=\"http://www.w3.org/2000/svg\" height=\"24px\"viewBox=\"0 0 24 24\"\n",
              "       width=\"24px\">\n",
              "    <path d=\"M0 0h24v24H0V0z\" fill=\"none\"/>\n",
              "    <path d=\"M18.56 5.44l.94 2.06.94-2.06 2.06-.94-2.06-.94-.94-2.06-.94 2.06-2.06.94zm-11 1L8.5 8.5l.94-2.06 2.06-.94-2.06-.94L8.5 2.5l-.94 2.06-2.06.94zm10 10l.94 2.06.94-2.06 2.06-.94-2.06-.94-.94-2.06-.94 2.06-2.06.94z\"/><path d=\"M17.41 7.96l-1.37-1.37c-.4-.4-.92-.59-1.43-.59-.52 0-1.04.2-1.43.59L10.3 9.45l-7.72 7.72c-.78.78-.78 2.05 0 2.83L4 21.41c.39.39.9.59 1.41.59.51 0 1.02-.2 1.41-.59l7.78-7.78 2.81-2.81c.8-.78.8-2.07 0-2.86zM5.41 20L4 18.59l7.72-7.72 1.47 1.35L5.41 20z\"/>\n",
              "  </svg>\n",
              "      </button>\n",
              "      \n",
              "  <style>\n",
              "    .colab-df-container {\n",
              "      display:flex;\n",
              "      flex-wrap:wrap;\n",
              "      gap: 12px;\n",
              "    }\n",
              "\n",
              "    .colab-df-convert {\n",
              "      background-color: #E8F0FE;\n",
              "      border: none;\n",
              "      border-radius: 50%;\n",
              "      cursor: pointer;\n",
              "      display: none;\n",
              "      fill: #1967D2;\n",
              "      height: 32px;\n",
              "      padding: 0 0 0 0;\n",
              "      width: 32px;\n",
              "    }\n",
              "\n",
              "    .colab-df-convert:hover {\n",
              "      background-color: #E2EBFA;\n",
              "      box-shadow: 0px 1px 2px rgba(60, 64, 67, 0.3), 0px 1px 3px 1px rgba(60, 64, 67, 0.15);\n",
              "      fill: #174EA6;\n",
              "    }\n",
              "\n",
              "    [theme=dark] .colab-df-convert {\n",
              "      background-color: #3B4455;\n",
              "      fill: #D2E3FC;\n",
              "    }\n",
              "\n",
              "    [theme=dark] .colab-df-convert:hover {\n",
              "      background-color: #434B5C;\n",
              "      box-shadow: 0px 1px 3px 1px rgba(0, 0, 0, 0.15);\n",
              "      filter: drop-shadow(0px 1px 2px rgba(0, 0, 0, 0.3));\n",
              "      fill: #FFFFFF;\n",
              "    }\n",
              "  </style>\n",
              "\n",
              "      <script>\n",
              "        const buttonEl =\n",
              "          document.querySelector('#df-85c76a8d-7930-4e45-b050-2cffc54b09a0 button.colab-df-convert');\n",
              "        buttonEl.style.display =\n",
              "          google.colab.kernel.accessAllowed ? 'block' : 'none';\n",
              "\n",
              "        async function convertToInteractive(key) {\n",
              "          const element = document.querySelector('#df-85c76a8d-7930-4e45-b050-2cffc54b09a0');\n",
              "          const dataTable =\n",
              "            await google.colab.kernel.invokeFunction('convertToInteractive',\n",
              "                                                     [key], {});\n",
              "          if (!dataTable) return;\n",
              "\n",
              "          const docLinkHtml = 'Like what you see? Visit the ' +\n",
              "            '<a target=\"_blank\" href=https://colab.research.google.com/notebooks/data_table.ipynb>data table notebook</a>'\n",
              "            + ' to learn more about interactive tables.';\n",
              "          element.innerHTML = '';\n",
              "          dataTable['output_type'] = 'display_data';\n",
              "          await google.colab.output.renderOutput(dataTable, element);\n",
              "          const docLink = document.createElement('div');\n",
              "          docLink.innerHTML = docLinkHtml;\n",
              "          element.appendChild(docLink);\n",
              "        }\n",
              "      </script>\n",
              "    </div>\n",
              "  </div>\n",
              "  "
            ]
          },
          "metadata": {},
          "execution_count": 112
        }
      ]
    },
    {
      "cell_type": "markdown",
      "source": [
        "Se pueden visualizar estos datos demanera más sencilla mediante un histograma verificando la distribución de los datos en estas tres secciones."
      ],
      "metadata": {
        "id": "K0PU3N1xKLeh"
      }
    },
    {
      "cell_type": "code",
      "source": [
        "%matplotlib inline\n",
        "import matplotlib as plt\n",
        "from matplotlib import pyplot\n",
        "\n",
        "plt.pyplot.hist(df[\"price\"], bins = 3)\n",
        "\n",
        "plt.pyplot.xlabel(\"Precio\")\n",
        "plt.pyplot.ylabel(\"Cantidad\")\n",
        "plt.pyplot.title(\"Agrupaciones de Precio\")"
      ],
      "metadata": {
        "colab": {
          "base_uri": "https://localhost:8080/",
          "height": 312
        },
        "id": "sWVo5GnvV4mL",
        "outputId": "d5427f71-00b5-4f00-dd02-722b866594bd"
      },
      "execution_count": 113,
      "outputs": [
        {
          "output_type": "execute_result",
          "data": {
            "text/plain": [
              "Text(0.5, 1.0, 'Agrupaciones de Precio')"
            ]
          },
          "metadata": {},
          "execution_count": 113
        },
        {
          "output_type": "display_data",
          "data": {
            "text/plain": [
              "<Figure size 432x288 with 1 Axes>"
            ],
            "image/png": "[encoded data removed]"
          },
          "metadata": {
            "needs_background": "light"
          }
        }
      ]
    },
    {
      "cell_type": "code",
      "source": [
        "%matplotlib inline\n",
        "import matplotlib as plt\n",
        "from matplotlib import pyplot\n",
        "pyplot.bar(group_names, df[\"price-binned\"].value_counts())\n",
        "\n",
        "plt.pyplot.xlabel(\"Precio\")\n",
        "plt.pyplot.ylabel(\"Cantidad\")\n",
        "plt.pyplot.title(\"Agrupaciones de Precio\")"
      ],
      "metadata": {
        "colab": {
          "base_uri": "https://localhost:8080/",
          "height": 312
        },
        "id": "WIJTg9sHXDeL",
        "outputId": "3a9a81d9-3647-4a75-dd48-c6cad8373942"
      },
      "execution_count": 114,
      "outputs": [
        {
          "output_type": "execute_result",
          "data": {
            "text/plain": [
              "Text(0.5, 1.0, 'Agrupaciones de Precio')"
            ]
          },
          "metadata": {},
          "execution_count": 114
        },
        {
          "output_type": "display_data",
          "data": {
            "text/plain": [
              "<Figure size 432x288 with 1 Axes>"
            ],
            "image/png": "[encoded data removed]"
          },
          "metadata": {
            "needs_background": "light"
          }
        }
      ]
    },
    {
      "cell_type": "markdown",
      "source": [
        "---\n",
        "##**Convertir variables categóricas en variables cuantitativas en Python**"
      ],
      "metadata": {
        "id": "d2temoStKheL"
      }
    },
    {
      "cell_type": "markdown",
      "source": [
        "La mayoría de los modelos estadísticos solo toman variables numéricas de entrada, por eso es necesario convertir las variables categóricas a variables numéricas.\n",
        "\n",
        "En nuestro conjunto de datos de autos, la variable categórica *fuel-type* tiene dos valores: gas o diesel.\n",
        "\n",
        "Para solucionar esto, se agregan dos nuevas variables correspondiente a los valores únicos dentro de la variable categórica, es decir, dos columnas llamadas gas y diesel. Así cuando el auto es de gas, la variable categórica de gas llevara el número 1, de lo contrario llevará un 0.\n",
        "\n",
        "Esta técnica es llamada *one-hot encoding*\n",
        "\n",
        "Para aplicar esta técnica en Python, se hace uso del método *get_dummies()* que convierte las variables categóricas a variables dummy."
      ],
      "metadata": {
        "id": "3-yWMnM7KoAn"
      }
    },
    {
      "cell_type": "code",
      "source": [
        "pd.get_dummies(df[\"fuel-type\"])"
      ],
      "metadata": {
        "colab": {
          "base_uri": "https://localhost:8080/",
          "height": 424
        },
        "id": "buwRdBi1Q0LU",
        "outputId": "1153ab31-3496-4543-c456-ba280bfbe578"
      },
      "execution_count": 115,
      "outputs": [
        {
          "output_type": "execute_result",
          "data": {
            "text/plain": [
              "     diesel  gas\n",
              "0         0    1\n",
              "1         0    1\n",
              "2         0    1\n",
              "3         0    1\n",
              "4         0    1\n",
              "..      ...  ...\n",
              "200       0    1\n",
              "201       0    1\n",
              "202       0    1\n",
              "203       1    0\n",
              "204       0    1\n",
              "\n",
              "[205 rows x 2 columns]"
            ],
            "text/html": [
              "\n",
              "  <div id=\"df-0dcaaf1c-ee48-4fa5-ab25-1e4652753d1b\">\n",
              "    <div class=\"colab-df-container\">\n",
              "      <div>\n",
              "<style scoped>\n",
              "    .dataframe tbody tr th:only-of-type {\n",
              "        vertical-align: middle;\n",
              "    }\n",
              "\n",
              "    .dataframe tbody tr th {\n",
              "        vertical-align: top;\n",
              "    }\n",
              "\n",
              "    .dataframe thead th {\n",
              "        text-align: right;\n",
              "    }\n",
              "</style>\n",
              "<table border=\"1\" class=\"dataframe\">\n",
              "  <thead>\n",
              "    <tr style=\"text-align: right;\">\n",
              "      <th></th>\n",
              "      <th>diesel</th>\n",
              "      <th>gas</th>\n",
              "    </tr>\n",
              "  </thead>\n",
              "  <tbody>\n",
              "    <tr>\n",
              "      <th>0</th>\n",
              "      <td>0</td>\n",
              "      <td>1</td>\n",
              "    </tr>\n",
              "    <tr>\n",
              "      <th>1</th>\n",
              "      <td>0</td>\n",
              "      <td>1</td>\n",
              "    </tr>\n",
              "    <tr>\n",
              "      <th>2</th>\n",
              "      <td>0</td>\n",
              "      <td>1</td>\n",
              "    </tr>\n",
              "    <tr>\n",
              "      <th>3</th>\n",
              "      <td>0</td>\n",
              "      <td>1</td>\n",
              "    </tr>\n",
              "    <tr>\n",
              "      <th>4</th>\n",
              "      <td>0</td>\n",
              "      <td>1</td>\n",
              "    </tr>\n",
              "    <tr>\n",
              "      <th>...</th>\n",
              "      <td>...</td>\n",
              "      <td>...</td>\n",
              "    </tr>\n",
              "    <tr>\n",
              "      <th>200</th>\n",
              "      <td>0</td>\n",
              "      <td>1</td>\n",
              "    </tr>\n",
              "    <tr>\n",
              "      <th>201</th>\n",
              "      <td>0</td>\n",
              "      <td>1</td>\n",
              "    </tr>\n",
              "    <tr>\n",
              "      <th>202</th>\n",
              "      <td>0</td>\n",
              "      <td>1</td>\n",
              "    </tr>\n",
              "    <tr>\n",
              "      <th>203</th>\n",
              "      <td>1</td>\n",
              "      <td>0</td>\n",
              "    </tr>\n",
              "    <tr>\n",
              "      <th>204</th>\n",
              "      <td>0</td>\n",
              "      <td>1</td>\n",
              "    </tr>\n",
              "  </tbody>\n",
              "</table>\n",
              "<p>205 rows × 2 columns</p>\n",
              "</div>\n",
              "      <button class=\"colab-df-convert\" onclick=\"convertToInteractive('df-0dcaaf1c-ee48-4fa5-ab25-1e4652753d1b')\"\n",
              "              title=\"Convert this dataframe to an interactive table.\"\n",
              "              style=\"display:none;\">\n",
              "        \n",
              "  <svg xmlns=\"http://www.w3.org/2000/svg\" height=\"24px\"viewBox=\"0 0 24 24\"\n",
              "       width=\"24px\">\n",
              "    <path d=\"M0 0h24v24H0V0z\" fill=\"none\"/>\n",
              "    <path d=\"M18.56 5.44l.94 2.06.94-2.06 2.06-.94-2.06-.94-.94-2.06-.94 2.06-2.06.94zm-11 1L8.5 8.5l.94-2.06 2.06-.94-2.06-.94L8.5 2.5l-.94 2.06-2.06.94zm10 10l.94 2.06.94-2.06 2.06-.94-2.06-.94-.94-2.06-.94 2.06-2.06.94z\"/><path d=\"M17.41 7.96l-1.37-1.37c-.4-.4-.92-.59-1.43-.59-.52 0-1.04.2-1.43.59L10.3 9.45l-7.72 7.72c-.78.78-.78 2.05 0 2.83L4 21.41c.39.39.9.59 1.41.59.51 0 1.02-.2 1.41-.59l7.78-7.78 2.81-2.81c.8-.78.8-2.07 0-2.86zM5.41 20L4 18.59l7.72-7.72 1.47 1.35L5.41 20z\"/>\n",
              "  </svg>\n",
              "      </button>\n",
              "      \n",
              "  <style>\n",
              "    .colab-df-container {\n",
              "      display:flex;\n",
              "      flex-wrap:wrap;\n",
              "      gap: 12px;\n",
              "    }\n",
              "\n",
              "    .colab-df-convert {\n",
              "      background-color: #E8F0FE;\n",
              "      border: none;\n",
              "      border-radius: 50%;\n",
              "      cursor: pointer;\n",
              "      display: none;\n",
              "      fill: #1967D2;\n",
              "      height: 32px;\n",
              "      padding: 0 0 0 0;\n",
              "      width: 32px;\n",
              "    }\n",
              "\n",
              "    .colab-df-convert:hover {\n",
              "      background-color: #E2EBFA;\n",
              "      box-shadow: 0px 1px 2px rgba(60, 64, 67, 0.3), 0px 1px 3px 1px rgba(60, 64, 67, 0.15);\n",
              "      fill: #174EA6;\n",
              "    }\n",
              "\n",
              "    [theme=dark] .colab-df-convert {\n",
              "      background-color: #3B4455;\n",
              "      fill: #D2E3FC;\n",
              "    }\n",
              "\n",
              "    [theme=dark] .colab-df-convert:hover {\n",
              "      background-color: #434B5C;\n",
              "      box-shadow: 0px 1px 3px 1px rgba(0, 0, 0, 0.15);\n",
              "      filter: drop-shadow(0px 1px 2px rgba(0, 0, 0, 0.3));\n",
              "      fill: #FFFFFF;\n",
              "    }\n",
              "  </style>\n",
              "\n",
              "      <script>\n",
              "        const buttonEl =\n",
              "          document.querySelector('#df-0dcaaf1c-ee48-4fa5-ab25-1e4652753d1b button.colab-df-convert');\n",
              "        buttonEl.style.display =\n",
              "          google.colab.kernel.accessAllowed ? 'block' : 'none';\n",
              "\n",
              "        async function convertToInteractive(key) {\n",
              "          const element = document.querySelector('#df-0dcaaf1c-ee48-4fa5-ab25-1e4652753d1b');\n",
              "          const dataTable =\n",
              "            await google.colab.kernel.invokeFunction('convertToInteractive',\n",
              "                                                     [key], {});\n",
              "          if (!dataTable) return;\n",
              "\n",
              "          const docLinkHtml = 'Like what you see? Visit the ' +\n",
              "            '<a target=\"_blank\" href=https://colab.research.google.com/notebooks/data_table.ipynb>data table notebook</a>'\n",
              "            + ' to learn more about interactive tables.';\n",
              "          element.innerHTML = '';\n",
              "          dataTable['output_type'] = 'display_data';\n",
              "          await google.colab.output.renderOutput(dataTable, element);\n",
              "          const docLink = document.createElement('div');\n",
              "          docLink.innerHTML = docLinkHtml;\n",
              "          element.appendChild(docLink);\n",
              "        }\n",
              "      </script>\n",
              "    </div>\n",
              "  </div>\n",
              "  "
            ]
          },
          "metadata": {},
          "execution_count": 115
        }
      ]
    },
    {
      "cell_type": "markdown",
      "source": [
        "---\n",
        "##**Lab 2**"
      ],
      "metadata": {
        "id": "mOV51n4bO271"
      }
    },
    {
      "cell_type": "markdown",
      "source": [
        "Para evaluar los datos nulos en el conjunto de datos:"
      ],
      "metadata": {
        "id": "R1Oi8cDYS3-U"
      }
    },
    {
      "cell_type": "code",
      "source": [
        "missing_data = df.isnull()\n",
        "missing_data.head(5)"
      ],
      "metadata": {
        "colab": {
          "base_uri": "https://localhost:8080/",
          "height": 334
        },
        "id": "XWwCCZMnS7la",
        "outputId": "0496d19e-9039-4c6e-bb8b-a8f316030267"
      },
      "execution_count": 116,
      "outputs": [
        {
          "output_type": "execute_result",
          "data": {
            "text/plain": [
              "   symboling  normalized-losses   make  fuel-type  aspiration  num-of-doors  \\\n",
              "0      False              False  False      False       False         False   \n",
              "1      False              False  False      False       False         False   \n",
              "2      False              False  False      False       False         False   \n",
              "3      False              False  False      False       False         False   \n",
              "4      False              False  False      False       False         False   \n",
              "\n",
              "   body-style  drive-wheels  engine-location  wheel-base  ...  fuel-system  \\\n",
              "0       False         False            False       False  ...        False   \n",
              "1       False         False            False       False  ...        False   \n",
              "2       False         False            False       False  ...        False   \n",
              "3       False         False            False       False  ...        False   \n",
              "4       False         False            False       False  ...        False   \n",
              "\n",
              "    bore  stroke  compression-ratio  horsepower  peak-rpm  city-L/100km  \\\n",
              "0  False   False              False       False     False         False   \n",
              "1  False   False              False       False     False         False   \n",
              "2  False   False              False       False     False         False   \n",
              "3  False   False              False       False     False         False   \n",
              "4  False   False              False       False     False         False   \n",
              "\n",
              "   highway-mpg  price  price-binned  \n",
              "0        False  False         False  \n",
              "1        False  False         False  \n",
              "2        False  False         False  \n",
              "3        False  False         False  \n",
              "4        False  False         False  \n",
              "\n",
              "[5 rows x 27 columns]"
            ],
            "text/html": [
              "\n",
              "  <div id=\"df-40a8f5cd-1fb9-407c-8137-0535aa62e3a3\">\n",
              "    <div class=\"colab-df-container\">\n",
              "      <div>\n",
              "<style scoped>\n",
              "    .dataframe tbody tr th:only-of-type {\n",
              "        vertical-align: middle;\n",
              "    }\n",
              "\n",
              "    .dataframe tbody tr th {\n",
              "        vertical-align: top;\n",
              "    }\n",
              "\n",
              "    .dataframe thead th {\n",
              "        text-align: right;\n",
              "    }\n",
              "</style>\n",
              "<table border=\"1\" class=\"dataframe\">\n",
              "  <thead>\n",
              "    <tr style=\"text-align: right;\">\n",
              "      <th></th>\n",
              "      <th>symboling</th>\n",
              "      <th>normalized-losses</th>\n",
              "      <th>make</th>\n",
              "      <th>fuel-type</th>\n",
              "      <th>aspiration</th>\n",
              "      <th>num-of-doors</th>\n",
              "      <th>body-style</th>\n",
              "      <th>drive-wheels</th>\n",
              "      <th>engine-location</th>\n",
              "      <th>wheel-base</th>\n",
              "      <th>...</th>\n",
              "      <th>fuel-system</th>\n",
              "      <th>bore</th>\n",
              "      <th>stroke</th>\n",
              "      <th>compression-ratio</th>\n",
              "      <th>horsepower</th>\n",
              "      <th>peak-rpm</th>\n",
              "      <th>city-L/100km</th>\n",
              "      <th>highway-mpg</th>\n",
              "      <th>price</th>\n",
              "      <th>price-binned</th>\n",
              "    </tr>\n",
              "  </thead>\n",
              "  <tbody>\n",
              "    <tr>\n",
              "      <th>0</th>\n",
              "      <td>False</td>\n",
              "      <td>False</td>\n",
              "      <td>False</td>\n",
              "      <td>False</td>\n",
              "      <td>False</td>\n",
              "      <td>False</td>\n",
              "      <td>False</td>\n",
              "      <td>False</td>\n",
              "      <td>False</td>\n",
              "      <td>False</td>\n",
              "      <td>...</td>\n",
              "      <td>False</td>\n",
              "      <td>False</td>\n",
              "      <td>False</td>\n",
              "      <td>False</td>\n",
              "      <td>False</td>\n",
              "      <td>False</td>\n",
              "      <td>False</td>\n",
              "      <td>False</td>\n",
              "      <td>False</td>\n",
              "      <td>False</td>\n",
              "    </tr>\n",
              "    <tr>\n",
              "      <th>1</th>\n",
              "      <td>False</td>\n",
              "      <td>False</td>\n",
              "      <td>False</td>\n",
              "      <td>False</td>\n",
              "      <td>False</td>\n",
              "      <td>False</td>\n",
              "      <td>False</td>\n",
              "      <td>False</td>\n",
              "      <td>False</td>\n",
              "      <td>False</td>\n",
              "      <td>...</td>\n",
              "      <td>False</td>\n",
              "      <td>False</td>\n",
              "      <td>False</td>\n",
              "      <td>False</td>\n",
              "      <td>False</td>\n",
              "      <td>False</td>\n",
              "      <td>False</td>\n",
              "      <td>False</td>\n",
              "      <td>False</td>\n",
              "      <td>False</td>\n",
              "    </tr>\n",
              "    <tr>\n",
              "      <th>2</th>\n",
              "      <td>False</td>\n",
              "      <td>False</td>\n",
              "      <td>False</td>\n",
              "      <td>False</td>\n",
              "      <td>False</td>\n",
              "      <td>False</td>\n",
              "      <td>False</td>\n",
              "      <td>False</td>\n",
              "      <td>False</td>\n",
              "      <td>False</td>\n",
              "      <td>...</td>\n",
              "      <td>False</td>\n",
              "      <td>False</td>\n",
              "      <td>False</td>\n",
              "      <td>False</td>\n",
              "      <td>False</td>\n",
              "      <td>False</td>\n",
              "      <td>False</td>\n",
              "      <td>False</td>\n",
              "      <td>False</td>\n",
              "      <td>False</td>\n",
              "    </tr>\n",
              "    <tr>\n",
              "      <th>3</th>\n",
              "      <td>False</td>\n",
              "      <td>False</td>\n",
              "      <td>False</td>\n",
              "      <td>False</td>\n",
              "      <td>False</td>\n",
              "      <td>False</td>\n",
              "      <td>False</td>\n",
              "      <td>False</td>\n",
              "      <td>False</td>\n",
              "      <td>False</td>\n",
              "      <td>...</td>\n",
              "      <td>False</td>\n",
              "      <td>False</td>\n",
              "      <td>False</td>\n",
              "      <td>False</td>\n",
              "      <td>False</td>\n",
              "      <td>False</td>\n",
              "      <td>False</td>\n",
              "      <td>False</td>\n",
              "      <td>False</td>\n",
              "      <td>False</td>\n",
              "    </tr>\n",
              "    <tr>\n",
              "      <th>4</th>\n",
              "      <td>False</td>\n",
              "      <td>False</td>\n",
              "      <td>False</td>\n",
              "      <td>False</td>\n",
              "      <td>False</td>\n",
              "      <td>False</td>\n",
              "      <td>False</td>\n",
              "      <td>False</td>\n",
              "      <td>False</td>\n",
              "      <td>False</td>\n",
              "      <td>...</td>\n",
              "      <td>False</td>\n",
              "      <td>False</td>\n",
              "      <td>False</td>\n",
              "      <td>False</td>\n",
              "      <td>False</td>\n",
              "      <td>False</td>\n",
              "      <td>False</td>\n",
              "      <td>False</td>\n",
              "      <td>False</td>\n",
              "      <td>False</td>\n",
              "    </tr>\n",
              "  </tbody>\n",
              "</table>\n",
              "<p>5 rows × 27 columns</p>\n",
              "</div>\n",
              "      <button class=\"colab-df-convert\" onclick=\"convertToInteractive('df-40a8f5cd-1fb9-407c-8137-0535aa62e3a3')\"\n",
              "              title=\"Convert this dataframe to an interactive table.\"\n",
              "              style=\"display:none;\">\n",
              "        \n",
              "  <svg xmlns=\"http://www.w3.org/2000/svg\" height=\"24px\"viewBox=\"0 0 24 24\"\n",
              "       width=\"24px\">\n",
              "    <path d=\"M0 0h24v24H0V0z\" fill=\"none\"/>\n",
              "    <path d=\"M18.56 5.44l.94 2.06.94-2.06 2.06-.94-2.06-.94-.94-2.06-.94 2.06-2.06.94zm-11 1L8.5 8.5l.94-2.06 2.06-.94-2.06-.94L8.5 2.5l-.94 2.06-2.06.94zm10 10l.94 2.06.94-2.06 2.06-.94-2.06-.94-.94-2.06-.94 2.06-2.06.94z\"/><path d=\"M17.41 7.96l-1.37-1.37c-.4-.4-.92-.59-1.43-.59-.52 0-1.04.2-1.43.59L10.3 9.45l-7.72 7.72c-.78.78-.78 2.05 0 2.83L4 21.41c.39.39.9.59 1.41.59.51 0 1.02-.2 1.41-.59l7.78-7.78 2.81-2.81c.8-.78.8-2.07 0-2.86zM5.41 20L4 18.59l7.72-7.72 1.47 1.35L5.41 20z\"/>\n",
              "  </svg>\n",
              "      </button>\n",
              "      \n",
              "  <style>\n",
              "    .colab-df-container {\n",
              "      display:flex;\n",
              "      flex-wrap:wrap;\n",
              "      gap: 12px;\n",
              "    }\n",
              "\n",
              "    .colab-df-convert {\n",
              "      background-color: #E8F0FE;\n",
              "      border: none;\n",
              "      border-radius: 50%;\n",
              "      cursor: pointer;\n",
              "      display: none;\n",
              "      fill: #1967D2;\n",
              "      height: 32px;\n",
              "      padding: 0 0 0 0;\n",
              "      width: 32px;\n",
              "    }\n",
              "\n",
              "    .colab-df-convert:hover {\n",
              "      background-color: #E2EBFA;\n",
              "      box-shadow: 0px 1px 2px rgba(60, 64, 67, 0.3), 0px 1px 3px 1px rgba(60, 64, 67, 0.15);\n",
              "      fill: #174EA6;\n",
              "    }\n",
              "\n",
              "    [theme=dark] .colab-df-convert {\n",
              "      background-color: #3B4455;\n",
              "      fill: #D2E3FC;\n",
              "    }\n",
              "\n",
              "    [theme=dark] .colab-df-convert:hover {\n",
              "      background-color: #434B5C;\n",
              "      box-shadow: 0px 1px 3px 1px rgba(0, 0, 0, 0.15);\n",
              "      filter: drop-shadow(0px 1px 2px rgba(0, 0, 0, 0.3));\n",
              "      fill: #FFFFFF;\n",
              "    }\n",
              "  </style>\n",
              "\n",
              "      <script>\n",
              "        const buttonEl =\n",
              "          document.querySelector('#df-40a8f5cd-1fb9-407c-8137-0535aa62e3a3 button.colab-df-convert');\n",
              "        buttonEl.style.display =\n",
              "          google.colab.kernel.accessAllowed ? 'block' : 'none';\n",
              "\n",
              "        async function convertToInteractive(key) {\n",
              "          const element = document.querySelector('#df-40a8f5cd-1fb9-407c-8137-0535aa62e3a3');\n",
              "          const dataTable =\n",
              "            await google.colab.kernel.invokeFunction('convertToInteractive',\n",
              "                                                     [key], {});\n",
              "          if (!dataTable) return;\n",
              "\n",
              "          const docLinkHtml = 'Like what you see? Visit the ' +\n",
              "            '<a target=\"_blank\" href=https://colab.research.google.com/notebooks/data_table.ipynb>data table notebook</a>'\n",
              "            + ' to learn more about interactive tables.';\n",
              "          element.innerHTML = '';\n",
              "          dataTable['output_type'] = 'display_data';\n",
              "          await google.colab.output.renderOutput(dataTable, element);\n",
              "          const docLink = document.createElement('div');\n",
              "          docLink.innerHTML = docLinkHtml;\n",
              "          element.appendChild(docLink);\n",
              "        }\n",
              "      </script>\n",
              "    </div>\n",
              "  </div>\n",
              "  "
            ]
          },
          "metadata": {},
          "execution_count": 116
        }
      ]
    },
    {
      "cell_type": "markdown",
      "source": [
        "A partir del dataframe creado anteriormente, se puede extraer un resumen del total de valores nulos en cada una de las variables:"
      ],
      "metadata": {
        "id": "y3adE5bOTP39"
      }
    },
    {
      "cell_type": "code",
      "source": [
        "for column in missing_data.columns.values.tolist():\n",
        "    print(column)\n",
        "    print (missing_data[column].value_counts())\n",
        "    print(\"\")    "
      ],
      "metadata": {
        "colab": {
          "base_uri": "https://localhost:8080/"
        },
        "id": "H8AT6BgATX0Q",
        "outputId": "0005d589-0d81-4ac5-9fb4-0be7cda3b45b"
      },
      "execution_count": 117,
      "outputs": [
        {
          "output_type": "stream",
          "name": "stdout",
          "text": [
            "symboling\n",
            "False    205\n",
            "Name: symboling, dtype: int64\n",
            "\n",
            "normalized-losses\n",
            "False    205\n",
            "Name: normalized-losses, dtype: int64\n",
            "\n",
            "make\n",
            "False    205\n",
            "Name: make, dtype: int64\n",
            "\n",
            "fuel-type\n",
            "False    205\n",
            "Name: fuel-type, dtype: int64\n",
            "\n",
            "aspiration\n",
            "False    205\n",
            "Name: aspiration, dtype: int64\n",
            "\n",
            "num-of-doors\n",
            "False    203\n",
            "True       2\n",
            "Name: num-of-doors, dtype: int64\n",
            "\n",
            "body-style\n",
            "False    205\n",
            "Name: body-style, dtype: int64\n",
            "\n",
            "drive-wheels\n",
            "False    205\n",
            "Name: drive-wheels, dtype: int64\n",
            "\n",
            "engine-location\n",
            "False    205\n",
            "Name: engine-location, dtype: int64\n",
            "\n",
            "wheel-base\n",
            "False    205\n",
            "Name: wheel-base, dtype: int64\n",
            "\n",
            "length\n",
            "False    205\n",
            "Name: length, dtype: int64\n",
            "\n",
            "width\n",
            "False    205\n",
            "Name: width, dtype: int64\n",
            "\n",
            "height\n",
            "False    205\n",
            "Name: height, dtype: int64\n",
            "\n",
            "curb-weight\n",
            "False    205\n",
            "Name: curb-weight, dtype: int64\n",
            "\n",
            "engine-type\n",
            "False    205\n",
            "Name: engine-type, dtype: int64\n",
            "\n",
            "num-of-cylinders\n",
            "False    205\n",
            "Name: num-of-cylinders, dtype: int64\n",
            "\n",
            "engine-size\n",
            "False    205\n",
            "Name: engine-size, dtype: int64\n",
            "\n",
            "fuel-system\n",
            "False    205\n",
            "Name: fuel-system, dtype: int64\n",
            "\n",
            "bore\n",
            "False    201\n",
            "True       4\n",
            "Name: bore, dtype: int64\n",
            "\n",
            "stroke\n",
            "False    201\n",
            "True       4\n",
            "Name: stroke, dtype: int64\n",
            "\n",
            "compression-ratio\n",
            "False    205\n",
            "Name: compression-ratio, dtype: int64\n",
            "\n",
            "horsepower\n",
            "False    203\n",
            "True       2\n",
            "Name: horsepower, dtype: int64\n",
            "\n",
            "peak-rpm\n",
            "False    203\n",
            "True       2\n",
            "Name: peak-rpm, dtype: int64\n",
            "\n",
            "city-L/100km\n",
            "False    205\n",
            "Name: city-L/100km, dtype: int64\n",
            "\n",
            "highway-mpg\n",
            "False    205\n",
            "Name: highway-mpg, dtype: int64\n",
            "\n",
            "price\n",
            "False    201\n",
            "True       4\n",
            "Name: price, dtype: int64\n",
            "\n",
            "price-binned\n",
            "False    201\n",
            "True       4\n",
            "Name: price-binned, dtype: int64\n",
            "\n"
          ]
        }
      ]
    },
    {
      "cell_type": "markdown",
      "source": [
        "**Pregunta 1**\n",
        "\n",
        "Reemplaza los valores nan en la columna stroke por su promedio."
      ],
      "metadata": {
        "id": "DAwrG-g9TwtW"
      }
    },
    {
      "cell_type": "code",
      "source": [
        "avg_stroke = df[\"stroke\"].astype(\"float\").mean(axis=0)\n",
        "df[\"normalized-losses\"].replace(np.nan, avg_stroke, inplace=True)"
      ],
      "metadata": {
        "id": "9lAlQ3xVUVV1"
      },
      "execution_count": 118,
      "outputs": []
    },
    {
      "cell_type": "markdown",
      "source": [
        "**Pregunta 2**\n",
        "\n",
        "En la columna *highway-mpg* convertir de mpg a L/100km y cambiar el nombre de la columna a *highway-L/100km."
      ],
      "metadata": {
        "id": "dsuKFHV8Xp8H"
      }
    },
    {
      "cell_type": "code",
      "source": [
        "df[\"highway-mpg\"]=235/df[\"highway-mpg\"]\n",
        "df.rename(columns={\"highway-mpg\":\"highway-L/100km\"},inplace=True)"
      ],
      "metadata": {
        "id": "9NBemKLcX92g"
      },
      "execution_count": 119,
      "outputs": []
    },
    {
      "cell_type": "markdown",
      "source": [
        "**Pregunta 3**\n",
        "\n",
        "Normaliza la columna *height*."
      ],
      "metadata": {
        "id": "v1bgf5pjYdm9"
      }
    },
    {
      "cell_type": "code",
      "source": [
        "df[\"height\"]=df[\"height\"]/df[\"height\"].max()"
      ],
      "metadata": {
        "id": "-Ck2ZABiYj3N"
      },
      "execution_count": 120,
      "outputs": []
    },
    {
      "cell_type": "markdown",
      "source": [
        "**Pregunta 4**\n",
        "\n",
        "Crear un indicador para la columna *aspiration*."
      ],
      "metadata": {
        "id": "S_SL4yZoY5f3"
      }
    },
    {
      "cell_type": "code",
      "source": [
        "dummy2=pd.get_dummies(df[\"aspiration\"])"
      ],
      "metadata": {
        "id": "gIlk29KPY-Ea"
      },
      "execution_count": 121,
      "outputs": []
    },
    {
      "cell_type": "markdown",
      "source": [
        "**Pregunta 5**\n",
        "\n",
        "Agrega el nuevo dataframe al original y elimina la columna *aspiration*."
      ],
      "metadata": {
        "id": "g61ClICYaK5u"
      }
    },
    {
      "cell_type": "code",
      "source": [
        "df = pd.concat([df, dummy2], axis=1)\n",
        "df.drop(\"fuel-type\", axis = 1, inplace=True)\n",
        "df.head()"
      ],
      "metadata": {
        "colab": {
          "base_uri": "https://localhost:8080/",
          "height": 386
        },
        "id": "tCGe9_3nZdes",
        "outputId": "912bf038-a6fe-46ee-ee20-ec5dac11da42"
      },
      "execution_count": 122,
      "outputs": [
        {
          "output_type": "execute_result",
          "data": {
            "text/plain": [
              "   symboling  normalized-losses         make aspiration num-of-doors  \\\n",
              "0          3              122.0  alfa-romero        std          two   \n",
              "1          3              122.0  alfa-romero        std          two   \n",
              "2          1              122.0  alfa-romero        std          two   \n",
              "3          2              164.0         audi        std         four   \n",
              "4          2              164.0         audi        std         four   \n",
              "\n",
              "    body-style drive-wheels engine-location  wheel-base  length  ...  stroke  \\\n",
              "0  convertible          rwd           front        88.6   168.8  ...    2.68   \n",
              "1  convertible          rwd           front        88.6   168.8  ...    2.68   \n",
              "2    hatchback          rwd           front        94.5   171.2  ...    3.47   \n",
              "3        sedan          fwd           front        99.8   176.6  ...    3.40   \n",
              "4        sedan          4wd           front        99.4   176.6  ...    3.40   \n",
              "\n",
              "   compression-ratio  horsepower peak-rpm city-L/100km  highway-L/100km  \\\n",
              "0                9.0         111     5000    11.190476         8.703704   \n",
              "1                9.0         111     5000    11.190476         8.703704   \n",
              "2                9.0         154     5000    12.368421         9.038462   \n",
              "3               10.0         102     5500     9.791667         7.833333   \n",
              "4                8.0         115     5500    13.055556        10.681818   \n",
              "\n",
              "     price price-binned std  turbo  \n",
              "0  13495.0          Low   1      0  \n",
              "1  16500.0          Low   1      0  \n",
              "2  16500.0          Low   1      0  \n",
              "3  13950.0          Low   1      0  \n",
              "4  17450.0          Low   1      0  \n",
              "\n",
              "[5 rows x 28 columns]"
            ],
            "text/html": [
              "\n",
              "  <div id=\"df-28d361b8-2239-4103-94f4-3926bf204180\">\n",
              "    <div class=\"colab-df-container\">\n",
              "      <div>\n",
              "<style scoped>\n",
              "    .dataframe tbody tr th:only-of-type {\n",
              "        vertical-align: middle;\n",
              "    }\n",
              "\n",
              "    .dataframe tbody tr th {\n",
              "        vertical-align: top;\n",
              "    }\n",
              "\n",
              "    .dataframe thead th {\n",
              "        text-align: right;\n",
              "    }\n",
              "</style>\n",
              "<table border=\"1\" class=\"dataframe\">\n",
              "  <thead>\n",
              "    <tr style=\"text-align: right;\">\n",
              "      <th></th>\n",
              "      <th>symboling</th>\n",
              "      <th>normalized-losses</th>\n",
              "      <th>make</th>\n",
              "      <th>aspiration</th>\n",
              "      <th>num-of-doors</th>\n",
              "      <th>body-style</th>\n",
              "      <th>drive-wheels</th>\n",
              "      <th>engine-location</th>\n",
              "      <th>wheel-base</th>\n",
              "      <th>length</th>\n",
              "      <th>...</th>\n",
              "      <th>stroke</th>\n",
              "      <th>compression-ratio</th>\n",
              "      <th>horsepower</th>\n",
              "      <th>peak-rpm</th>\n",
              "      <th>city-L/100km</th>\n",
              "      <th>highway-L/100km</th>\n",
              "      <th>price</th>\n",
              "      <th>price-binned</th>\n",
              "      <th>std</th>\n",
              "      <th>turbo</th>\n",
              "    </tr>\n",
              "  </thead>\n",
              "  <tbody>\n",
              "    <tr>\n",
              "      <th>0</th>\n",
              "      <td>3</td>\n",
              "      <td>122.0</td>\n",
              "      <td>alfa-romero</td>\n",
              "      <td>std</td>\n",
              "      <td>two</td>\n",
              "      <td>convertible</td>\n",
              "      <td>rwd</td>\n",
              "      <td>front</td>\n",
              "      <td>88.6</td>\n",
              "      <td>168.8</td>\n",
              "      <td>...</td>\n",
              "      <td>2.68</td>\n",
              "      <td>9.0</td>\n",
              "      <td>111</td>\n",
              "      <td>5000</td>\n",
              "      <td>11.190476</td>\n",
              "      <td>8.703704</td>\n",
              "      <td>13495.0</td>\n",
              "      <td>Low</td>\n",
              "      <td>1</td>\n",
              "      <td>0</td>\n",
              "    </tr>\n",
              "    <tr>\n",
              "      <th>1</th>\n",
              "      <td>3</td>\n",
              "      <td>122.0</td>\n",
              "      <td>alfa-romero</td>\n",
              "      <td>std</td>\n",
              "      <td>two</td>\n",
              "      <td>convertible</td>\n",
              "      <td>rwd</td>\n",
              "      <td>front</td>\n",
              "      <td>88.6</td>\n",
              "      <td>168.8</td>\n",
              "      <td>...</td>\n",
              "      <td>2.68</td>\n",
              "      <td>9.0</td>\n",
              "      <td>111</td>\n",
              "      <td>5000</td>\n",
              "      <td>11.190476</td>\n",
              "      <td>8.703704</td>\n",
              "      <td>16500.0</td>\n",
              "      <td>Low</td>\n",
              "      <td>1</td>\n",
              "      <td>0</td>\n",
              "    </tr>\n",
              "    <tr>\n",
              "      <th>2</th>\n",
              "      <td>1</td>\n",
              "      <td>122.0</td>\n",
              "      <td>alfa-romero</td>\n",
              "      <td>std</td>\n",
              "      <td>two</td>\n",
              "      <td>hatchback</td>\n",
              "      <td>rwd</td>\n",
              "      <td>front</td>\n",
              "      <td>94.5</td>\n",
              "      <td>171.2</td>\n",
              "      <td>...</td>\n",
              "      <td>3.47</td>\n",
              "      <td>9.0</td>\n",
              "      <td>154</td>\n",
              "      <td>5000</td>\n",
              "      <td>12.368421</td>\n",
              "      <td>9.038462</td>\n",
              "      <td>16500.0</td>\n",
              "      <td>Low</td>\n",
              "      <td>1</td>\n",
              "      <td>0</td>\n",
              "    </tr>\n",
              "    <tr>\n",
              "      <th>3</th>\n",
              "      <td>2</td>\n",
              "      <td>164.0</td>\n",
              "      <td>audi</td>\n",
              "      <td>std</td>\n",
              "      <td>four</td>\n",
              "      <td>sedan</td>\n",
              "      <td>fwd</td>\n",
              "      <td>front</td>\n",
              "      <td>99.8</td>\n",
              "      <td>176.6</td>\n",
              "      <td>...</td>\n",
              "      <td>3.40</td>\n",
              "      <td>10.0</td>\n",
              "      <td>102</td>\n",
              "      <td>5500</td>\n",
              "      <td>9.791667</td>\n",
              "      <td>7.833333</td>\n",
              "      <td>13950.0</td>\n",
              "      <td>Low</td>\n",
              "      <td>1</td>\n",
              "      <td>0</td>\n",
              "    </tr>\n",
              "    <tr>\n",
              "      <th>4</th>\n",
              "      <td>2</td>\n",
              "      <td>164.0</td>\n",
              "      <td>audi</td>\n",
              "      <td>std</td>\n",
              "      <td>four</td>\n",
              "      <td>sedan</td>\n",
              "      <td>4wd</td>\n",
              "      <td>front</td>\n",
              "      <td>99.4</td>\n",
              "      <td>176.6</td>\n",
              "      <td>...</td>\n",
              "      <td>3.40</td>\n",
              "      <td>8.0</td>\n",
              "      <td>115</td>\n",
              "      <td>5500</td>\n",
              "      <td>13.055556</td>\n",
              "      <td>10.681818</td>\n",
              "      <td>17450.0</td>\n",
              "      <td>Low</td>\n",
              "      <td>1</td>\n",
              "      <td>0</td>\n",
              "    </tr>\n",
              "  </tbody>\n",
              "</table>\n",
              "<p>5 rows × 28 columns</p>\n",
              "</div>\n",
              "      <button class=\"colab-df-convert\" onclick=\"convertToInteractive('df-28d361b8-2239-4103-94f4-3926bf204180')\"\n",
              "              title=\"Convert this dataframe to an interactive table.\"\n",
              "              style=\"display:none;\">\n",
              "        \n",
              "  <svg xmlns=\"http://www.w3.org/2000/svg\" height=\"24px\"viewBox=\"0 0 24 24\"\n",
              "       width=\"24px\">\n",
              "    <path d=\"M0 0h24v24H0V0z\" fill=\"none\"/>\n",
              "    <path d=\"M18.56 5.44l.94 2.06.94-2.06 2.06-.94-2.06-.94-.94-2.06-.94 2.06-2.06.94zm-11 1L8.5 8.5l.94-2.06 2.06-.94-2.06-.94L8.5 2.5l-.94 2.06-2.06.94zm10 10l.94 2.06.94-2.06 2.06-.94-2.06-.94-.94-2.06-.94 2.06-2.06.94z\"/><path d=\"M17.41 7.96l-1.37-1.37c-.4-.4-.92-.59-1.43-.59-.52 0-1.04.2-1.43.59L10.3 9.45l-7.72 7.72c-.78.78-.78 2.05 0 2.83L4 21.41c.39.39.9.59 1.41.59.51 0 1.02-.2 1.41-.59l7.78-7.78 2.81-2.81c.8-.78.8-2.07 0-2.86zM5.41 20L4 18.59l7.72-7.72 1.47 1.35L5.41 20z\"/>\n",
              "  </svg>\n",
              "      </button>\n",
              "      \n",
              "  <style>\n",
              "    .colab-df-container {\n",
              "      display:flex;\n",
              "      flex-wrap:wrap;\n",
              "      gap: 12px;\n",
              "    }\n",
              "\n",
              "    .colab-df-convert {\n",
              "      background-color: #E8F0FE;\n",
              "      border: none;\n",
              "      border-radius: 50%;\n",
              "      cursor: pointer;\n",
              "      display: none;\n",
              "      fill: #1967D2;\n",
              "      height: 32px;\n",
              "      padding: 0 0 0 0;\n",
              "      width: 32px;\n",
              "    }\n",
              "\n",
              "    .colab-df-convert:hover {\n",
              "      background-color: #E2EBFA;\n",
              "      box-shadow: 0px 1px 2px rgba(60, 64, 67, 0.3), 0px 1px 3px 1px rgba(60, 64, 67, 0.15);\n",
              "      fill: #174EA6;\n",
              "    }\n",
              "\n",
              "    [theme=dark] .colab-df-convert {\n",
              "      background-color: #3B4455;\n",
              "      fill: #D2E3FC;\n",
              "    }\n",
              "\n",
              "    [theme=dark] .colab-df-convert:hover {\n",
              "      background-color: #434B5C;\n",
              "      box-shadow: 0px 1px 3px 1px rgba(0, 0, 0, 0.15);\n",
              "      filter: drop-shadow(0px 1px 2px rgba(0, 0, 0, 0.3));\n",
              "      fill: #FFFFFF;\n",
              "    }\n",
              "  </style>\n",
              "\n",
              "      <script>\n",
              "        const buttonEl =\n",
              "          document.querySelector('#df-28d361b8-2239-4103-94f4-3926bf204180 button.colab-df-convert');\n",
              "        buttonEl.style.display =\n",
              "          google.colab.kernel.accessAllowed ? 'block' : 'none';\n",
              "\n",
              "        async function convertToInteractive(key) {\n",
              "          const element = document.querySelector('#df-28d361b8-2239-4103-94f4-3926bf204180');\n",
              "          const dataTable =\n",
              "            await google.colab.kernel.invokeFunction('convertToInteractive',\n",
              "                                                     [key], {});\n",
              "          if (!dataTable) return;\n",
              "\n",
              "          const docLinkHtml = 'Like what you see? Visit the ' +\n",
              "            '<a target=\"_blank\" href=https://colab.research.google.com/notebooks/data_table.ipynb>data table notebook</a>'\n",
              "            + ' to learn more about interactive tables.';\n",
              "          element.innerHTML = '';\n",
              "          dataTable['output_type'] = 'display_data';\n",
              "          await google.colab.output.renderOutput(dataTable, element);\n",
              "          const docLink = document.createElement('div');\n",
              "          docLink.innerHTML = docLinkHtml;\n",
              "          element.appendChild(docLink);\n",
              "        }\n",
              "      </script>\n",
              "    </div>\n",
              "  </div>\n",
              "  "
            ]
          },
          "metadata": {},
          "execution_count": 122
        }
      ]
    },
    {
      "cell_type": "markdown",
      "source": [
        "---\n",
        "##**Graded Review Questions**"
      ],
      "metadata": {
        "id": "3pKg-oO3O_Dl"
      }
    },
    {
      "cell_type": "markdown",
      "source": [
        "![image.png](data:image/png;base64,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)"
      ],
      "metadata": {
        "id": "pwEZWnEGcpht"
      }
    }
  ]
}