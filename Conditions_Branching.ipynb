{
 "cells": [
  {
   "cell_type": "code",
   "execution_count": 10,
   "metadata": {},
   "outputs": [
    {
     "name": "stdout",
     "output_type": "stream",
     "text": [
      "ve a ver Pink Floyd\n",
      "adelante\n",
      "El album fue hecho en los 70s o 90s\n"
     ]
    }
   ],
   "source": [
    "a=6\n",
    "a==7\n",
    "\"AC/DC\"==\"Michael Jackson\"\n",
    "age=18\n",
    "if(age>18):\n",
    "    print(\"puedes entrar\")\n",
    "elif(age==18):\n",
    "    print(\"ve a ver Pink Floyd\")\n",
    "else:\n",
    "    print(\"ve a ver Meat Loaf\")\n",
    "print(\"adelante\")\n",
    "album_year=1990\n",
    "if(album_year<1980 or album_year>1980):\n",
    "    print(\"El album fue hecho en los 70s o 90s\")\n",
    "else:\n",
    "    print(\"El album fue hecho en los 80s\")"
   ]
  }
 ],
 "metadata": {
  "kernelspec": {
   "display_name": "Python 3.10.5 64-bit",
   "language": "python",
   "name": "python3"
  },
  "language_info": {
   "codemirror_mode": {
    "name": "ipython",
    "version": 3
   },
   "file_extension": ".py",
   "mimetype": "text/x-python",
   "name": "python",
   "nbconvert_exporter": "python",
   "pygments_lexer": "ipython3",
   "version": "3.10.5"
  },
  "orig_nbformat": 4,
  "vscode": {
   "interpreter": {
    "hash": "014f6fe67bb4dcf7b480963fb0ba5531e9ff1af73eb3aa89b0e6e1569b9c5d4c"
   }
  }
 },
 "nbformat": 4,
 "nbformat_minor": 2
}
