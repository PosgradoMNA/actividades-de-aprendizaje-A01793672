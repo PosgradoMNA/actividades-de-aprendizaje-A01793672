{
  "nbformat": 4,
  "nbformat_minor": 0,
  "metadata": {
    "colab": {
      "provenance": [],
      "collapsed_sections": [],
      "authorship_tag": "ABX9TyP3dSkbBN6fHHkUOZbll+sA",
      "include_colab_link": true
    },
    "kernelspec": {
      "name": "python3",
      "display_name": "Python 3"
    },
    "language_info": {
      "name": "python"
    }
  },
  "cells": [
    {
      "cell_type": "markdown",
      "metadata": {
        "id": "view-in-github",
        "colab_type": "text"
      },
      "source": [
        "<a href=\"https://colab.research.google.com/github/PosgradoMNA/actividades-de-aprendizaje-A01793672/blob/main/DataAnalysisPythonIBM_M3.ipynb\" target=\"_parent\"><img src=\"https://colab.research.google.com/assets/colab-badge.svg\" alt=\"Open In Colab\"/></a>"
      ]
    },
    {
      "cell_type": "markdown",
      "source": [
        "#**DATA ANALYSIS WITH PYTHON (IBM)**\n",
        "---\n",
        "#**Modulo 3 - Análisis Exploratorio de Datos**\n",
        "---\n",
        "##**Alumno: Freddy Armendariz Herrera**\n",
        "##**Matrícula: A01793672**\n",
        "---"
      ],
      "metadata": {
        "id": "T5BnOfalNvSn"
      }
    },
    {
      "cell_type": "markdown",
      "source": [
        "---\n",
        "##**Fundamentos**"
      ],
      "metadata": {
        "id": "r8Ww1B3K8y39"
      }
    },
    {
      "cell_type": "markdown",
      "source": [
        "El Análisis Exploratorio de Datos o *EDA* es un paso preliminar en el análisis de datos con los siguientes objetivos:\n",
        "\n",
        "* Resumir las características principales de los datos.\n",
        "* Obtener un mejor entendimiento del conjunto de los datos.\n",
        "* Descrubrir relaciones entre las variables.\n",
        "* Extraer variables importantes.\n",
        "\n",
        "Para este caso, se trata de resolver la siguiente pregunta:\n",
        "\n",
        "¿Cuáles son las características que tienen mayor impacto en el precio del auto?"
      ],
      "metadata": {
        "id": "tCsOcJggsg7s"
      }
    },
    {
      "cell_type": "markdown",
      "source": [
        "**Aprendizajes esperados:**\n",
        "\n",
        "* Estadística descriptiva: describe las características básicas de un conjunto de datos.\n",
        "* Agrupar por: tranformar los datos utilizando *groupby*.\n",
        "* ANOVA: Análisis de la varianza.\n",
        "* Correlación.\n",
        "* Correlación estadística."
      ],
      "metadata": {
        "id": "OF8NkJ9ptvQi"
      }
    },
    {
      "cell_type": "code",
      "source": [
        "#Se importan librerías y se carga el dataset\n",
        "import pandas as pd\n",
        "import numpy as np\n",
        "import matplotlib.pyplot as plt\n",
        "import seaborn as sns\n",
        "%matplotlib inline\n",
        "\n",
        "url = \"https://cf-courses-data.s3.us.cloud-object-storage.appdomain.cloud/IBMDeveloperSkillsNetwork-DA0101EN-SkillsNetwork/labs/Data%20files/auto.csv\"\n",
        "df = pd.read_csv(url, header = None)\n",
        "headers = [\"symboling\",\"normalized-losses\",\"make\",\"fuel-type\",\"aspiration\",\"num-of-doors\",\"body-style\",\n",
        "           \"drive-wheels\",\"engine-location\",\"wheel-base\",\"length\",\"width\",\"height\",\"curb-weight\",\n",
        "           \"engine-type\",\"num-of-cylinders\",\"engine-size\",\"fuel-system\",\"bore\",\"stroke\",\"compression-ratio\",\n",
        "           \"horsepower\",\"peak-rpm\",\"city-mpg\",\"highway-mpg\",\"price\"]\n",
        "df.columns=headers #Reemplaza el encabezado por defecto.\n",
        "\n",
        "df.dropna(              #Selecciona filas o columnas con valores faltantes para eliminarlos.\n",
        "    subset=[\"price\"],   #Columna donde se verifican datos faltantes.\n",
        "    axis=0,             #0 para registros y 1 para columnas.\n",
        "    inplace=True        #La modificación se realiza directamente en el dataset.\n",
        ")\n",
        "\n",
        "df.replace('?',np.NaN,inplace=True) #Reemplaza los ? por NaN\n",
        "df[\"normalized-losses\"]=df[\"normalized-losses\"].astype(float) #Cambia el tipo de dato de la columna seleccionada\n",
        "mean=df[\"normalized-losses\"].mean() #Calcula el promedio de la columna\n",
        "\n",
        "df[\"normalized-losses\"].replace(  #Seleeciona la columna normalized-losses para reemplazar datos\n",
        "    np.nan,                       #Un valor NaN\n",
        "    mean,                         #Por el promedio de dicha columna\n",
        "    inplace=True                  #Directamente sobre el dataset\n",
        ")\n",
        "df.head()"
      ],
      "metadata": {
        "colab": {
          "base_uri": "https://localhost:8080/",
          "height": 386
        },
        "id": "YHfb7p80wwqY",
        "outputId": "5b22e3d8-f3a2-4dce-96e2-d786ccbbf87a"
      },
      "execution_count": 37,
      "outputs": [
        {
          "output_type": "execute_result",
          "data": {
            "text/plain": [
              "   symboling  normalized-losses         make fuel-type aspiration  \\\n",
              "0          3              122.0  alfa-romero       gas        std   \n",
              "1          3              122.0  alfa-romero       gas        std   \n",
              "2          1              122.0  alfa-romero       gas        std   \n",
              "3          2              164.0         audi       gas        std   \n",
              "4          2              164.0         audi       gas        std   \n",
              "\n",
              "  num-of-doors   body-style drive-wheels engine-location  wheel-base  ...  \\\n",
              "0          two  convertible          rwd           front        88.6  ...   \n",
              "1          two  convertible          rwd           front        88.6  ...   \n",
              "2          two    hatchback          rwd           front        94.5  ...   \n",
              "3         four        sedan          fwd           front        99.8  ...   \n",
              "4         four        sedan          4wd           front        99.4  ...   \n",
              "\n",
              "   engine-size  fuel-system  bore  stroke compression-ratio horsepower  \\\n",
              "0          130         mpfi  3.47    2.68               9.0        111   \n",
              "1          130         mpfi  3.47    2.68               9.0        111   \n",
              "2          152         mpfi  2.68    3.47               9.0        154   \n",
              "3          109         mpfi  3.19    3.40              10.0        102   \n",
              "4          136         mpfi  3.19    3.40               8.0        115   \n",
              "\n",
              "   peak-rpm city-mpg highway-mpg  price  \n",
              "0      5000       21          27  13495  \n",
              "1      5000       21          27  16500  \n",
              "2      5000       19          26  16500  \n",
              "3      5500       24          30  13950  \n",
              "4      5500       18          22  17450  \n",
              "\n",
              "[5 rows x 26 columns]"
            ],
            "text/html": [
              "\n",
              "  <div id=\"df-66826f96-8347-4ab8-8b38-1a2f938a0ee4\">\n",
              "    <div class=\"colab-df-container\">\n",
              "      <div>\n",
              "<style scoped>\n",
              "    .dataframe tbody tr th:only-of-type {\n",
              "        vertical-align: middle;\n",
              "    }\n",
              "\n",
              "    .dataframe tbody tr th {\n",
              "        vertical-align: top;\n",
              "    }\n",
              "\n",
              "    .dataframe thead th {\n",
              "        text-align: right;\n",
              "    }\n",
              "</style>\n",
              "<table border=\"1\" class=\"dataframe\">\n",
              "  <thead>\n",
              "    <tr style=\"text-align: right;\">\n",
              "      <th></th>\n",
              "      <th>symboling</th>\n",
              "      <th>normalized-losses</th>\n",
              "      <th>make</th>\n",
              "      <th>fuel-type</th>\n",
              "      <th>aspiration</th>\n",
              "      <th>num-of-doors</th>\n",
              "      <th>body-style</th>\n",
              "      <th>drive-wheels</th>\n",
              "      <th>engine-location</th>\n",
              "      <th>wheel-base</th>\n",
              "      <th>...</th>\n",
              "      <th>engine-size</th>\n",
              "      <th>fuel-system</th>\n",
              "      <th>bore</th>\n",
              "      <th>stroke</th>\n",
              "      <th>compression-ratio</th>\n",
              "      <th>horsepower</th>\n",
              "      <th>peak-rpm</th>\n",
              "      <th>city-mpg</th>\n",
              "      <th>highway-mpg</th>\n",
              "      <th>price</th>\n",
              "    </tr>\n",
              "  </thead>\n",
              "  <tbody>\n",
              "    <tr>\n",
              "      <th>0</th>\n",
              "      <td>3</td>\n",
              "      <td>122.0</td>\n",
              "      <td>alfa-romero</td>\n",
              "      <td>gas</td>\n",
              "      <td>std</td>\n",
              "      <td>two</td>\n",
              "      <td>convertible</td>\n",
              "      <td>rwd</td>\n",
              "      <td>front</td>\n",
              "      <td>88.6</td>\n",
              "      <td>...</td>\n",
              "      <td>130</td>\n",
              "      <td>mpfi</td>\n",
              "      <td>3.47</td>\n",
              "      <td>2.68</td>\n",
              "      <td>9.0</td>\n",
              "      <td>111</td>\n",
              "      <td>5000</td>\n",
              "      <td>21</td>\n",
              "      <td>27</td>\n",
              "      <td>13495</td>\n",
              "    </tr>\n",
              "    <tr>\n",
              "      <th>1</th>\n",
              "      <td>3</td>\n",
              "      <td>122.0</td>\n",
              "      <td>alfa-romero</td>\n",
              "      <td>gas</td>\n",
              "      <td>std</td>\n",
              "      <td>two</td>\n",
              "      <td>convertible</td>\n",
              "      <td>rwd</td>\n",
              "      <td>front</td>\n",
              "      <td>88.6</td>\n",
              "      <td>...</td>\n",
              "      <td>130</td>\n",
              "      <td>mpfi</td>\n",
              "      <td>3.47</td>\n",
              "      <td>2.68</td>\n",
              "      <td>9.0</td>\n",
              "      <td>111</td>\n",
              "      <td>5000</td>\n",
              "      <td>21</td>\n",
              "      <td>27</td>\n",
              "      <td>16500</td>\n",
              "    </tr>\n",
              "    <tr>\n",
              "      <th>2</th>\n",
              "      <td>1</td>\n",
              "      <td>122.0</td>\n",
              "      <td>alfa-romero</td>\n",
              "      <td>gas</td>\n",
              "      <td>std</td>\n",
              "      <td>two</td>\n",
              "      <td>hatchback</td>\n",
              "      <td>rwd</td>\n",
              "      <td>front</td>\n",
              "      <td>94.5</td>\n",
              "      <td>...</td>\n",
              "      <td>152</td>\n",
              "      <td>mpfi</td>\n",
              "      <td>2.68</td>\n",
              "      <td>3.47</td>\n",
              "      <td>9.0</td>\n",
              "      <td>154</td>\n",
              "      <td>5000</td>\n",
              "      <td>19</td>\n",
              "      <td>26</td>\n",
              "      <td>16500</td>\n",
              "    </tr>\n",
              "    <tr>\n",
              "      <th>3</th>\n",
              "      <td>2</td>\n",
              "      <td>164.0</td>\n",
              "      <td>audi</td>\n",
              "      <td>gas</td>\n",
              "      <td>std</td>\n",
              "      <td>four</td>\n",
              "      <td>sedan</td>\n",
              "      <td>fwd</td>\n",
              "      <td>front</td>\n",
              "      <td>99.8</td>\n",
              "      <td>...</td>\n",
              "      <td>109</td>\n",
              "      <td>mpfi</td>\n",
              "      <td>3.19</td>\n",
              "      <td>3.40</td>\n",
              "      <td>10.0</td>\n",
              "      <td>102</td>\n",
              "      <td>5500</td>\n",
              "      <td>24</td>\n",
              "      <td>30</td>\n",
              "      <td>13950</td>\n",
              "    </tr>\n",
              "    <tr>\n",
              "      <th>4</th>\n",
              "      <td>2</td>\n",
              "      <td>164.0</td>\n",
              "      <td>audi</td>\n",
              "      <td>gas</td>\n",
              "      <td>std</td>\n",
              "      <td>four</td>\n",
              "      <td>sedan</td>\n",
              "      <td>4wd</td>\n",
              "      <td>front</td>\n",
              "      <td>99.4</td>\n",
              "      <td>...</td>\n",
              "      <td>136</td>\n",
              "      <td>mpfi</td>\n",
              "      <td>3.19</td>\n",
              "      <td>3.40</td>\n",
              "      <td>8.0</td>\n",
              "      <td>115</td>\n",
              "      <td>5500</td>\n",
              "      <td>18</td>\n",
              "      <td>22</td>\n",
              "      <td>17450</td>\n",
              "    </tr>\n",
              "  </tbody>\n",
              "</table>\n",
              "<p>5 rows × 26 columns</p>\n",
              "</div>\n",
              "      <button class=\"colab-df-convert\" onclick=\"convertToInteractive('df-66826f96-8347-4ab8-8b38-1a2f938a0ee4')\"\n",
              "              title=\"Convert this dataframe to an interactive table.\"\n",
              "              style=\"display:none;\">\n",
              "        \n",
              "  <svg xmlns=\"http://www.w3.org/2000/svg\" height=\"24px\"viewBox=\"0 0 24 24\"\n",
              "       width=\"24px\">\n",
              "    <path d=\"M0 0h24v24H0V0z\" fill=\"none\"/>\n",
              "    <path d=\"M18.56 5.44l.94 2.06.94-2.06 2.06-.94-2.06-.94-.94-2.06-.94 2.06-2.06.94zm-11 1L8.5 8.5l.94-2.06 2.06-.94-2.06-.94L8.5 2.5l-.94 2.06-2.06.94zm10 10l.94 2.06.94-2.06 2.06-.94-2.06-.94-.94-2.06-.94 2.06-2.06.94z\"/><path d=\"M17.41 7.96l-1.37-1.37c-.4-.4-.92-.59-1.43-.59-.52 0-1.04.2-1.43.59L10.3 9.45l-7.72 7.72c-.78.78-.78 2.05 0 2.83L4 21.41c.39.39.9.59 1.41.59.51 0 1.02-.2 1.41-.59l7.78-7.78 2.81-2.81c.8-.78.8-2.07 0-2.86zM5.41 20L4 18.59l7.72-7.72 1.47 1.35L5.41 20z\"/>\n",
              "  </svg>\n",
              "      </button>\n",
              "      \n",
              "  <style>\n",
              "    .colab-df-container {\n",
              "      display:flex;\n",
              "      flex-wrap:wrap;\n",
              "      gap: 12px;\n",
              "    }\n",
              "\n",
              "    .colab-df-convert {\n",
              "      background-color: #E8F0FE;\n",
              "      border: none;\n",
              "      border-radius: 50%;\n",
              "      cursor: pointer;\n",
              "      display: none;\n",
              "      fill: #1967D2;\n",
              "      height: 32px;\n",
              "      padding: 0 0 0 0;\n",
              "      width: 32px;\n",
              "    }\n",
              "\n",
              "    .colab-df-convert:hover {\n",
              "      background-color: #E2EBFA;\n",
              "      box-shadow: 0px 1px 2px rgba(60, 64, 67, 0.3), 0px 1px 3px 1px rgba(60, 64, 67, 0.15);\n",
              "      fill: #174EA6;\n",
              "    }\n",
              "\n",
              "    [theme=dark] .colab-df-convert {\n",
              "      background-color: #3B4455;\n",
              "      fill: #D2E3FC;\n",
              "    }\n",
              "\n",
              "    [theme=dark] .colab-df-convert:hover {\n",
              "      background-color: #434B5C;\n",
              "      box-shadow: 0px 1px 3px 1px rgba(0, 0, 0, 0.15);\n",
              "      filter: drop-shadow(0px 1px 2px rgba(0, 0, 0, 0.3));\n",
              "      fill: #FFFFFF;\n",
              "    }\n",
              "  </style>\n",
              "\n",
              "      <script>\n",
              "        const buttonEl =\n",
              "          document.querySelector('#df-66826f96-8347-4ab8-8b38-1a2f938a0ee4 button.colab-df-convert');\n",
              "        buttonEl.style.display =\n",
              "          google.colab.kernel.accessAllowed ? 'block' : 'none';\n",
              "\n",
              "        async function convertToInteractive(key) {\n",
              "          const element = document.querySelector('#df-66826f96-8347-4ab8-8b38-1a2f938a0ee4');\n",
              "          const dataTable =\n",
              "            await google.colab.kernel.invokeFunction('convertToInteractive',\n",
              "                                                     [key], {});\n",
              "          if (!dataTable) return;\n",
              "\n",
              "          const docLinkHtml = 'Like what you see? Visit the ' +\n",
              "            '<a target=\"_blank\" href=https://colab.research.google.com/notebooks/data_table.ipynb>data table notebook</a>'\n",
              "            + ' to learn more about interactive tables.';\n",
              "          element.innerHTML = '';\n",
              "          dataTable['output_type'] = 'display_data';\n",
              "          await google.colab.output.renderOutput(dataTable, element);\n",
              "          const docLink = document.createElement('div');\n",
              "          docLink.innerHTML = docLinkHtml;\n",
              "          element.appendChild(docLink);\n",
              "        }\n",
              "      </script>\n",
              "    </div>\n",
              "  </div>\n",
              "  "
            ]
          },
          "metadata": {},
          "execution_count": 37
        }
      ]
    },
    {
      "cell_type": "markdown",
      "source": [
        "---\n",
        "##**Estadística Descriptiva**"
      ],
      "metadata": {
        "id": "TL5xgqE9vexc"
      }
    },
    {
      "cell_type": "markdown",
      "source": [
        "Describe características básicas de los datos.\n",
        "\n",
        "Se obtienen breves resúmenes sobre la muestra y las mediciones de los datos."
      ],
      "metadata": {
        "id": "J1ASj-5_vpu6"
      }
    },
    {
      "cell_type": "markdown",
      "source": [
        "Uno de los métodos es utilizando *describe()*."
      ],
      "metadata": {
        "id": "sgK0zBVzyP6B"
      }
    },
    {
      "cell_type": "code",
      "source": [
        "df.describe()"
      ],
      "metadata": {
        "colab": {
          "base_uri": "https://localhost:8080/",
          "height": 300
        },
        "id": "A5s8SjWtyYYy",
        "outputId": "e79e6e2d-733d-4c50-8311-83b7571d92ed"
      },
      "execution_count": 38,
      "outputs": [
        {
          "output_type": "execute_result",
          "data": {
            "text/plain": [
              "        symboling  normalized-losses  wheel-base      length       width  \\\n",
              "count  205.000000         205.000000  205.000000  205.000000  205.000000   \n",
              "mean     0.834146         122.000000   98.756585  174.049268   65.907805   \n",
              "std      1.245307          31.681008    6.021776   12.337289    2.145204   \n",
              "min     -2.000000          65.000000   86.600000  141.100000   60.300000   \n",
              "25%      0.000000         101.000000   94.500000  166.300000   64.100000   \n",
              "50%      1.000000         122.000000   97.000000  173.200000   65.500000   \n",
              "75%      2.000000         137.000000  102.400000  183.100000   66.900000   \n",
              "max      3.000000         256.000000  120.900000  208.100000   72.300000   \n",
              "\n",
              "           height  curb-weight  engine-size  compression-ratio    city-mpg  \\\n",
              "count  205.000000   205.000000   205.000000         205.000000  205.000000   \n",
              "mean    53.724878  2555.565854   126.907317          10.142537   25.219512   \n",
              "std      2.443522   520.680204    41.642693           3.972040    6.542142   \n",
              "min     47.800000  1488.000000    61.000000           7.000000   13.000000   \n",
              "25%     52.000000  2145.000000    97.000000           8.600000   19.000000   \n",
              "50%     54.100000  2414.000000   120.000000           9.000000   24.000000   \n",
              "75%     55.500000  2935.000000   141.000000           9.400000   30.000000   \n",
              "max     59.800000  4066.000000   326.000000          23.000000   49.000000   \n",
              "\n",
              "       highway-mpg  \n",
              "count   205.000000  \n",
              "mean     30.751220  \n",
              "std       6.886443  \n",
              "min      16.000000  \n",
              "25%      25.000000  \n",
              "50%      30.000000  \n",
              "75%      34.000000  \n",
              "max      54.000000  "
            ],
            "text/html": [
              "\n",
              "  <div id=\"df-8e3beb44-4b3a-4aea-9cc6-c64582ef23c3\">\n",
              "    <div class=\"colab-df-container\">\n",
              "      <div>\n",
              "<style scoped>\n",
              "    .dataframe tbody tr th:only-of-type {\n",
              "        vertical-align: middle;\n",
              "    }\n",
              "\n",
              "    .dataframe tbody tr th {\n",
              "        vertical-align: top;\n",
              "    }\n",
              "\n",
              "    .dataframe thead th {\n",
              "        text-align: right;\n",
              "    }\n",
              "</style>\n",
              "<table border=\"1\" class=\"dataframe\">\n",
              "  <thead>\n",
              "    <tr style=\"text-align: right;\">\n",
              "      <th></th>\n",
              "      <th>symboling</th>\n",
              "      <th>normalized-losses</th>\n",
              "      <th>wheel-base</th>\n",
              "      <th>length</th>\n",
              "      <th>width</th>\n",
              "      <th>height</th>\n",
              "      <th>curb-weight</th>\n",
              "      <th>engine-size</th>\n",
              "      <th>compression-ratio</th>\n",
              "      <th>city-mpg</th>\n",
              "      <th>highway-mpg</th>\n",
              "    </tr>\n",
              "  </thead>\n",
              "  <tbody>\n",
              "    <tr>\n",
              "      <th>count</th>\n",
              "      <td>205.000000</td>\n",
              "      <td>205.000000</td>\n",
              "      <td>205.000000</td>\n",
              "      <td>205.000000</td>\n",
              "      <td>205.000000</td>\n",
              "      <td>205.000000</td>\n",
              "      <td>205.000000</td>\n",
              "      <td>205.000000</td>\n",
              "      <td>205.000000</td>\n",
              "      <td>205.000000</td>\n",
              "      <td>205.000000</td>\n",
              "    </tr>\n",
              "    <tr>\n",
              "      <th>mean</th>\n",
              "      <td>0.834146</td>\n",
              "      <td>122.000000</td>\n",
              "      <td>98.756585</td>\n",
              "      <td>174.049268</td>\n",
              "      <td>65.907805</td>\n",
              "      <td>53.724878</td>\n",
              "      <td>2555.565854</td>\n",
              "      <td>126.907317</td>\n",
              "      <td>10.142537</td>\n",
              "      <td>25.219512</td>\n",
              "      <td>30.751220</td>\n",
              "    </tr>\n",
              "    <tr>\n",
              "      <th>std</th>\n",
              "      <td>1.245307</td>\n",
              "      <td>31.681008</td>\n",
              "      <td>6.021776</td>\n",
              "      <td>12.337289</td>\n",
              "      <td>2.145204</td>\n",
              "      <td>2.443522</td>\n",
              "      <td>520.680204</td>\n",
              "      <td>41.642693</td>\n",
              "      <td>3.972040</td>\n",
              "      <td>6.542142</td>\n",
              "      <td>6.886443</td>\n",
              "    </tr>\n",
              "    <tr>\n",
              "      <th>min</th>\n",
              "      <td>-2.000000</td>\n",
              "      <td>65.000000</td>\n",
              "      <td>86.600000</td>\n",
              "      <td>141.100000</td>\n",
              "      <td>60.300000</td>\n",
              "      <td>47.800000</td>\n",
              "      <td>1488.000000</td>\n",
              "      <td>61.000000</td>\n",
              "      <td>7.000000</td>\n",
              "      <td>13.000000</td>\n",
              "      <td>16.000000</td>\n",
              "    </tr>\n",
              "    <tr>\n",
              "      <th>25%</th>\n",
              "      <td>0.000000</td>\n",
              "      <td>101.000000</td>\n",
              "      <td>94.500000</td>\n",
              "      <td>166.300000</td>\n",
              "      <td>64.100000</td>\n",
              "      <td>52.000000</td>\n",
              "      <td>2145.000000</td>\n",
              "      <td>97.000000</td>\n",
              "      <td>8.600000</td>\n",
              "      <td>19.000000</td>\n",
              "      <td>25.000000</td>\n",
              "    </tr>\n",
              "    <tr>\n",
              "      <th>50%</th>\n",
              "      <td>1.000000</td>\n",
              "      <td>122.000000</td>\n",
              "      <td>97.000000</td>\n",
              "      <td>173.200000</td>\n",
              "      <td>65.500000</td>\n",
              "      <td>54.100000</td>\n",
              "      <td>2414.000000</td>\n",
              "      <td>120.000000</td>\n",
              "      <td>9.000000</td>\n",
              "      <td>24.000000</td>\n",
              "      <td>30.000000</td>\n",
              "    </tr>\n",
              "    <tr>\n",
              "      <th>75%</th>\n",
              "      <td>2.000000</td>\n",
              "      <td>137.000000</td>\n",
              "      <td>102.400000</td>\n",
              "      <td>183.100000</td>\n",
              "      <td>66.900000</td>\n",
              "      <td>55.500000</td>\n",
              "      <td>2935.000000</td>\n",
              "      <td>141.000000</td>\n",
              "      <td>9.400000</td>\n",
              "      <td>30.000000</td>\n",
              "      <td>34.000000</td>\n",
              "    </tr>\n",
              "    <tr>\n",
              "      <th>max</th>\n",
              "      <td>3.000000</td>\n",
              "      <td>256.000000</td>\n",
              "      <td>120.900000</td>\n",
              "      <td>208.100000</td>\n",
              "      <td>72.300000</td>\n",
              "      <td>59.800000</td>\n",
              "      <td>4066.000000</td>\n",
              "      <td>326.000000</td>\n",
              "      <td>23.000000</td>\n",
              "      <td>49.000000</td>\n",
              "      <td>54.000000</td>\n",
              "    </tr>\n",
              "  </tbody>\n",
              "</table>\n",
              "</div>\n",
              "      <button class=\"colab-df-convert\" onclick=\"convertToInteractive('df-8e3beb44-4b3a-4aea-9cc6-c64582ef23c3')\"\n",
              "              title=\"Convert this dataframe to an interactive table.\"\n",
              "              style=\"display:none;\">\n",
              "        \n",
              "  <svg xmlns=\"http://www.w3.org/2000/svg\" height=\"24px\"viewBox=\"0 0 24 24\"\n",
              "       width=\"24px\">\n",
              "    <path d=\"M0 0h24v24H0V0z\" fill=\"none\"/>\n",
              "    <path d=\"M18.56 5.44l.94 2.06.94-2.06 2.06-.94-2.06-.94-.94-2.06-.94 2.06-2.06.94zm-11 1L8.5 8.5l.94-2.06 2.06-.94-2.06-.94L8.5 2.5l-.94 2.06-2.06.94zm10 10l.94 2.06.94-2.06 2.06-.94-2.06-.94-.94-2.06-.94 2.06-2.06.94z\"/><path d=\"M17.41 7.96l-1.37-1.37c-.4-.4-.92-.59-1.43-.59-.52 0-1.04.2-1.43.59L10.3 9.45l-7.72 7.72c-.78.78-.78 2.05 0 2.83L4 21.41c.39.39.9.59 1.41.59.51 0 1.02-.2 1.41-.59l7.78-7.78 2.81-2.81c.8-.78.8-2.07 0-2.86zM5.41 20L4 18.59l7.72-7.72 1.47 1.35L5.41 20z\"/>\n",
              "  </svg>\n",
              "      </button>\n",
              "      \n",
              "  <style>\n",
              "    .colab-df-container {\n",
              "      display:flex;\n",
              "      flex-wrap:wrap;\n",
              "      gap: 12px;\n",
              "    }\n",
              "\n",
              "    .colab-df-convert {\n",
              "      background-color: #E8F0FE;\n",
              "      border: none;\n",
              "      border-radius: 50%;\n",
              "      cursor: pointer;\n",
              "      display: none;\n",
              "      fill: #1967D2;\n",
              "      height: 32px;\n",
              "      padding: 0 0 0 0;\n",
              "      width: 32px;\n",
              "    }\n",
              "\n",
              "    .colab-df-convert:hover {\n",
              "      background-color: #E2EBFA;\n",
              "      box-shadow: 0px 1px 2px rgba(60, 64, 67, 0.3), 0px 1px 3px 1px rgba(60, 64, 67, 0.15);\n",
              "      fill: #174EA6;\n",
              "    }\n",
              "\n",
              "    [theme=dark] .colab-df-convert {\n",
              "      background-color: #3B4455;\n",
              "      fill: #D2E3FC;\n",
              "    }\n",
              "\n",
              "    [theme=dark] .colab-df-convert:hover {\n",
              "      background-color: #434B5C;\n",
              "      box-shadow: 0px 1px 3px 1px rgba(0, 0, 0, 0.15);\n",
              "      filter: drop-shadow(0px 1px 2px rgba(0, 0, 0, 0.3));\n",
              "      fill: #FFFFFF;\n",
              "    }\n",
              "  </style>\n",
              "\n",
              "      <script>\n",
              "        const buttonEl =\n",
              "          document.querySelector('#df-8e3beb44-4b3a-4aea-9cc6-c64582ef23c3 button.colab-df-convert');\n",
              "        buttonEl.style.display =\n",
              "          google.colab.kernel.accessAllowed ? 'block' : 'none';\n",
              "\n",
              "        async function convertToInteractive(key) {\n",
              "          const element = document.querySelector('#df-8e3beb44-4b3a-4aea-9cc6-c64582ef23c3');\n",
              "          const dataTable =\n",
              "            await google.colab.kernel.invokeFunction('convertToInteractive',\n",
              "                                                     [key], {});\n",
              "          if (!dataTable) return;\n",
              "\n",
              "          const docLinkHtml = 'Like what you see? Visit the ' +\n",
              "            '<a target=\"_blank\" href=https://colab.research.google.com/notebooks/data_table.ipynb>data table notebook</a>'\n",
              "            + ' to learn more about interactive tables.';\n",
              "          element.innerHTML = '';\n",
              "          dataTable['output_type'] = 'display_data';\n",
              "          await google.colab.output.renderOutput(dataTable, element);\n",
              "          const docLink = document.createElement('div');\n",
              "          docLink.innerHTML = docLinkHtml;\n",
              "          element.appendChild(docLink);\n",
              "        }\n",
              "      </script>\n",
              "    </div>\n",
              "  </div>\n",
              "  "
            ]
          },
          "metadata": {},
          "execution_count": 38
        }
      ]
    },
    {
      "cell_type": "markdown",
      "source": [
        "Para obtener un resumen de alguna variable categórica se puede utilizar el método *value_counts()*."
      ],
      "metadata": {
        "id": "SBvJs8tHy5z4"
      }
    },
    {
      "cell_type": "code",
      "source": [
        "drive_wheels_counts = df[\"drive-wheels\"].value_counts().to_frame()\n",
        "drive_wheels_counts.rename(columns={\"drive-wheels\": \"value_counts\"}, inplace=True)\n",
        "drive_wheels_counts.index.name = \"drive-wheels\"\n",
        "drive_wheels_counts"
      ],
      "metadata": {
        "colab": {
          "base_uri": "https://localhost:8080/",
          "height": 175
        },
        "id": "v7nG0macy5Ad",
        "outputId": "33da6b9d-da60-4067-eaad-11a3adc4bba3"
      },
      "execution_count": 39,
      "outputs": [
        {
          "output_type": "execute_result",
          "data": {
            "text/plain": [
              "              value_counts\n",
              "drive-wheels              \n",
              "fwd                    120\n",
              "rwd                     76\n",
              "4wd                      9"
            ],
            "text/html": [
              "\n",
              "  <div id=\"df-2bb99408-86da-4714-945f-336b635e3a46\">\n",
              "    <div class=\"colab-df-container\">\n",
              "      <div>\n",
              "<style scoped>\n",
              "    .dataframe tbody tr th:only-of-type {\n",
              "        vertical-align: middle;\n",
              "    }\n",
              "\n",
              "    .dataframe tbody tr th {\n",
              "        vertical-align: top;\n",
              "    }\n",
              "\n",
              "    .dataframe thead th {\n",
              "        text-align: right;\n",
              "    }\n",
              "</style>\n",
              "<table border=\"1\" class=\"dataframe\">\n",
              "  <thead>\n",
              "    <tr style=\"text-align: right;\">\n",
              "      <th></th>\n",
              "      <th>value_counts</th>\n",
              "    </tr>\n",
              "    <tr>\n",
              "      <th>drive-wheels</th>\n",
              "      <th></th>\n",
              "    </tr>\n",
              "  </thead>\n",
              "  <tbody>\n",
              "    <tr>\n",
              "      <th>fwd</th>\n",
              "      <td>120</td>\n",
              "    </tr>\n",
              "    <tr>\n",
              "      <th>rwd</th>\n",
              "      <td>76</td>\n",
              "    </tr>\n",
              "    <tr>\n",
              "      <th>4wd</th>\n",
              "      <td>9</td>\n",
              "    </tr>\n",
              "  </tbody>\n",
              "</table>\n",
              "</div>\n",
              "      <button class=\"colab-df-convert\" onclick=\"convertToInteractive('df-2bb99408-86da-4714-945f-336b635e3a46')\"\n",
              "              title=\"Convert this dataframe to an interactive table.\"\n",
              "              style=\"display:none;\">\n",
              "        \n",
              "  <svg xmlns=\"http://www.w3.org/2000/svg\" height=\"24px\"viewBox=\"0 0 24 24\"\n",
              "       width=\"24px\">\n",
              "    <path d=\"M0 0h24v24H0V0z\" fill=\"none\"/>\n",
              "    <path d=\"M18.56 5.44l.94 2.06.94-2.06 2.06-.94-2.06-.94-.94-2.06-.94 2.06-2.06.94zm-11 1L8.5 8.5l.94-2.06 2.06-.94-2.06-.94L8.5 2.5l-.94 2.06-2.06.94zm10 10l.94 2.06.94-2.06 2.06-.94-2.06-.94-.94-2.06-.94 2.06-2.06.94z\"/><path d=\"M17.41 7.96l-1.37-1.37c-.4-.4-.92-.59-1.43-.59-.52 0-1.04.2-1.43.59L10.3 9.45l-7.72 7.72c-.78.78-.78 2.05 0 2.83L4 21.41c.39.39.9.59 1.41.59.51 0 1.02-.2 1.41-.59l7.78-7.78 2.81-2.81c.8-.78.8-2.07 0-2.86zM5.41 20L4 18.59l7.72-7.72 1.47 1.35L5.41 20z\"/>\n",
              "  </svg>\n",
              "      </button>\n",
              "      \n",
              "  <style>\n",
              "    .colab-df-container {\n",
              "      display:flex;\n",
              "      flex-wrap:wrap;\n",
              "      gap: 12px;\n",
              "    }\n",
              "\n",
              "    .colab-df-convert {\n",
              "      background-color: #E8F0FE;\n",
              "      border: none;\n",
              "      border-radius: 50%;\n",
              "      cursor: pointer;\n",
              "      display: none;\n",
              "      fill: #1967D2;\n",
              "      height: 32px;\n",
              "      padding: 0 0 0 0;\n",
              "      width: 32px;\n",
              "    }\n",
              "\n",
              "    .colab-df-convert:hover {\n",
              "      background-color: #E2EBFA;\n",
              "      box-shadow: 0px 1px 2px rgba(60, 64, 67, 0.3), 0px 1px 3px 1px rgba(60, 64, 67, 0.15);\n",
              "      fill: #174EA6;\n",
              "    }\n",
              "\n",
              "    [theme=dark] .colab-df-convert {\n",
              "      background-color: #3B4455;\n",
              "      fill: #D2E3FC;\n",
              "    }\n",
              "\n",
              "    [theme=dark] .colab-df-convert:hover {\n",
              "      background-color: #434B5C;\n",
              "      box-shadow: 0px 1px 3px 1px rgba(0, 0, 0, 0.15);\n",
              "      filter: drop-shadow(0px 1px 2px rgba(0, 0, 0, 0.3));\n",
              "      fill: #FFFFFF;\n",
              "    }\n",
              "  </style>\n",
              "\n",
              "      <script>\n",
              "        const buttonEl =\n",
              "          document.querySelector('#df-2bb99408-86da-4714-945f-336b635e3a46 button.colab-df-convert');\n",
              "        buttonEl.style.display =\n",
              "          google.colab.kernel.accessAllowed ? 'block' : 'none';\n",
              "\n",
              "        async function convertToInteractive(key) {\n",
              "          const element = document.querySelector('#df-2bb99408-86da-4714-945f-336b635e3a46');\n",
              "          const dataTable =\n",
              "            await google.colab.kernel.invokeFunction('convertToInteractive',\n",
              "                                                     [key], {});\n",
              "          if (!dataTable) return;\n",
              "\n",
              "          const docLinkHtml = 'Like what you see? Visit the ' +\n",
              "            '<a target=\"_blank\" href=https://colab.research.google.com/notebooks/data_table.ipynb>data table notebook</a>'\n",
              "            + ' to learn more about interactive tables.';\n",
              "          element.innerHTML = '';\n",
              "          dataTable['output_type'] = 'display_data';\n",
              "          await google.colab.output.renderOutput(dataTable, element);\n",
              "          const docLink = document.createElement('div');\n",
              "          docLink.innerHTML = docLinkHtml;\n",
              "          element.appendChild(docLink);\n",
              "        }\n",
              "      </script>\n",
              "    </div>\n",
              "  </div>\n",
              "  "
            ]
          },
          "metadata": {},
          "execution_count": 39
        }
      ]
    },
    {
      "cell_type": "markdown",
      "source": [
        "Los diagramas de caja también son una buena manera para visualizar la distribución de los datos."
      ],
      "metadata": {
        "id": "-OyR81K02m74"
      }
    },
    {
      "cell_type": "code",
      "source": [
        "df[\"price\"]=df[\"price\"].astype(float)\n",
        "sns.boxplot(x=\"drive-wheels\", y=\"price\", data=df)"
      ],
      "metadata": {
        "colab": {
          "base_uri": "https://localhost:8080/",
          "height": 296
        },
        "id": "J-f1T1_p3JlR",
        "outputId": "5b170f54-bfa0-4fc2-ff47-b8a5fcf9f217"
      },
      "execution_count": 45,
      "outputs": [
        {
          "output_type": "execute_result",
          "data": {
            "text/plain": [
              "<matplotlib.axes._subplots.AxesSubplot at 0x7fa6f3626390>"
            ]
          },
          "metadata": {},
          "execution_count": 45
        },
        {
          "output_type": "display_data",
          "data": {
            "text/plain": [
              "<Figure size 432x288 with 1 Axes>"
            ],
            "image/png": "[encoded data removed]"
          },
          "metadata": {
            "needs_background": "light"
          }
        }
      ]
    },
    {
      "cell_type": "markdown",
      "source": [
        "Aveces se requiere saber cuales son las variables continuas en nuestro set de datos. Una manera para visualizar esto es usando un scatter plot. Este gráfico muestra la relación entre dos variables: variable predictora y variable objetivo."
      ],
      "metadata": {
        "id": "sD5uztu75HbF"
      }
    },
    {
      "cell_type": "code",
      "source": [
        "y=df[\"engine-size\"]\n",
        "x=df[\"price\"]\n",
        "plt.scatter(x,y)\n",
        "plt.title(\"Scatterplot of Enfine Size vs Price\")\n",
        "plt.xlabel(\"Engine Size\")\n",
        "plt.ylabel(\"Price\")"
      ],
      "metadata": {
        "colab": {
          "base_uri": "https://localhost:8080/",
          "height": 312
        },
        "id": "J2fnvGuU5vUv",
        "outputId": "ee7f30da-87ea-4b74-f542-92dd5b3a3c9f"
      },
      "execution_count": 46,
      "outputs": [
        {
          "output_type": "execute_result",
          "data": {
            "text/plain": [
              "Text(0, 0.5, 'Price')"
            ]
          },
          "metadata": {},
          "execution_count": 46
        },
        {
          "output_type": "display_data",
          "data": {
            "text/plain": [
              "<Figure size 432x288 with 1 Axes>"
            ],
            "image/png": "[encoded data removed]"
          },
          "metadata": {
            "needs_background": "light"
          }
        }
      ]
    },
    {
      "cell_type": "markdown",
      "source": [
        "---\n",
        "##**Agrupar por o *Groupby()***"
      ],
      "metadata": {
        "id": "gnxVi88g7SZi"
      }
    },
    {
      "cell_type": "markdown",
      "source": [
        "Se requiere saber cual tipo de sistema de manejo agrega mas valor al vehículo, para esto se agrupan los datos por sus diferentes tipos de tracciones y se comparan los resultados unos contra otros."
      ],
      "metadata": {
        "id": "UTTj89pz85nP"
      }
    },
    {
      "cell_type": "code",
      "source": [
        "df_test = df[[\"drive-wheels\",\"body-style\",\"price\"]]\n",
        "df_grp = df_test.groupby([\"drive-wheels\",\"body-style\"], as_index=False).mean()\n",
        "df_grp"
      ],
      "metadata": {
        "colab": {
          "base_uri": "https://localhost:8080/",
          "height": 457
        },
        "id": "FPCg5jvg7neX",
        "outputId": "afbf35bc-9c28-4192-e75b-5e43611ae20d"
      },
      "execution_count": 48,
      "outputs": [
        {
          "output_type": "execute_result",
          "data": {
            "text/plain": [
              "   drive-wheels   body-style         price\n",
              "0           4wd    hatchback   7603.000000\n",
              "1           4wd        sedan  12647.333333\n",
              "2           4wd        wagon   9095.750000\n",
              "3           fwd  convertible  11595.000000\n",
              "4           fwd      hardtop   8249.000000\n",
              "5           fwd    hatchback   8396.387755\n",
              "6           fwd        sedan   9811.800000\n",
              "7           fwd        wagon   9997.333333\n",
              "8           rwd  convertible  23949.600000\n",
              "9           rwd      hardtop  24202.714286\n",
              "10          rwd    hatchback  14337.777778\n",
              "11          rwd        sedan  21711.833333\n",
              "12          rwd        wagon  16994.222222"
            ],
            "text/html": [
              "\n",
              "  <div id=\"df-f88e82d4-62fb-4dc6-8223-b22d79e3c6c8\">\n",
              "    <div class=\"colab-df-container\">\n",
              "      <div>\n",
              "<style scoped>\n",
              "    .dataframe tbody tr th:only-of-type {\n",
              "        vertical-align: middle;\n",
              "    }\n",
              "\n",
              "    .dataframe tbody tr th {\n",
              "        vertical-align: top;\n",
              "    }\n",
              "\n",
              "    .dataframe thead th {\n",
              "        text-align: right;\n",
              "    }\n",
              "</style>\n",
              "<table border=\"1\" class=\"dataframe\">\n",
              "  <thead>\n",
              "    <tr style=\"text-align: right;\">\n",
              "      <th></th>\n",
              "      <th>drive-wheels</th>\n",
              "      <th>body-style</th>\n",
              "      <th>price</th>\n",
              "    </tr>\n",
              "  </thead>\n",
              "  <tbody>\n",
              "    <tr>\n",
              "      <th>0</th>\n",
              "      <td>4wd</td>\n",
              "      <td>hatchback</td>\n",
              "      <td>7603.000000</td>\n",
              "    </tr>\n",
              "    <tr>\n",
              "      <th>1</th>\n",
              "      <td>4wd</td>\n",
              "      <td>sedan</td>\n",
              "      <td>12647.333333</td>\n",
              "    </tr>\n",
              "    <tr>\n",
              "      <th>2</th>\n",
              "      <td>4wd</td>\n",
              "      <td>wagon</td>\n",
              "      <td>9095.750000</td>\n",
              "    </tr>\n",
              "    <tr>\n",
              "      <th>3</th>\n",
              "      <td>fwd</td>\n",
              "      <td>convertible</td>\n",
              "      <td>11595.000000</td>\n",
              "    </tr>\n",
              "    <tr>\n",
              "      <th>4</th>\n",
              "      <td>fwd</td>\n",
              "      <td>hardtop</td>\n",
              "      <td>8249.000000</td>\n",
              "    </tr>\n",
              "    <tr>\n",
              "      <th>5</th>\n",
              "      <td>fwd</td>\n",
              "      <td>hatchback</td>\n",
              "      <td>8396.387755</td>\n",
              "    </tr>\n",
              "    <tr>\n",
              "      <th>6</th>\n",
              "      <td>fwd</td>\n",
              "      <td>sedan</td>\n",
              "      <td>9811.800000</td>\n",
              "    </tr>\n",
              "    <tr>\n",
              "      <th>7</th>\n",
              "      <td>fwd</td>\n",
              "      <td>wagon</td>\n",
              "      <td>9997.333333</td>\n",
              "    </tr>\n",
              "    <tr>\n",
              "      <th>8</th>\n",
              "      <td>rwd</td>\n",
              "      <td>convertible</td>\n",
              "      <td>23949.600000</td>\n",
              "    </tr>\n",
              "    <tr>\n",
              "      <th>9</th>\n",
              "      <td>rwd</td>\n",
              "      <td>hardtop</td>\n",
              "      <td>24202.714286</td>\n",
              "    </tr>\n",
              "    <tr>\n",
              "      <th>10</th>\n",
              "      <td>rwd</td>\n",
              "      <td>hatchback</td>\n",
              "      <td>14337.777778</td>\n",
              "    </tr>\n",
              "    <tr>\n",
              "      <th>11</th>\n",
              "      <td>rwd</td>\n",
              "      <td>sedan</td>\n",
              "      <td>21711.833333</td>\n",
              "    </tr>\n",
              "    <tr>\n",
              "      <th>12</th>\n",
              "      <td>rwd</td>\n",
              "      <td>wagon</td>\n",
              "      <td>16994.222222</td>\n",
              "    </tr>\n",
              "  </tbody>\n",
              "</table>\n",
              "</div>\n",
              "      <button class=\"colab-df-convert\" onclick=\"convertToInteractive('df-f88e82d4-62fb-4dc6-8223-b22d79e3c6c8')\"\n",
              "              title=\"Convert this dataframe to an interactive table.\"\n",
              "              style=\"display:none;\">\n",
              "        \n",
              "  <svg xmlns=\"http://www.w3.org/2000/svg\" height=\"24px\"viewBox=\"0 0 24 24\"\n",
              "       width=\"24px\">\n",
              "    <path d=\"M0 0h24v24H0V0z\" fill=\"none\"/>\n",
              "    <path d=\"M18.56 5.44l.94 2.06.94-2.06 2.06-.94-2.06-.94-.94-2.06-.94 2.06-2.06.94zm-11 1L8.5 8.5l.94-2.06 2.06-.94-2.06-.94L8.5 2.5l-.94 2.06-2.06.94zm10 10l.94 2.06.94-2.06 2.06-.94-2.06-.94-.94-2.06-.94 2.06-2.06.94z\"/><path d=\"M17.41 7.96l-1.37-1.37c-.4-.4-.92-.59-1.43-.59-.52 0-1.04.2-1.43.59L10.3 9.45l-7.72 7.72c-.78.78-.78 2.05 0 2.83L4 21.41c.39.39.9.59 1.41.59.51 0 1.02-.2 1.41-.59l7.78-7.78 2.81-2.81c.8-.78.8-2.07 0-2.86zM5.41 20L4 18.59l7.72-7.72 1.47 1.35L5.41 20z\"/>\n",
              "  </svg>\n",
              "      </button>\n",
              "      \n",
              "  <style>\n",
              "    .colab-df-container {\n",
              "      display:flex;\n",
              "      flex-wrap:wrap;\n",
              "      gap: 12px;\n",
              "    }\n",
              "\n",
              "    .colab-df-convert {\n",
              "      background-color: #E8F0FE;\n",
              "      border: none;\n",
              "      border-radius: 50%;\n",
              "      cursor: pointer;\n",
              "      display: none;\n",
              "      fill: #1967D2;\n",
              "      height: 32px;\n",
              "      padding: 0 0 0 0;\n",
              "      width: 32px;\n",
              "    }\n",
              "\n",
              "    .colab-df-convert:hover {\n",
              "      background-color: #E2EBFA;\n",
              "      box-shadow: 0px 1px 2px rgba(60, 64, 67, 0.3), 0px 1px 3px 1px rgba(60, 64, 67, 0.15);\n",
              "      fill: #174EA6;\n",
              "    }\n",
              "\n",
              "    [theme=dark] .colab-df-convert {\n",
              "      background-color: #3B4455;\n",
              "      fill: #D2E3FC;\n",
              "    }\n",
              "\n",
              "    [theme=dark] .colab-df-convert:hover {\n",
              "      background-color: #434B5C;\n",
              "      box-shadow: 0px 1px 3px 1px rgba(0, 0, 0, 0.15);\n",
              "      filter: drop-shadow(0px 1px 2px rgba(0, 0, 0, 0.3));\n",
              "      fill: #FFFFFF;\n",
              "    }\n",
              "  </style>\n",
              "\n",
              "      <script>\n",
              "        const buttonEl =\n",
              "          document.querySelector('#df-f88e82d4-62fb-4dc6-8223-b22d79e3c6c8 button.colab-df-convert');\n",
              "        buttonEl.style.display =\n",
              "          google.colab.kernel.accessAllowed ? 'block' : 'none';\n",
              "\n",
              "        async function convertToInteractive(key) {\n",
              "          const element = document.querySelector('#df-f88e82d4-62fb-4dc6-8223-b22d79e3c6c8');\n",
              "          const dataTable =\n",
              "            await google.colab.kernel.invokeFunction('convertToInteractive',\n",
              "                                                     [key], {});\n",
              "          if (!dataTable) return;\n",
              "\n",
              "          const docLinkHtml = 'Like what you see? Visit the ' +\n",
              "            '<a target=\"_blank\" href=https://colab.research.google.com/notebooks/data_table.ipynb>data table notebook</a>'\n",
              "            + ' to learn more about interactive tables.';\n",
              "          element.innerHTML = '';\n",
              "          dataTable['output_type'] = 'display_data';\n",
              "          await google.colab.output.renderOutput(dataTable, element);\n",
              "          const docLink = document.createElement('div');\n",
              "          docLink.innerHTML = docLinkHtml;\n",
              "          element.appendChild(docLink);\n",
              "        }\n",
              "      </script>\n",
              "    </div>\n",
              "  </div>\n",
              "  "
            ]
          },
          "metadata": {},
          "execution_count": 48
        }
      ]
    },
    {
      "cell_type": "markdown",
      "source": [
        "Para entenderlo de una mejor manera, podemos transformar la tabla a una tabla pivoteada."
      ],
      "metadata": {
        "id": "KwTwLJaj-a-o"
      }
    },
    {
      "cell_type": "code",
      "source": [
        "df_pivot = df_grp.pivot(index=\"drive-wheels\", columns=\"body-style\")\n",
        "df_pivot = df_pivot.fillna(0)\n",
        "df_pivot"
      ],
      "metadata": {
        "colab": {
          "base_uri": "https://localhost:8080/",
          "height": 206
        },
        "id": "q0laDzsi-nfo",
        "outputId": "f2d07376-e78e-44f8-d032-c4c6f97fb4a3"
      },
      "execution_count": 52,
      "outputs": [
        {
          "output_type": "execute_result",
          "data": {
            "text/plain": [
              "                   price                                            \\\n",
              "body-style   convertible       hardtop     hatchback         sedan   \n",
              "drive-wheels                                                         \n",
              "4wd                  0.0      0.000000   7603.000000  12647.333333   \n",
              "fwd              11595.0   8249.000000   8396.387755   9811.800000   \n",
              "rwd              23949.6  24202.714286  14337.777778  21711.833333   \n",
              "\n",
              "                            \n",
              "body-style           wagon  \n",
              "drive-wheels                \n",
              "4wd            9095.750000  \n",
              "fwd            9997.333333  \n",
              "rwd           16994.222222  "
            ],
            "text/html": [
              "\n",
              "  <div id=\"df-0ceef50f-31af-4916-853f-58bf01df054f\">\n",
              "    <div class=\"colab-df-container\">\n",
              "      <div>\n",
              "<style scoped>\n",
              "    .dataframe tbody tr th:only-of-type {\n",
              "        vertical-align: middle;\n",
              "    }\n",
              "\n",
              "    .dataframe tbody tr th {\n",
              "        vertical-align: top;\n",
              "    }\n",
              "\n",
              "    .dataframe thead tr th {\n",
              "        text-align: left;\n",
              "    }\n",
              "\n",
              "    .dataframe thead tr:last-of-type th {\n",
              "        text-align: right;\n",
              "    }\n",
              "</style>\n",
              "<table border=\"1\" class=\"dataframe\">\n",
              "  <thead>\n",
              "    <tr>\n",
              "      <th></th>\n",
              "      <th colspan=\"5\" halign=\"left\">price</th>\n",
              "    </tr>\n",
              "    <tr>\n",
              "      <th>body-style</th>\n",
              "      <th>convertible</th>\n",
              "      <th>hardtop</th>\n",
              "      <th>hatchback</th>\n",
              "      <th>sedan</th>\n",
              "      <th>wagon</th>\n",
              "    </tr>\n",
              "    <tr>\n",
              "      <th>drive-wheels</th>\n",
              "      <th></th>\n",
              "      <th></th>\n",
              "      <th></th>\n",
              "      <th></th>\n",
              "      <th></th>\n",
              "    </tr>\n",
              "  </thead>\n",
              "  <tbody>\n",
              "    <tr>\n",
              "      <th>4wd</th>\n",
              "      <td>0.0</td>\n",
              "      <td>0.000000</td>\n",
              "      <td>7603.000000</td>\n",
              "      <td>12647.333333</td>\n",
              "      <td>9095.750000</td>\n",
              "    </tr>\n",
              "    <tr>\n",
              "      <th>fwd</th>\n",
              "      <td>11595.0</td>\n",
              "      <td>8249.000000</td>\n",
              "      <td>8396.387755</td>\n",
              "      <td>9811.800000</td>\n",
              "      <td>9997.333333</td>\n",
              "    </tr>\n",
              "    <tr>\n",
              "      <th>rwd</th>\n",
              "      <td>23949.6</td>\n",
              "      <td>24202.714286</td>\n",
              "      <td>14337.777778</td>\n",
              "      <td>21711.833333</td>\n",
              "      <td>16994.222222</td>\n",
              "    </tr>\n",
              "  </tbody>\n",
              "</table>\n",
              "</div>\n",
              "      <button class=\"colab-df-convert\" onclick=\"convertToInteractive('df-0ceef50f-31af-4916-853f-58bf01df054f')\"\n",
              "              title=\"Convert this dataframe to an interactive table.\"\n",
              "              style=\"display:none;\">\n",
              "        \n",
              "  <svg xmlns=\"http://www.w3.org/2000/svg\" height=\"24px\"viewBox=\"0 0 24 24\"\n",
              "       width=\"24px\">\n",
              "    <path d=\"M0 0h24v24H0V0z\" fill=\"none\"/>\n",
              "    <path d=\"M18.56 5.44l.94 2.06.94-2.06 2.06-.94-2.06-.94-.94-2.06-.94 2.06-2.06.94zm-11 1L8.5 8.5l.94-2.06 2.06-.94-2.06-.94L8.5 2.5l-.94 2.06-2.06.94zm10 10l.94 2.06.94-2.06 2.06-.94-2.06-.94-.94-2.06-.94 2.06-2.06.94z\"/><path d=\"M17.41 7.96l-1.37-1.37c-.4-.4-.92-.59-1.43-.59-.52 0-1.04.2-1.43.59L10.3 9.45l-7.72 7.72c-.78.78-.78 2.05 0 2.83L4 21.41c.39.39.9.59 1.41.59.51 0 1.02-.2 1.41-.59l7.78-7.78 2.81-2.81c.8-.78.8-2.07 0-2.86zM5.41 20L4 18.59l7.72-7.72 1.47 1.35L5.41 20z\"/>\n",
              "  </svg>\n",
              "      </button>\n",
              "      \n",
              "  <style>\n",
              "    .colab-df-container {\n",
              "      display:flex;\n",
              "      flex-wrap:wrap;\n",
              "      gap: 12px;\n",
              "    }\n",
              "\n",
              "    .colab-df-convert {\n",
              "      background-color: #E8F0FE;\n",
              "      border: none;\n",
              "      border-radius: 50%;\n",
              "      cursor: pointer;\n",
              "      display: none;\n",
              "      fill: #1967D2;\n",
              "      height: 32px;\n",
              "      padding: 0 0 0 0;\n",
              "      width: 32px;\n",
              "    }\n",
              "\n",
              "    .colab-df-convert:hover {\n",
              "      background-color: #E2EBFA;\n",
              "      box-shadow: 0px 1px 2px rgba(60, 64, 67, 0.3), 0px 1px 3px 1px rgba(60, 64, 67, 0.15);\n",
              "      fill: #174EA6;\n",
              "    }\n",
              "\n",
              "    [theme=dark] .colab-df-convert {\n",
              "      background-color: #3B4455;\n",
              "      fill: #D2E3FC;\n",
              "    }\n",
              "\n",
              "    [theme=dark] .colab-df-convert:hover {\n",
              "      background-color: #434B5C;\n",
              "      box-shadow: 0px 1px 3px 1px rgba(0, 0, 0, 0.15);\n",
              "      filter: drop-shadow(0px 1px 2px rgba(0, 0, 0, 0.3));\n",
              "      fill: #FFFFFF;\n",
              "    }\n",
              "  </style>\n",
              "\n",
              "      <script>\n",
              "        const buttonEl =\n",
              "          document.querySelector('#df-0ceef50f-31af-4916-853f-58bf01df054f button.colab-df-convert');\n",
              "        buttonEl.style.display =\n",
              "          google.colab.kernel.accessAllowed ? 'block' : 'none';\n",
              "\n",
              "        async function convertToInteractive(key) {\n",
              "          const element = document.querySelector('#df-0ceef50f-31af-4916-853f-58bf01df054f');\n",
              "          const dataTable =\n",
              "            await google.colab.kernel.invokeFunction('convertToInteractive',\n",
              "                                                     [key], {});\n",
              "          if (!dataTable) return;\n",
              "\n",
              "          const docLinkHtml = 'Like what you see? Visit the ' +\n",
              "            '<a target=\"_blank\" href=https://colab.research.google.com/notebooks/data_table.ipynb>data table notebook</a>'\n",
              "            + ' to learn more about interactive tables.';\n",
              "          element.innerHTML = '';\n",
              "          dataTable['output_type'] = 'display_data';\n",
              "          await google.colab.output.renderOutput(dataTable, element);\n",
              "          const docLink = document.createElement('div');\n",
              "          docLink.innerHTML = docLinkHtml;\n",
              "          element.appendChild(docLink);\n",
              "        }\n",
              "      </script>\n",
              "    </div>\n",
              "  </div>\n",
              "  "
            ]
          },
          "metadata": {},
          "execution_count": 52
        }
      ]
    },
    {
      "cell_type": "markdown",
      "source": [
        "Otra manera para representar una tabla pivoteada es mediante el uso de un mapa de calor."
      ],
      "metadata": {
        "id": "qHt8iXnx--YK"
      }
    },
    {
      "cell_type": "code",
      "source": [
        "plt.pcolor(df_pivot, cmap=\"RdBu\")\n",
        "plt.colorbar()\n",
        "plt.show"
      ],
      "metadata": {
        "colab": {
          "base_uri": "https://localhost:8080/",
          "height": 286
        },
        "id": "ImFcxbgh_lWJ",
        "outputId": "0b9545a5-0501-4b18-8ccf-f66897e4fc49"
      },
      "execution_count": 55,
      "outputs": [
        {
          "output_type": "execute_result",
          "data": {
            "text/plain": [
              "<function matplotlib.pyplot.show(*args, **kw)>"
            ]
          },
          "metadata": {},
          "execution_count": 55
        },
        {
          "output_type": "display_data",
          "data": {
            "text/plain": [
              "<Figure size 432x288 with 2 Axes>"
            ],
            "image/png": "[encoded data removed]"
          },
          "metadata": {
            "needs_background": "light"
          }
        }
      ]
    },
    {
      "cell_type": "markdown",
      "source": [
        "---\n",
        "##**Análisis de Varianza (ANOVA)**"
      ],
      "metadata": {
        "id": "g-CcbUCfAHXx"
      }
    },
    {
      "cell_type": "markdown",
      "source": [
        "Asumiendo que se quiere analizar una variable categórica y ver la correlación entre las diferentes categorías.\n",
        "\n",
        "ANOVA significa análisis de varianza. Puede ser utilizada para encontrar la correlación entre los diferentes frupos de una variables categórica.\n",
        "\n",
        "De acuerdo al set de datos, podemos usar ANOVA para determinar si exista alguna diferencia en el precio promedio para las diferentes marcas de auto.\n",
        "\n",
        "ANOVA regresados valores: F-test score y p-value.\n",
        "\n",
        "F-test: Calcula la relación de varianza entre el promedio de los grupos sobre la variación entre cada uno de los grupos de muestra.\n",
        "\n",
        "Pvalue: Grado de confianza."
      ],
      "metadata": {
        "id": "ZlBiKotgAm1U"
      }
    },
    {
      "cell_type": "code",
      "source": [
        "from scipy import stats"
      ],
      "metadata": {
        "id": "8h3eALekU8bn"
      },
      "execution_count": 56,
      "outputs": []
    },
    {
      "cell_type": "code",
      "source": [
        "df_anova=df[[\"make\",\"price\"]]\n",
        "grouped_anova=df_anova.groupby([\"make\"])"
      ],
      "metadata": {
        "id": "gIovdyMUE9oV"
      },
      "execution_count": 60,
      "outputs": []
    },
    {
      "cell_type": "code",
      "source": [
        "#ANOVA entre Honda y Subaru\n",
        "anova_results_l=stats.f_oneway(grouped_anova.get_group(\"honda\")[\"price\"],grouped_anova.get_group(\"subaru\")[\"price\"])\n",
        "anova_results_l"
      ],
      "metadata": {
        "colab": {
          "base_uri": "https://localhost:8080/"
        },
        "id": "A_PVL5mwFT16",
        "outputId": "eab253c8-ca1b-4c6a-c42e-689bfb9f4945"
      },
      "execution_count": 61,
      "outputs": [
        {
          "output_type": "execute_result",
          "data": {
            "text/plain": [
              "F_onewayResult(statistic=0.19744030127462606, pvalue=0.6609478240622193)"
            ]
          },
          "metadata": {},
          "execution_count": 61
        }
      ]
    },
    {
      "cell_type": "code",
      "source": [
        "#ANOVA entre Honda y Jaguar\n",
        "anova_results_l=stats.f_oneway(grouped_anova.get_group(\"honda\")[\"price\"],grouped_anova.get_group(\"jaguar\")[\"price\"])\n",
        "anova_results_l"
      ],
      "metadata": {
        "colab": {
          "base_uri": "https://localhost:8080/"
        },
        "id": "cP6wxJ_hF6Pe",
        "outputId": "0d7ccef6-6308-4edd-ccd9-d997039e66db"
      },
      "execution_count": 62,
      "outputs": [
        {
          "output_type": "execute_result",
          "data": {
            "text/plain": [
              "F_onewayResult(statistic=400.925870564337, pvalue=1.0586193512077862e-11)"
            ]
          },
          "metadata": {},
          "execution_count": 62
        }
      ]
    },
    {
      "cell_type": "markdown",
      "source": [
        "---\n",
        "##**Correlación**"
      ],
      "metadata": {
        "id": "sX3oq31LAM3C"
      }
    },
    {
      "cell_type": "markdown",
      "source": [
        "La correlación es una métrica estadística para medir las variables interdependientes."
      ],
      "metadata": {
        "id": "YcHVxthXKB1D"
      }
    },
    {
      "cell_type": "markdown",
      "source": [
        "**Correlación lineal positiva**"
      ],
      "metadata": {
        "id": "oQ8ZfisZHqP6"
      }
    },
    {
      "cell_type": "code",
      "source": [
        "sns.regplot(x=\"engine-size\", y=\"price\", data=df)\n",
        "plt.ylim(0,)"
      ],
      "metadata": {
        "colab": {
          "base_uri": "https://localhost:8080/",
          "height": 296
        },
        "id": "epEXyeLaHwPI",
        "outputId": "d9704490-6800-424d-eec9-728ecc439444"
      },
      "execution_count": 69,
      "outputs": [
        {
          "output_type": "execute_result",
          "data": {
            "text/plain": [
              "(0.0, 53397.199443168785)"
            ]
          },
          "metadata": {},
          "execution_count": 69
        },
        {
          "output_type": "display_data",
          "data": {
            "text/plain": [
              "<Figure size 432x288 with 1 Axes>"
            ],
            "image/png": "[encoded data removed]"
          },
          "metadata": {
            "needs_background": "light"
          }
        }
      ]
    },
    {
      "cell_type": "code",
      "source": [
        "df[[\"engine-size\", \"price\"]].corr()"
      ],
      "metadata": {
        "colab": {
          "base_uri": "https://localhost:8080/",
          "height": 112
        },
        "id": "fTULA-T-W45r",
        "outputId": "e7ce1ef5-7b54-489e-9f86-b5cbd5ca7df9"
      },
      "execution_count": 70,
      "outputs": [
        {
          "output_type": "execute_result",
          "data": {
            "text/plain": [
              "             engine-size     price\n",
              "engine-size     1.000000  0.872335\n",
              "price           0.872335  1.000000"
            ],
            "text/html": [
              "\n",
              "  <div id=\"df-7d895fa9-3292-4778-9908-2faf6259fdbc\">\n",
              "    <div class=\"colab-df-container\">\n",
              "      <div>\n",
              "<style scoped>\n",
              "    .dataframe tbody tr th:only-of-type {\n",
              "        vertical-align: middle;\n",
              "    }\n",
              "\n",
              "    .dataframe tbody tr th {\n",
              "        vertical-align: top;\n",
              "    }\n",
              "\n",
              "    .dataframe thead th {\n",
              "        text-align: right;\n",
              "    }\n",
              "</style>\n",
              "<table border=\"1\" class=\"dataframe\">\n",
              "  <thead>\n",
              "    <tr style=\"text-align: right;\">\n",
              "      <th></th>\n",
              "      <th>engine-size</th>\n",
              "      <th>price</th>\n",
              "    </tr>\n",
              "  </thead>\n",
              "  <tbody>\n",
              "    <tr>\n",
              "      <th>engine-size</th>\n",
              "      <td>1.000000</td>\n",
              "      <td>0.872335</td>\n",
              "    </tr>\n",
              "    <tr>\n",
              "      <th>price</th>\n",
              "      <td>0.872335</td>\n",
              "      <td>1.000000</td>\n",
              "    </tr>\n",
              "  </tbody>\n",
              "</table>\n",
              "</div>\n",
              "      <button class=\"colab-df-convert\" onclick=\"convertToInteractive('df-7d895fa9-3292-4778-9908-2faf6259fdbc')\"\n",
              "              title=\"Convert this dataframe to an interactive table.\"\n",
              "              style=\"display:none;\">\n",
              "        \n",
              "  <svg xmlns=\"http://www.w3.org/2000/svg\" height=\"24px\"viewBox=\"0 0 24 24\"\n",
              "       width=\"24px\">\n",
              "    <path d=\"M0 0h24v24H0V0z\" fill=\"none\"/>\n",
              "    <path d=\"M18.56 5.44l.94 2.06.94-2.06 2.06-.94-2.06-.94-.94-2.06-.94 2.06-2.06.94zm-11 1L8.5 8.5l.94-2.06 2.06-.94-2.06-.94L8.5 2.5l-.94 2.06-2.06.94zm10 10l.94 2.06.94-2.06 2.06-.94-2.06-.94-.94-2.06-.94 2.06-2.06.94z\"/><path d=\"M17.41 7.96l-1.37-1.37c-.4-.4-.92-.59-1.43-.59-.52 0-1.04.2-1.43.59L10.3 9.45l-7.72 7.72c-.78.78-.78 2.05 0 2.83L4 21.41c.39.39.9.59 1.41.59.51 0 1.02-.2 1.41-.59l7.78-7.78 2.81-2.81c.8-.78.8-2.07 0-2.86zM5.41 20L4 18.59l7.72-7.72 1.47 1.35L5.41 20z\"/>\n",
              "  </svg>\n",
              "      </button>\n",
              "      \n",
              "  <style>\n",
              "    .colab-df-container {\n",
              "      display:flex;\n",
              "      flex-wrap:wrap;\n",
              "      gap: 12px;\n",
              "    }\n",
              "\n",
              "    .colab-df-convert {\n",
              "      background-color: #E8F0FE;\n",
              "      border: none;\n",
              "      border-radius: 50%;\n",
              "      cursor: pointer;\n",
              "      display: none;\n",
              "      fill: #1967D2;\n",
              "      height: 32px;\n",
              "      padding: 0 0 0 0;\n",
              "      width: 32px;\n",
              "    }\n",
              "\n",
              "    .colab-df-convert:hover {\n",
              "      background-color: #E2EBFA;\n",
              "      box-shadow: 0px 1px 2px rgba(60, 64, 67, 0.3), 0px 1px 3px 1px rgba(60, 64, 67, 0.15);\n",
              "      fill: #174EA6;\n",
              "    }\n",
              "\n",
              "    [theme=dark] .colab-df-convert {\n",
              "      background-color: #3B4455;\n",
              "      fill: #D2E3FC;\n",
              "    }\n",
              "\n",
              "    [theme=dark] .colab-df-convert:hover {\n",
              "      background-color: #434B5C;\n",
              "      box-shadow: 0px 1px 3px 1px rgba(0, 0, 0, 0.15);\n",
              "      filter: drop-shadow(0px 1px 2px rgba(0, 0, 0, 0.3));\n",
              "      fill: #FFFFFF;\n",
              "    }\n",
              "  </style>\n",
              "\n",
              "      <script>\n",
              "        const buttonEl =\n",
              "          document.querySelector('#df-7d895fa9-3292-4778-9908-2faf6259fdbc button.colab-df-convert');\n",
              "        buttonEl.style.display =\n",
              "          google.colab.kernel.accessAllowed ? 'block' : 'none';\n",
              "\n",
              "        async function convertToInteractive(key) {\n",
              "          const element = document.querySelector('#df-7d895fa9-3292-4778-9908-2faf6259fdbc');\n",
              "          const dataTable =\n",
              "            await google.colab.kernel.invokeFunction('convertToInteractive',\n",
              "                                                     [key], {});\n",
              "          if (!dataTable) return;\n",
              "\n",
              "          const docLinkHtml = 'Like what you see? Visit the ' +\n",
              "            '<a target=\"_blank\" href=https://colab.research.google.com/notebooks/data_table.ipynb>data table notebook</a>'\n",
              "            + ' to learn more about interactive tables.';\n",
              "          element.innerHTML = '';\n",
              "          dataTable['output_type'] = 'display_data';\n",
              "          await google.colab.output.renderOutput(dataTable, element);\n",
              "          const docLink = document.createElement('div');\n",
              "          docLink.innerHTML = docLinkHtml;\n",
              "          element.appendChild(docLink);\n",
              "        }\n",
              "      </script>\n",
              "    </div>\n",
              "  </div>\n",
              "  "
            ]
          },
          "metadata": {},
          "execution_count": 70
        }
      ]
    },
    {
      "cell_type": "markdown",
      "source": [
        "Podemos observar que existe una relación positiva lineal entre las dos variables."
      ],
      "metadata": {
        "id": "GJ_plhXnJoa3"
      }
    },
    {
      "cell_type": "markdown",
      "source": [
        "**Correlación lineal negativa**"
      ],
      "metadata": {
        "id": "Tu1OXnP1HtGX"
      }
    },
    {
      "cell_type": "code",
      "source": [
        "sns.regplot(x=\"highway-mpg\", y=\"price\", data=df)\n",
        "plt.ylim(0,)"
      ],
      "metadata": {
        "colab": {
          "base_uri": "https://localhost:8080/",
          "height": 296
        },
        "id": "lQhZkcHwI2nl",
        "outputId": "156ba2ab-71b8-4b99-e6ce-f0d64f833e41"
      },
      "execution_count": 68,
      "outputs": [
        {
          "output_type": "execute_result",
          "data": {
            "text/plain": [
              "(0.0, 48160.196470521136)"
            ]
          },
          "metadata": {},
          "execution_count": 68
        },
        {
          "output_type": "display_data",
          "data": {
            "text/plain": [
              "<Figure size 432x288 with 1 Axes>"
            ],
            "image/png": "[encoded data removed]"
          },
          "metadata": {
            "needs_background": "light"
          }
        }
      ]
    },
    {
      "cell_type": "markdown",
      "source": [
        "Se puede observar que cuando highway-mpg va hacia arriba, el valor del precio deciende. Esto quiere decir que las millas por galón son un buen predictor del precio."
      ],
      "metadata": {
        "id": "QNjWTowrJIvh"
      }
    },
    {
      "cell_type": "markdown",
      "source": [
        "---\n",
        "##**Correlación - Estadística**"
      ],
      "metadata": {
        "id": "HaBOqKpfAUXd"
      }
    },
    {
      "cell_type": "markdown",
      "source": [
        "Se busca medir cuan fuerte es la correlación que existe entre dos variables.\n",
        "\n",
        "**Correlación de Pearson**\n",
        "\n",
        "Se obtienen dos valores:\n",
        "* Coeficiente de correlación\n",
        "* P-value\n",
        "\n",
        "*Coeficiente de correlación*\n",
        "\n",
        "* Cerca de +1: Gran relación positiva.\n",
        "* Cerca de -1: Gran relación negativa.\n",
        "* Cerca de 0: No hay relación.\n",
        "\n",
        "*P-value*\n",
        "\n",
        "* P-value < 0.001 = Fuerte certeza de resultado.\n",
        "* P-value < 0.05 = Moderada certeza de resultado.\n",
        "* P-value < 0.1 = Debil certeza de resultado.\n",
        "* P-value > 0.1 = No existe certeza de resultado.\n",
        "\n",
        "Se dice que hay una fuerte correlación cuando el coeficiente de correlación es cercano a 1 o -1 y el P-value es mejor que 0.001."
      ],
      "metadata": {
        "id": "9tSfFZMbKe41"
      }
    },
    {
      "cell_type": "code",
      "source": [
        "df.corr()"
      ],
      "metadata": {
        "colab": {
          "base_uri": "https://localhost:8080/",
          "height": 553
        },
        "id": "LLikwvI0WQgV",
        "outputId": "9aa31fec-cbfb-447a-eda0-b28c40208a23"
      },
      "execution_count": 67,
      "outputs": [
        {
          "output_type": "execute_result",
          "data": {
            "text/plain": [
              "                   symboling  normalized-losses  wheel-base    length  \\\n",
              "symboling           1.000000           0.465190   -0.531954 -0.357612   \n",
              "normalized-losses   0.465190           1.000000   -0.056518  0.019209   \n",
              "wheel-base         -0.531954          -0.056518    1.000000  0.874587   \n",
              "length             -0.357612           0.019209    0.874587  1.000000   \n",
              "width              -0.232919           0.084195    0.795144  0.841118   \n",
              "height             -0.541038          -0.370706    0.589435  0.491029   \n",
              "curb-weight        -0.227691           0.097785    0.776386  0.877728   \n",
              "engine-size        -0.105790           0.110997    0.569329  0.683360   \n",
              "compression-ratio  -0.178515          -0.114525    0.249786  0.158414   \n",
              "horsepower          0.071622           0.203434    0.352297  0.555003   \n",
              "city-mpg           -0.035823          -0.218749   -0.470414 -0.670909   \n",
              "highway-mpg         0.034606          -0.178221   -0.544082 -0.704662   \n",
              "price              -0.082391           0.133999    0.584642  0.690628   \n",
              "\n",
              "                      width    height  curb-weight  engine-size  \\\n",
              "symboling         -0.232919 -0.541038    -0.227691    -0.105790   \n",
              "normalized-losses  0.084195 -0.370706     0.097785     0.110997   \n",
              "wheel-base         0.795144  0.589435     0.776386     0.569329   \n",
              "length             0.841118  0.491029     0.877728     0.683360   \n",
              "width              1.000000  0.279210     0.867032     0.735433   \n",
              "height             0.279210  1.000000     0.295572     0.067149   \n",
              "curb-weight        0.867032  0.295572     1.000000     0.850594   \n",
              "engine-size        0.735433  0.067149     0.850594     1.000000   \n",
              "compression-ratio  0.181129  0.261214     0.151362     0.028971   \n",
              "horsepower         0.642482 -0.110711     0.751034     0.810773   \n",
              "city-mpg          -0.642704 -0.048640    -0.757414    -0.653658   \n",
              "highway-mpg       -0.677218 -0.107358    -0.797465    -0.677470   \n",
              "price              0.751265  0.135486     0.834415     0.872335   \n",
              "\n",
              "                   compression-ratio  horsepower  city-mpg  highway-mpg  \\\n",
              "symboling                  -0.178515    0.071622 -0.035823     0.034606   \n",
              "normalized-losses          -0.114525    0.203434 -0.218749    -0.178221   \n",
              "wheel-base                  0.249786    0.352297 -0.470414    -0.544082   \n",
              "length                      0.158414    0.555003 -0.670909    -0.704662   \n",
              "width                       0.181129    0.642482 -0.642704    -0.677218   \n",
              "height                      0.261214   -0.110711 -0.048640    -0.107358   \n",
              "curb-weight                 0.151362    0.751034 -0.757414    -0.797465   \n",
              "engine-size                 0.028971    0.810773 -0.653658    -0.677470   \n",
              "compression-ratio           1.000000   -0.205874  0.324701     0.265201   \n",
              "horsepower                 -0.205874    1.000000 -0.803620    -0.770908   \n",
              "city-mpg                    0.324701   -0.803620  1.000000     0.971337   \n",
              "highway-mpg                 0.265201   -0.770908  0.971337     1.000000   \n",
              "price                       0.071107    0.810533 -0.686571    -0.704692   \n",
              "\n",
              "                      price  \n",
              "symboling         -0.082391  \n",
              "normalized-losses  0.133999  \n",
              "wheel-base         0.584642  \n",
              "length             0.690628  \n",
              "width              0.751265  \n",
              "height             0.135486  \n",
              "curb-weight        0.834415  \n",
              "engine-size        0.872335  \n",
              "compression-ratio  0.071107  \n",
              "horsepower         0.810533  \n",
              "city-mpg          -0.686571  \n",
              "highway-mpg       -0.704692  \n",
              "price              1.000000  "
            ],
            "text/html": [
              "\n",
              "  <div id=\"df-062d0bfc-ab62-4d90-87c1-5f57de4ce654\">\n",
              "    <div class=\"colab-df-container\">\n",
              "      <div>\n",
              "<style scoped>\n",
              "    .dataframe tbody tr th:only-of-type {\n",
              "        vertical-align: middle;\n",
              "    }\n",
              "\n",
              "    .dataframe tbody tr th {\n",
              "        vertical-align: top;\n",
              "    }\n",
              "\n",
              "    .dataframe thead th {\n",
              "        text-align: right;\n",
              "    }\n",
              "</style>\n",
              "<table border=\"1\" class=\"dataframe\">\n",
              "  <thead>\n",
              "    <tr style=\"text-align: right;\">\n",
              "      <th></th>\n",
              "      <th>symboling</th>\n",
              "      <th>normalized-losses</th>\n",
              "      <th>wheel-base</th>\n",
              "      <th>length</th>\n",
              "      <th>width</th>\n",
              "      <th>height</th>\n",
              "      <th>curb-weight</th>\n",
              "      <th>engine-size</th>\n",
              "      <th>compression-ratio</th>\n",
              "      <th>horsepower</th>\n",
              "      <th>city-mpg</th>\n",
              "      <th>highway-mpg</th>\n",
              "      <th>price</th>\n",
              "    </tr>\n",
              "  </thead>\n",
              "  <tbody>\n",
              "    <tr>\n",
              "      <th>symboling</th>\n",
              "      <td>1.000000</td>\n",
              "      <td>0.465190</td>\n",
              "      <td>-0.531954</td>\n",
              "      <td>-0.357612</td>\n",
              "      <td>-0.232919</td>\n",
              "      <td>-0.541038</td>\n",
              "      <td>-0.227691</td>\n",
              "      <td>-0.105790</td>\n",
              "      <td>-0.178515</td>\n",
              "      <td>0.071622</td>\n",
              "      <td>-0.035823</td>\n",
              "      <td>0.034606</td>\n",
              "      <td>-0.082391</td>\n",
              "    </tr>\n",
              "    <tr>\n",
              "      <th>normalized-losses</th>\n",
              "      <td>0.465190</td>\n",
              "      <td>1.000000</td>\n",
              "      <td>-0.056518</td>\n",
              "      <td>0.019209</td>\n",
              "      <td>0.084195</td>\n",
              "      <td>-0.370706</td>\n",
              "      <td>0.097785</td>\n",
              "      <td>0.110997</td>\n",
              "      <td>-0.114525</td>\n",
              "      <td>0.203434</td>\n",
              "      <td>-0.218749</td>\n",
              "      <td>-0.178221</td>\n",
              "      <td>0.133999</td>\n",
              "    </tr>\n",
              "    <tr>\n",
              "      <th>wheel-base</th>\n",
              "      <td>-0.531954</td>\n",
              "      <td>-0.056518</td>\n",
              "      <td>1.000000</td>\n",
              "      <td>0.874587</td>\n",
              "      <td>0.795144</td>\n",
              "      <td>0.589435</td>\n",
              "      <td>0.776386</td>\n",
              "      <td>0.569329</td>\n",
              "      <td>0.249786</td>\n",
              "      <td>0.352297</td>\n",
              "      <td>-0.470414</td>\n",
              "      <td>-0.544082</td>\n",
              "      <td>0.584642</td>\n",
              "    </tr>\n",
              "    <tr>\n",
              "      <th>length</th>\n",
              "      <td>-0.357612</td>\n",
              "      <td>0.019209</td>\n",
              "      <td>0.874587</td>\n",
              "      <td>1.000000</td>\n",
              "      <td>0.841118</td>\n",
              "      <td>0.491029</td>\n",
              "      <td>0.877728</td>\n",
              "      <td>0.683360</td>\n",
              "      <td>0.158414</td>\n",
              "      <td>0.555003</td>\n",
              "      <td>-0.670909</td>\n",
              "      <td>-0.704662</td>\n",
              "      <td>0.690628</td>\n",
              "    </tr>\n",
              "    <tr>\n",
              "      <th>width</th>\n",
              "      <td>-0.232919</td>\n",
              "      <td>0.084195</td>\n",
              "      <td>0.795144</td>\n",
              "      <td>0.841118</td>\n",
              "      <td>1.000000</td>\n",
              "      <td>0.279210</td>\n",
              "      <td>0.867032</td>\n",
              "      <td>0.735433</td>\n",
              "      <td>0.181129</td>\n",
              "      <td>0.642482</td>\n",
              "      <td>-0.642704</td>\n",
              "      <td>-0.677218</td>\n",
              "      <td>0.751265</td>\n",
              "    </tr>\n",
              "    <tr>\n",
              "      <th>height</th>\n",
              "      <td>-0.541038</td>\n",
              "      <td>-0.370706</td>\n",
              "      <td>0.589435</td>\n",
              "      <td>0.491029</td>\n",
              "      <td>0.279210</td>\n",
              "      <td>1.000000</td>\n",
              "      <td>0.295572</td>\n",
              "      <td>0.067149</td>\n",
              "      <td>0.261214</td>\n",
              "      <td>-0.110711</td>\n",
              "      <td>-0.048640</td>\n",
              "      <td>-0.107358</td>\n",
              "      <td>0.135486</td>\n",
              "    </tr>\n",
              "    <tr>\n",
              "      <th>curb-weight</th>\n",
              "      <td>-0.227691</td>\n",
              "      <td>0.097785</td>\n",
              "      <td>0.776386</td>\n",
              "      <td>0.877728</td>\n",
              "      <td>0.867032</td>\n",
              "      <td>0.295572</td>\n",
              "      <td>1.000000</td>\n",
              "      <td>0.850594</td>\n",
              "      <td>0.151362</td>\n",
              "      <td>0.751034</td>\n",
              "      <td>-0.757414</td>\n",
              "      <td>-0.797465</td>\n",
              "      <td>0.834415</td>\n",
              "    </tr>\n",
              "    <tr>\n",
              "      <th>engine-size</th>\n",
              "      <td>-0.105790</td>\n",
              "      <td>0.110997</td>\n",
              "      <td>0.569329</td>\n",
              "      <td>0.683360</td>\n",
              "      <td>0.735433</td>\n",
              "      <td>0.067149</td>\n",
              "      <td>0.850594</td>\n",
              "      <td>1.000000</td>\n",
              "      <td>0.028971</td>\n",
              "      <td>0.810773</td>\n",
              "      <td>-0.653658</td>\n",
              "      <td>-0.677470</td>\n",
              "      <td>0.872335</td>\n",
              "    </tr>\n",
              "    <tr>\n",
              "      <th>compression-ratio</th>\n",
              "      <td>-0.178515</td>\n",
              "      <td>-0.114525</td>\n",
              "      <td>0.249786</td>\n",
              "      <td>0.158414</td>\n",
              "      <td>0.181129</td>\n",
              "      <td>0.261214</td>\n",
              "      <td>0.151362</td>\n",
              "      <td>0.028971</td>\n",
              "      <td>1.000000</td>\n",
              "      <td>-0.205874</td>\n",
              "      <td>0.324701</td>\n",
              "      <td>0.265201</td>\n",
              "      <td>0.071107</td>\n",
              "    </tr>\n",
              "    <tr>\n",
              "      <th>horsepower</th>\n",
              "      <td>0.071622</td>\n",
              "      <td>0.203434</td>\n",
              "      <td>0.352297</td>\n",
              "      <td>0.555003</td>\n",
              "      <td>0.642482</td>\n",
              "      <td>-0.110711</td>\n",
              "      <td>0.751034</td>\n",
              "      <td>0.810773</td>\n",
              "      <td>-0.205874</td>\n",
              "      <td>1.000000</td>\n",
              "      <td>-0.803620</td>\n",
              "      <td>-0.770908</td>\n",
              "      <td>0.810533</td>\n",
              "    </tr>\n",
              "    <tr>\n",
              "      <th>city-mpg</th>\n",
              "      <td>-0.035823</td>\n",
              "      <td>-0.218749</td>\n",
              "      <td>-0.470414</td>\n",
              "      <td>-0.670909</td>\n",
              "      <td>-0.642704</td>\n",
              "      <td>-0.048640</td>\n",
              "      <td>-0.757414</td>\n",
              "      <td>-0.653658</td>\n",
              "      <td>0.324701</td>\n",
              "      <td>-0.803620</td>\n",
              "      <td>1.000000</td>\n",
              "      <td>0.971337</td>\n",
              "      <td>-0.686571</td>\n",
              "    </tr>\n",
              "    <tr>\n",
              "      <th>highway-mpg</th>\n",
              "      <td>0.034606</td>\n",
              "      <td>-0.178221</td>\n",
              "      <td>-0.544082</td>\n",
              "      <td>-0.704662</td>\n",
              "      <td>-0.677218</td>\n",
              "      <td>-0.107358</td>\n",
              "      <td>-0.797465</td>\n",
              "      <td>-0.677470</td>\n",
              "      <td>0.265201</td>\n",
              "      <td>-0.770908</td>\n",
              "      <td>0.971337</td>\n",
              "      <td>1.000000</td>\n",
              "      <td>-0.704692</td>\n",
              "    </tr>\n",
              "    <tr>\n",
              "      <th>price</th>\n",
              "      <td>-0.082391</td>\n",
              "      <td>0.133999</td>\n",
              "      <td>0.584642</td>\n",
              "      <td>0.690628</td>\n",
              "      <td>0.751265</td>\n",
              "      <td>0.135486</td>\n",
              "      <td>0.834415</td>\n",
              "      <td>0.872335</td>\n",
              "      <td>0.071107</td>\n",
              "      <td>0.810533</td>\n",
              "      <td>-0.686571</td>\n",
              "      <td>-0.704692</td>\n",
              "      <td>1.000000</td>\n",
              "    </tr>\n",
              "  </tbody>\n",
              "</table>\n",
              "</div>\n",
              "      <button class=\"colab-df-convert\" onclick=\"convertToInteractive('df-062d0bfc-ab62-4d90-87c1-5f57de4ce654')\"\n",
              "              title=\"Convert this dataframe to an interactive table.\"\n",
              "              style=\"display:none;\">\n",
              "        \n",
              "  <svg xmlns=\"http://www.w3.org/2000/svg\" height=\"24px\"viewBox=\"0 0 24 24\"\n",
              "       width=\"24px\">\n",
              "    <path d=\"M0 0h24v24H0V0z\" fill=\"none\"/>\n",
              "    <path d=\"M18.56 5.44l.94 2.06.94-2.06 2.06-.94-2.06-.94-.94-2.06-.94 2.06-2.06.94zm-11 1L8.5 8.5l.94-2.06 2.06-.94-2.06-.94L8.5 2.5l-.94 2.06-2.06.94zm10 10l.94 2.06.94-2.06 2.06-.94-2.06-.94-.94-2.06-.94 2.06-2.06.94z\"/><path d=\"M17.41 7.96l-1.37-1.37c-.4-.4-.92-.59-1.43-.59-.52 0-1.04.2-1.43.59L10.3 9.45l-7.72 7.72c-.78.78-.78 2.05 0 2.83L4 21.41c.39.39.9.59 1.41.59.51 0 1.02-.2 1.41-.59l7.78-7.78 2.81-2.81c.8-.78.8-2.07 0-2.86zM5.41 20L4 18.59l7.72-7.72 1.47 1.35L5.41 20z\"/>\n",
              "  </svg>\n",
              "      </button>\n",
              "      \n",
              "  <style>\n",
              "    .colab-df-container {\n",
              "      display:flex;\n",
              "      flex-wrap:wrap;\n",
              "      gap: 12px;\n",
              "    }\n",
              "\n",
              "    .colab-df-convert {\n",
              "      background-color: #E8F0FE;\n",
              "      border: none;\n",
              "      border-radius: 50%;\n",
              "      cursor: pointer;\n",
              "      display: none;\n",
              "      fill: #1967D2;\n",
              "      height: 32px;\n",
              "      padding: 0 0 0 0;\n",
              "      width: 32px;\n",
              "    }\n",
              "\n",
              "    .colab-df-convert:hover {\n",
              "      background-color: #E2EBFA;\n",
              "      box-shadow: 0px 1px 2px rgba(60, 64, 67, 0.3), 0px 1px 3px 1px rgba(60, 64, 67, 0.15);\n",
              "      fill: #174EA6;\n",
              "    }\n",
              "\n",
              "    [theme=dark] .colab-df-convert {\n",
              "      background-color: #3B4455;\n",
              "      fill: #D2E3FC;\n",
              "    }\n",
              "\n",
              "    [theme=dark] .colab-df-convert:hover {\n",
              "      background-color: #434B5C;\n",
              "      box-shadow: 0px 1px 3px 1px rgba(0, 0, 0, 0.15);\n",
              "      filter: drop-shadow(0px 1px 2px rgba(0, 0, 0, 0.3));\n",
              "      fill: #FFFFFF;\n",
              "    }\n",
              "  </style>\n",
              "\n",
              "      <script>\n",
              "        const buttonEl =\n",
              "          document.querySelector('#df-062d0bfc-ab62-4d90-87c1-5f57de4ce654 button.colab-df-convert');\n",
              "        buttonEl.style.display =\n",
              "          google.colab.kernel.accessAllowed ? 'block' : 'none';\n",
              "\n",
              "        async function convertToInteractive(key) {\n",
              "          const element = document.querySelector('#df-062d0bfc-ab62-4d90-87c1-5f57de4ce654');\n",
              "          const dataTable =\n",
              "            await google.colab.kernel.invokeFunction('convertToInteractive',\n",
              "                                                     [key], {});\n",
              "          if (!dataTable) return;\n",
              "\n",
              "          const docLinkHtml = 'Like what you see? Visit the ' +\n",
              "            '<a target=\"_blank\" href=https://colab.research.google.com/notebooks/data_table.ipynb>data table notebook</a>'\n",
              "            + ' to learn more about interactive tables.';\n",
              "          element.innerHTML = '';\n",
              "          dataTable['output_type'] = 'display_data';\n",
              "          await google.colab.output.renderOutput(dataTable, element);\n",
              "          const docLink = document.createElement('div');\n",
              "          docLink.innerHTML = docLinkHtml;\n",
              "          element.appendChild(docLink);\n",
              "        }\n",
              "      </script>\n",
              "    </div>\n",
              "  </div>\n",
              "  "
            ]
          },
          "metadata": {},
          "execution_count": 67
        }
      ]
    },
    {
      "cell_type": "markdown",
      "source": [
        "---\n",
        "##**Lab 3**"
      ],
      "metadata": {
        "id": "mOV51n4bO271"
      }
    },
    {
      "cell_type": "markdown",
      "source": [
        "**Pregunta 1**\n",
        "\n",
        "¿Cuál es el tipo de dato de la columna *peak-rpm*?"
      ],
      "metadata": {
        "id": "lbrRBLASXJzZ"
      }
    },
    {
      "cell_type": "code",
      "source": [
        "df['peak-rpm'].dtypes"
      ],
      "metadata": {
        "colab": {
          "base_uri": "https://localhost:8080/"
        },
        "id": "QRzwxzItXW9g",
        "outputId": "62ed1341-7d82-4084-c2ad-4a034b3faabc"
      },
      "execution_count": 71,
      "outputs": [
        {
          "output_type": "execute_result",
          "data": {
            "text/plain": [
              "dtype('O')"
            ]
          },
          "metadata": {},
          "execution_count": 71
        }
      ]
    },
    {
      "cell_type": "markdown",
      "source": [
        "**Pregunta 2**\n",
        "\n",
        "Encuentra la correlación entre las siguientes columnas: bore, stroke, compression-ratio y horse-power."
      ],
      "metadata": {
        "id": "Svr5APZsYAD0"
      }
    },
    {
      "cell_type": "code",
      "source": [
        "df[[\"bore\",\"stroke\",\"compression-ratio\",\"horsepower\"]].corr()"
      ],
      "metadata": {
        "colab": {
          "base_uri": "https://localhost:8080/",
          "height": 112
        },
        "id": "MhQeeDfGYk5C",
        "outputId": "cb5dd80d-73b4-4800-b40a-8fa24b5a0797"
      },
      "execution_count": 75,
      "outputs": [
        {
          "output_type": "execute_result",
          "data": {
            "text/plain": [
              "                   compression-ratio  horsepower\n",
              "compression-ratio           1.000000   -0.205874\n",
              "horsepower                 -0.205874    1.000000"
            ],
            "text/html": [
              "\n",
              "  <div id=\"df-5d1404fe-80ab-4db0-852d-3d50ac5e30e2\">\n",
              "    <div class=\"colab-df-container\">\n",
              "      <div>\n",
              "<style scoped>\n",
              "    .dataframe tbody tr th:only-of-type {\n",
              "        vertical-align: middle;\n",
              "    }\n",
              "\n",
              "    .dataframe tbody tr th {\n",
              "        vertical-align: top;\n",
              "    }\n",
              "\n",
              "    .dataframe thead th {\n",
              "        text-align: right;\n",
              "    }\n",
              "</style>\n",
              "<table border=\"1\" class=\"dataframe\">\n",
              "  <thead>\n",
              "    <tr style=\"text-align: right;\">\n",
              "      <th></th>\n",
              "      <th>compression-ratio</th>\n",
              "      <th>horsepower</th>\n",
              "    </tr>\n",
              "  </thead>\n",
              "  <tbody>\n",
              "    <tr>\n",
              "      <th>compression-ratio</th>\n",
              "      <td>1.000000</td>\n",
              "      <td>-0.205874</td>\n",
              "    </tr>\n",
              "    <tr>\n",
              "      <th>horsepower</th>\n",
              "      <td>-0.205874</td>\n",
              "      <td>1.000000</td>\n",
              "    </tr>\n",
              "  </tbody>\n",
              "</table>\n",
              "</div>\n",
              "      <button class=\"colab-df-convert\" onclick=\"convertToInteractive('df-5d1404fe-80ab-4db0-852d-3d50ac5e30e2')\"\n",
              "              title=\"Convert this dataframe to an interactive table.\"\n",
              "              style=\"display:none;\">\n",
              "        \n",
              "  <svg xmlns=\"http://www.w3.org/2000/svg\" height=\"24px\"viewBox=\"0 0 24 24\"\n",
              "       width=\"24px\">\n",
              "    <path d=\"M0 0h24v24H0V0z\" fill=\"none\"/>\n",
              "    <path d=\"M18.56 5.44l.94 2.06.94-2.06 2.06-.94-2.06-.94-.94-2.06-.94 2.06-2.06.94zm-11 1L8.5 8.5l.94-2.06 2.06-.94-2.06-.94L8.5 2.5l-.94 2.06-2.06.94zm10 10l.94 2.06.94-2.06 2.06-.94-2.06-.94-.94-2.06-.94 2.06-2.06.94z\"/><path d=\"M17.41 7.96l-1.37-1.37c-.4-.4-.92-.59-1.43-.59-.52 0-1.04.2-1.43.59L10.3 9.45l-7.72 7.72c-.78.78-.78 2.05 0 2.83L4 21.41c.39.39.9.59 1.41.59.51 0 1.02-.2 1.41-.59l7.78-7.78 2.81-2.81c.8-.78.8-2.07 0-2.86zM5.41 20L4 18.59l7.72-7.72 1.47 1.35L5.41 20z\"/>\n",
              "  </svg>\n",
              "      </button>\n",
              "      \n",
              "  <style>\n",
              "    .colab-df-container {\n",
              "      display:flex;\n",
              "      flex-wrap:wrap;\n",
              "      gap: 12px;\n",
              "    }\n",
              "\n",
              "    .colab-df-convert {\n",
              "      background-color: #E8F0FE;\n",
              "      border: none;\n",
              "      border-radius: 50%;\n",
              "      cursor: pointer;\n",
              "      display: none;\n",
              "      fill: #1967D2;\n",
              "      height: 32px;\n",
              "      padding: 0 0 0 0;\n",
              "      width: 32px;\n",
              "    }\n",
              "\n",
              "    .colab-df-convert:hover {\n",
              "      background-color: #E2EBFA;\n",
              "      box-shadow: 0px 1px 2px rgba(60, 64, 67, 0.3), 0px 1px 3px 1px rgba(60, 64, 67, 0.15);\n",
              "      fill: #174EA6;\n",
              "    }\n",
              "\n",
              "    [theme=dark] .colab-df-convert {\n",
              "      background-color: #3B4455;\n",
              "      fill: #D2E3FC;\n",
              "    }\n",
              "\n",
              "    [theme=dark] .colab-df-convert:hover {\n",
              "      background-color: #434B5C;\n",
              "      box-shadow: 0px 1px 3px 1px rgba(0, 0, 0, 0.15);\n",
              "      filter: drop-shadow(0px 1px 2px rgba(0, 0, 0, 0.3));\n",
              "      fill: #FFFFFF;\n",
              "    }\n",
              "  </style>\n",
              "\n",
              "      <script>\n",
              "        const buttonEl =\n",
              "          document.querySelector('#df-5d1404fe-80ab-4db0-852d-3d50ac5e30e2 button.colab-df-convert');\n",
              "        buttonEl.style.display =\n",
              "          google.colab.kernel.accessAllowed ? 'block' : 'none';\n",
              "\n",
              "        async function convertToInteractive(key) {\n",
              "          const element = document.querySelector('#df-5d1404fe-80ab-4db0-852d-3d50ac5e30e2');\n",
              "          const dataTable =\n",
              "            await google.colab.kernel.invokeFunction('convertToInteractive',\n",
              "                                                     [key], {});\n",
              "          if (!dataTable) return;\n",
              "\n",
              "          const docLinkHtml = 'Like what you see? Visit the ' +\n",
              "            '<a target=\"_blank\" href=https://colab.research.google.com/notebooks/data_table.ipynb>data table notebook</a>'\n",
              "            + ' to learn more about interactive tables.';\n",
              "          element.innerHTML = '';\n",
              "          dataTable['output_type'] = 'display_data';\n",
              "          await google.colab.output.renderOutput(dataTable, element);\n",
              "          const docLink = document.createElement('div');\n",
              "          docLink.innerHTML = docLinkHtml;\n",
              "          element.appendChild(docLink);\n",
              "        }\n",
              "      </script>\n",
              "    </div>\n",
              "  </div>\n",
              "  "
            ]
          },
          "metadata": {},
          "execution_count": 75
        }
      ]
    },
    {
      "cell_type": "markdown",
      "source": [
        "**Pregunta 3 a)**\n",
        "\n",
        "Encuentra la correlación entre stroke y price."
      ],
      "metadata": {
        "id": "99EvFvDBZA4p"
      }
    },
    {
      "cell_type": "code",
      "source": [
        "df[\"stroke\"]=df[\"stroke\"].astype(float)\n",
        "df[[\"stroke\",\"price\"]].corr()"
      ],
      "metadata": {
        "colab": {
          "base_uri": "https://localhost:8080/",
          "height": 112
        },
        "id": "j_OEAsQpZHql",
        "outputId": "100fe31d-7690-44be-eb45-2c295a38b41a"
      },
      "execution_count": 78,
      "outputs": [
        {
          "output_type": "execute_result",
          "data": {
            "text/plain": [
              "         stroke    price\n",
              "stroke  1.00000  0.08231\n",
              "price   0.08231  1.00000"
            ],
            "text/html": [
              "\n",
              "  <div id=\"df-13afad24-1c40-4a21-8f58-aa545703f21f\">\n",
              "    <div class=\"colab-df-container\">\n",
              "      <div>\n",
              "<style scoped>\n",
              "    .dataframe tbody tr th:only-of-type {\n",
              "        vertical-align: middle;\n",
              "    }\n",
              "\n",
              "    .dataframe tbody tr th {\n",
              "        vertical-align: top;\n",
              "    }\n",
              "\n",
              "    .dataframe thead th {\n",
              "        text-align: right;\n",
              "    }\n",
              "</style>\n",
              "<table border=\"1\" class=\"dataframe\">\n",
              "  <thead>\n",
              "    <tr style=\"text-align: right;\">\n",
              "      <th></th>\n",
              "      <th>stroke</th>\n",
              "      <th>price</th>\n",
              "    </tr>\n",
              "  </thead>\n",
              "  <tbody>\n",
              "    <tr>\n",
              "      <th>stroke</th>\n",
              "      <td>1.00000</td>\n",
              "      <td>0.08231</td>\n",
              "    </tr>\n",
              "    <tr>\n",
              "      <th>price</th>\n",
              "      <td>0.08231</td>\n",
              "      <td>1.00000</td>\n",
              "    </tr>\n",
              "  </tbody>\n",
              "</table>\n",
              "</div>\n",
              "      <button class=\"colab-df-convert\" onclick=\"convertToInteractive('df-13afad24-1c40-4a21-8f58-aa545703f21f')\"\n",
              "              title=\"Convert this dataframe to an interactive table.\"\n",
              "              style=\"display:none;\">\n",
              "        \n",
              "  <svg xmlns=\"http://www.w3.org/2000/svg\" height=\"24px\"viewBox=\"0 0 24 24\"\n",
              "       width=\"24px\">\n",
              "    <path d=\"M0 0h24v24H0V0z\" fill=\"none\"/>\n",
              "    <path d=\"M18.56 5.44l.94 2.06.94-2.06 2.06-.94-2.06-.94-.94-2.06-.94 2.06-2.06.94zm-11 1L8.5 8.5l.94-2.06 2.06-.94-2.06-.94L8.5 2.5l-.94 2.06-2.06.94zm10 10l.94 2.06.94-2.06 2.06-.94-2.06-.94-.94-2.06-.94 2.06-2.06.94z\"/><path d=\"M17.41 7.96l-1.37-1.37c-.4-.4-.92-.59-1.43-.59-.52 0-1.04.2-1.43.59L10.3 9.45l-7.72 7.72c-.78.78-.78 2.05 0 2.83L4 21.41c.39.39.9.59 1.41.59.51 0 1.02-.2 1.41-.59l7.78-7.78 2.81-2.81c.8-.78.8-2.07 0-2.86zM5.41 20L4 18.59l7.72-7.72 1.47 1.35L5.41 20z\"/>\n",
              "  </svg>\n",
              "      </button>\n",
              "      \n",
              "  <style>\n",
              "    .colab-df-container {\n",
              "      display:flex;\n",
              "      flex-wrap:wrap;\n",
              "      gap: 12px;\n",
              "    }\n",
              "\n",
              "    .colab-df-convert {\n",
              "      background-color: #E8F0FE;\n",
              "      border: none;\n",
              "      border-radius: 50%;\n",
              "      cursor: pointer;\n",
              "      display: none;\n",
              "      fill: #1967D2;\n",
              "      height: 32px;\n",
              "      padding: 0 0 0 0;\n",
              "      width: 32px;\n",
              "    }\n",
              "\n",
              "    .colab-df-convert:hover {\n",
              "      background-color: #E2EBFA;\n",
              "      box-shadow: 0px 1px 2px rgba(60, 64, 67, 0.3), 0px 1px 3px 1px rgba(60, 64, 67, 0.15);\n",
              "      fill: #174EA6;\n",
              "    }\n",
              "\n",
              "    [theme=dark] .colab-df-convert {\n",
              "      background-color: #3B4455;\n",
              "      fill: #D2E3FC;\n",
              "    }\n",
              "\n",
              "    [theme=dark] .colab-df-convert:hover {\n",
              "      background-color: #434B5C;\n",
              "      box-shadow: 0px 1px 3px 1px rgba(0, 0, 0, 0.15);\n",
              "      filter: drop-shadow(0px 1px 2px rgba(0, 0, 0, 0.3));\n",
              "      fill: #FFFFFF;\n",
              "    }\n",
              "  </style>\n",
              "\n",
              "      <script>\n",
              "        const buttonEl =\n",
              "          document.querySelector('#df-13afad24-1c40-4a21-8f58-aa545703f21f button.colab-df-convert');\n",
              "        buttonEl.style.display =\n",
              "          google.colab.kernel.accessAllowed ? 'block' : 'none';\n",
              "\n",
              "        async function convertToInteractive(key) {\n",
              "          const element = document.querySelector('#df-13afad24-1c40-4a21-8f58-aa545703f21f');\n",
              "          const dataTable =\n",
              "            await google.colab.kernel.invokeFunction('convertToInteractive',\n",
              "                                                     [key], {});\n",
              "          if (!dataTable) return;\n",
              "\n",
              "          const docLinkHtml = 'Like what you see? Visit the ' +\n",
              "            '<a target=\"_blank\" href=https://colab.research.google.com/notebooks/data_table.ipynb>data table notebook</a>'\n",
              "            + ' to learn more about interactive tables.';\n",
              "          element.innerHTML = '';\n",
              "          dataTable['output_type'] = 'display_data';\n",
              "          await google.colab.output.renderOutput(dataTable, element);\n",
              "          const docLink = document.createElement('div');\n",
              "          docLink.innerHTML = docLinkHtml;\n",
              "          element.appendChild(docLink);\n",
              "        }\n",
              "      </script>\n",
              "    </div>\n",
              "  </div>\n",
              "  "
            ]
          },
          "metadata": {},
          "execution_count": 78
        }
      ]
    },
    {
      "cell_type": "markdown",
      "source": [
        "**Pregunta 3 b)**\n",
        "\n",
        "Verifica el resultado usando la función regplot()."
      ],
      "metadata": {
        "id": "AaUDilJwZdmc"
      }
    },
    {
      "cell_type": "code",
      "source": [
        "sns.regplot(x=\"stroke\", y=\"price\", data=df)"
      ],
      "metadata": {
        "colab": {
          "base_uri": "https://localhost:8080/",
          "height": 296
        },
        "id": "4gBOVeW8Zlix",
        "outputId": "cec1447f-85bc-4c60-96f0-edcddf8bd971"
      },
      "execution_count": 79,
      "outputs": [
        {
          "output_type": "execute_result",
          "data": {
            "text/plain": [
              "<matplotlib.axes._subplots.AxesSubplot at 0x7fa6f3090510>"
            ]
          },
          "metadata": {},
          "execution_count": 79
        },
        {
          "output_type": "display_data",
          "data": {
            "text/plain": [
              "<Figure size 432x288 with 1 Axes>"
            ],
            "image/png": "[encoded data removed]"
          },
          "metadata": {
            "needs_background": "light"
          }
        }
      ]
    },
    {
      "cell_type": "markdown",
      "source": [
        "**Pregunta 4**\n",
        "\n",
        "Usa la función groupby() para encontrar el promedio de precio de cada auto basado en su body-style."
      ],
      "metadata": {
        "id": "j3iQaTcqacoR"
      }
    },
    {
      "cell_type": "code",
      "source": [
        "df_gptest2 = df[['body-style','price']]\n",
        "grouped_test_bodystyle = df_gptest2.groupby(['body-style'],as_index= False).mean()\n",
        "grouped_test_bodystyle"
      ],
      "metadata": {
        "colab": {
          "base_uri": "https://localhost:8080/",
          "height": 206
        },
        "id": "ptp2VrH3aatS",
        "outputId": "4c6d74bc-f166-4a78-9bf7-fb877a3e0760"
      },
      "execution_count": 80,
      "outputs": [
        {
          "output_type": "execute_result",
          "data": {
            "text/plain": [
              "    body-style         price\n",
              "0  convertible  21890.500000\n",
              "1      hardtop  22208.500000\n",
              "2    hatchback   9957.441176\n",
              "3        sedan  14459.755319\n",
              "4        wagon  12371.960000"
            ],
            "text/html": [
              "\n",
              "  <div id=\"df-e5d969be-7d69-431f-ae29-005d81c40b44\">\n",
              "    <div class=\"colab-df-container\">\n",
              "      <div>\n",
              "<style scoped>\n",
              "    .dataframe tbody tr th:only-of-type {\n",
              "        vertical-align: middle;\n",
              "    }\n",
              "\n",
              "    .dataframe tbody tr th {\n",
              "        vertical-align: top;\n",
              "    }\n",
              "\n",
              "    .dataframe thead th {\n",
              "        text-align: right;\n",
              "    }\n",
              "</style>\n",
              "<table border=\"1\" class=\"dataframe\">\n",
              "  <thead>\n",
              "    <tr style=\"text-align: right;\">\n",
              "      <th></th>\n",
              "      <th>body-style</th>\n",
              "      <th>price</th>\n",
              "    </tr>\n",
              "  </thead>\n",
              "  <tbody>\n",
              "    <tr>\n",
              "      <th>0</th>\n",
              "      <td>convertible</td>\n",
              "      <td>21890.500000</td>\n",
              "    </tr>\n",
              "    <tr>\n",
              "      <th>1</th>\n",
              "      <td>hardtop</td>\n",
              "      <td>22208.500000</td>\n",
              "    </tr>\n",
              "    <tr>\n",
              "      <th>2</th>\n",
              "      <td>hatchback</td>\n",
              "      <td>9957.441176</td>\n",
              "    </tr>\n",
              "    <tr>\n",
              "      <th>3</th>\n",
              "      <td>sedan</td>\n",
              "      <td>14459.755319</td>\n",
              "    </tr>\n",
              "    <tr>\n",
              "      <th>4</th>\n",
              "      <td>wagon</td>\n",
              "      <td>12371.960000</td>\n",
              "    </tr>\n",
              "  </tbody>\n",
              "</table>\n",
              "</div>\n",
              "      <button class=\"colab-df-convert\" onclick=\"convertToInteractive('df-e5d969be-7d69-431f-ae29-005d81c40b44')\"\n",
              "              title=\"Convert this dataframe to an interactive table.\"\n",
              "              style=\"display:none;\">\n",
              "        \n",
              "  <svg xmlns=\"http://www.w3.org/2000/svg\" height=\"24px\"viewBox=\"0 0 24 24\"\n",
              "       width=\"24px\">\n",
              "    <path d=\"M0 0h24v24H0V0z\" fill=\"none\"/>\n",
              "    <path d=\"M18.56 5.44l.94 2.06.94-2.06 2.06-.94-2.06-.94-.94-2.06-.94 2.06-2.06.94zm-11 1L8.5 8.5l.94-2.06 2.06-.94-2.06-.94L8.5 2.5l-.94 2.06-2.06.94zm10 10l.94 2.06.94-2.06 2.06-.94-2.06-.94-.94-2.06-.94 2.06-2.06.94z\"/><path d=\"M17.41 7.96l-1.37-1.37c-.4-.4-.92-.59-1.43-.59-.52 0-1.04.2-1.43.59L10.3 9.45l-7.72 7.72c-.78.78-.78 2.05 0 2.83L4 21.41c.39.39.9.59 1.41.59.51 0 1.02-.2 1.41-.59l7.78-7.78 2.81-2.81c.8-.78.8-2.07 0-2.86zM5.41 20L4 18.59l7.72-7.72 1.47 1.35L5.41 20z\"/>\n",
              "  </svg>\n",
              "      </button>\n",
              "      \n",
              "  <style>\n",
              "    .colab-df-container {\n",
              "      display:flex;\n",
              "      flex-wrap:wrap;\n",
              "      gap: 12px;\n",
              "    }\n",
              "\n",
              "    .colab-df-convert {\n",
              "      background-color: #E8F0FE;\n",
              "      border: none;\n",
              "      border-radius: 50%;\n",
              "      cursor: pointer;\n",
              "      display: none;\n",
              "      fill: #1967D2;\n",
              "      height: 32px;\n",
              "      padding: 0 0 0 0;\n",
              "      width: 32px;\n",
              "    }\n",
              "\n",
              "    .colab-df-convert:hover {\n",
              "      background-color: #E2EBFA;\n",
              "      box-shadow: 0px 1px 2px rgba(60, 64, 67, 0.3), 0px 1px 3px 1px rgba(60, 64, 67, 0.15);\n",
              "      fill: #174EA6;\n",
              "    }\n",
              "\n",
              "    [theme=dark] .colab-df-convert {\n",
              "      background-color: #3B4455;\n",
              "      fill: #D2E3FC;\n",
              "    }\n",
              "\n",
              "    [theme=dark] .colab-df-convert:hover {\n",
              "      background-color: #434B5C;\n",
              "      box-shadow: 0px 1px 3px 1px rgba(0, 0, 0, 0.15);\n",
              "      filter: drop-shadow(0px 1px 2px rgba(0, 0, 0, 0.3));\n",
              "      fill: #FFFFFF;\n",
              "    }\n",
              "  </style>\n",
              "\n",
              "      <script>\n",
              "        const buttonEl =\n",
              "          document.querySelector('#df-e5d969be-7d69-431f-ae29-005d81c40b44 button.colab-df-convert');\n",
              "        buttonEl.style.display =\n",
              "          google.colab.kernel.accessAllowed ? 'block' : 'none';\n",
              "\n",
              "        async function convertToInteractive(key) {\n",
              "          const element = document.querySelector('#df-e5d969be-7d69-431f-ae29-005d81c40b44');\n",
              "          const dataTable =\n",
              "            await google.colab.kernel.invokeFunction('convertToInteractive',\n",
              "                                                     [key], {});\n",
              "          if (!dataTable) return;\n",
              "\n",
              "          const docLinkHtml = 'Like what you see? Visit the ' +\n",
              "            '<a target=\"_blank\" href=https://colab.research.google.com/notebooks/data_table.ipynb>data table notebook</a>'\n",
              "            + ' to learn more about interactive tables.';\n",
              "          element.innerHTML = '';\n",
              "          dataTable['output_type'] = 'display_data';\n",
              "          await google.colab.output.renderOutput(dataTable, element);\n",
              "          const docLink = document.createElement('div');\n",
              "          docLink.innerHTML = docLinkHtml;\n",
              "          element.appendChild(docLink);\n",
              "        }\n",
              "      </script>\n",
              "    </div>\n",
              "  </div>\n",
              "  "
            ]
          },
          "metadata": {},
          "execution_count": 80
        }
      ]
    },
    {
      "cell_type": "markdown",
      "source": [
        "---\n",
        "##**Graded Review Questions**"
      ],
      "metadata": {
        "id": "3pKg-oO3O_Dl"
      }
    },
    {
      "cell_type": "markdown",
      "source": [
        "![image.png](data:image/png;base64,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)"
      ],
      "metadata": {
        "id": "wUT6az6Bb68T"
      }
    }
  ]
}