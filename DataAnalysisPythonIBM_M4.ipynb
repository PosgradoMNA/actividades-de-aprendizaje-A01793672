{
  "nbformat": 4,
  "nbformat_minor": 0,
  "metadata": {
    "colab": {
      "provenance": [],
      "collapsed_sections": [],
      "authorship_tag": "ABX9TyMVXSfEc2kaIQQ8nGUAdIff",
      "include_colab_link": true
    },
    "kernelspec": {
      "name": "python3",
      "display_name": "Python 3"
    },
    "language_info": {
      "name": "python"
    }
  },
  "cells": [
    {
      "cell_type": "markdown",
      "metadata": {
        "id": "view-in-github",
        "colab_type": "text"
      },
      "source": [
        "<a href=\"https://colab.research.google.com/github/PosgradoMNA/actividades-de-aprendizaje-A01793672/blob/main/DataAnalysisPythonIBM_M4.ipynb\" target=\"_parent\"><img src=\"https://colab.research.google.com/assets/colab-badge.svg\" alt=\"Open In Colab\"/></a>"
      ]
    },
    {
      "cell_type": "markdown",
      "source": [
        "#**DATA ANALYSIS WITH PYTHON (IBM)**\n",
        "---\n",
        "#**Modulo 4 - Desarrollo del Modelo**\n",
        "---\n",
        "##**Alumno: Freddy Armendariz Herrera**\n",
        "##**Matrícula: A01793672**\n",
        "---"
      ],
      "metadata": {
        "id": "T5BnOfalNvSn"
      }
    },
    {
      "cell_type": "markdown",
      "source": [
        "---\n",
        "##**Desarrollo del Modelo**"
      ],
      "metadata": {
        "id": "r8Ww1B3K8y39"
      }
    },
    {
      "cell_type": "markdown",
      "source": [
        "Se examinara el desarrollo del modelo tratando de predecir el precio del auto."
      ],
      "metadata": {
        "id": "JWjPTuchSe3d"
      }
    },
    {
      "cell_type": "markdown",
      "source": [
        "**Objetivos de Aprendizaje**\n",
        "\n",
        "1. Regresion Lineal Simple y Multiple\n",
        "2. Evaluacion del Modelo utilizando Visualizacion\n",
        "3. Regresion Polinomial y Pipelines\n",
        "4. R-squared y MSE para Evaluacion In-Sample\n",
        "5. Prediccion y Tomador de Decisiones\n",
        "\n",
        "**Pregunta**\n",
        "\n",
        "¿Como se puede determinar un valor razonable para un auto usado?"
      ],
      "metadata": {
        "id": "ICJWGjbSSvR6"
      }
    },
    {
      "cell_type": "markdown",
      "source": [
        "Un modelo puede representarse como una ecuacion matematica usada para predecir diferentes valores dados.\n",
        "\n",
        "Relacionando una o mas variables independientes con variables dependientes.\n",
        "\n",
        "Mientras mas relevantes sean los datos, mas preciso sera el modelo."
      ],
      "metadata": {
        "id": "3JqXTNwsTywp"
      }
    },
    {
      "cell_type": "code",
      "source": [
        "#Se importan librerías y se carga el dataset\n",
        "import pandas as pd\n",
        "import numpy as np\n",
        "import matplotlib.pyplot as plt\n",
        "import seaborn as sns\n",
        "%matplotlib inline\n",
        "\n",
        "url = \"https://cf-courses-data.s3.us.cloud-object-storage.appdomain.cloud/IBMDeveloperSkillsNetwork-DA0101EN-SkillsNetwork/labs/Data%20files/auto.csv\"\n",
        "df = pd.read_csv(url, header = None)\n",
        "headers = [\"symboling\",\"normalized-losses\",\"make\",\"fuel-type\",\"aspiration\",\"num-of-doors\",\"body-style\",\n",
        "           \"drive-wheels\",\"engine-location\",\"wheel-base\",\"length\",\"width\",\"height\",\"curb-weight\",\n",
        "           \"engine-type\",\"num-of-cylinders\",\"engine-size\",\"fuel-system\",\"bore\",\"stroke\",\"compression-ratio\",\n",
        "           \"horsepower\",\"peak-rpm\",\"city-mpg\",\"highway-mpg\",\"price\"]\n",
        "df.columns=headers #Reemplaza el encabezado por defecto.\n",
        "\n",
        "df.replace('?',np.NaN,inplace=True) #Reemplaza los ? por NaN\n",
        "\n",
        "df.dropna(              #Selecciona filas o columnas con valores faltantes para eliminarlos.\n",
        "    subset=[\"price\"],   #Columna donde se verifican datos faltantes.\n",
        "    axis=0,             #0 para registros y 1 para columnas.\n",
        "    inplace=True        #La modificación se realiza directamente en el dataset.\n",
        ")\n",
        "\n",
        "\n",
        "df[\"highway-mpg\"]=df[\"highway-mpg\"].astype(float) #Cambia el tipo de dato de la columna seleccionada\n",
        "mean=df[\"highway-mpg\"].mean() #Calcula el promedio de la columna\n",
        "\n",
        "df[\"highway-mpg\"].replace(  #Seleeciona la columna normalized-losses para reemplazar datos\n",
        "    np.nan,                       #Un valor NaN\n",
        "    mean,                         #Por el promedio de dicha columna\n",
        "    inplace=True                  #Directamente sobre el dataset\n",
        ")\n",
        "\n",
        "df[\"horsepower\"]=df[\"horsepower\"].astype(float) #Cambia el tipo de dato de la columna seleccionada\n",
        "mean=df[\"horsepower\"].mean() #Calcula el promedio de la columna\n",
        "\n",
        "df[\"horsepower\"].replace(  #Seleeciona la columna normalized-losses para reemplazar datos\n",
        "    np.nan,                       #Un valor NaN\n",
        "    mean,                         #Por el promedio de dicha columna\n",
        "    inplace=True                  #Directamente sobre el dataset\n",
        ")\n",
        "\n",
        "df[\"curb-weight\"]=df[\"curb-weight\"].astype(float) #Cambia el tipo de dato de la columna seleccionada\n",
        "mean=df[\"curb-weight\"].mean() #Calcula el promedio de la columna\n",
        "\n",
        "df[\"curb-weight\"].replace(  #Seleeciona la columna normalized-losses para reemplazar datos\n",
        "    np.nan,                       #Un valor NaN\n",
        "    mean,                         #Por el promedio de dicha columna\n",
        "    inplace=True                  #Directamente sobre el dataset\n",
        ")\n",
        "\n",
        "df[\"engine-size\"]=df[\"engine-size\"].astype(float) #Cambia el tipo de dato de la columna seleccionada\n",
        "mean=df[\"engine-size\"].mean() #Calcula el promedio de la columna\n",
        "\n",
        "df[\"engine-size\"].replace(  #Seleeciona la columna normalized-losses para reemplazar datos\n",
        "    np.nan,                       #Un valor NaN\n",
        "    mean,                         #Por el promedio de dicha columna\n",
        "    inplace=True                  #Directamente sobre el dataset\n",
        ")\n",
        "df.head()"
      ],
      "metadata": {
        "colab": {
          "base_uri": "https://localhost:8080/",
          "height": 349
        },
        "id": "3bALbzjZUgLv",
        "outputId": "0dac0bc7-0f8b-4348-cceb-7736d533949d"
      },
      "execution_count": 38,
      "outputs": [
        {
          "output_type": "execute_result",
          "data": {
            "text/plain": [
              "   symboling normalized-losses         make fuel-type aspiration num-of-doors  \\\n",
              "0          3               NaN  alfa-romero       gas        std          two   \n",
              "1          3               NaN  alfa-romero       gas        std          two   \n",
              "2          1               NaN  alfa-romero       gas        std          two   \n",
              "3          2               164         audi       gas        std         four   \n",
              "4          2               164         audi       gas        std         four   \n",
              "\n",
              "    body-style drive-wheels engine-location  wheel-base  ...  engine-size  \\\n",
              "0  convertible          rwd           front        88.6  ...        130.0   \n",
              "1  convertible          rwd           front        88.6  ...        130.0   \n",
              "2    hatchback          rwd           front        94.5  ...        152.0   \n",
              "3        sedan          fwd           front        99.8  ...        109.0   \n",
              "4        sedan          4wd           front        99.4  ...        136.0   \n",
              "\n",
              "   fuel-system  bore  stroke compression-ratio horsepower  peak-rpm city-mpg  \\\n",
              "0         mpfi  3.47    2.68               9.0      111.0      5000       21   \n",
              "1         mpfi  3.47    2.68               9.0      111.0      5000       21   \n",
              "2         mpfi  2.68    3.47               9.0      154.0      5000       19   \n",
              "3         mpfi  3.19    3.40              10.0      102.0      5500       24   \n",
              "4         mpfi  3.19    3.40               8.0      115.0      5500       18   \n",
              "\n",
              "  highway-mpg  price  \n",
              "0        27.0  13495  \n",
              "1        27.0  16500  \n",
              "2        26.0  16500  \n",
              "3        30.0  13950  \n",
              "4        22.0  17450  \n",
              "\n",
              "[5 rows x 26 columns]"
            ],
            "text/html": [
              "\n",
              "  <div id=\"df-8aff107a-18e6-4112-947a-21baad16df4c\">\n",
              "    <div class=\"colab-df-container\">\n",
              "      <div>\n",
              "<style scoped>\n",
              "    .dataframe tbody tr th:only-of-type {\n",
              "        vertical-align: middle;\n",
              "    }\n",
              "\n",
              "    .dataframe tbody tr th {\n",
              "        vertical-align: top;\n",
              "    }\n",
              "\n",
              "    .dataframe thead th {\n",
              "        text-align: right;\n",
              "    }\n",
              "</style>\n",
              "<table border=\"1\" class=\"dataframe\">\n",
              "  <thead>\n",
              "    <tr style=\"text-align: right;\">\n",
              "      <th></th>\n",
              "      <th>symboling</th>\n",
              "      <th>normalized-losses</th>\n",
              "      <th>make</th>\n",
              "      <th>fuel-type</th>\n",
              "      <th>aspiration</th>\n",
              "      <th>num-of-doors</th>\n",
              "      <th>body-style</th>\n",
              "      <th>drive-wheels</th>\n",
              "      <th>engine-location</th>\n",
              "      <th>wheel-base</th>\n",
              "      <th>...</th>\n",
              "      <th>engine-size</th>\n",
              "      <th>fuel-system</th>\n",
              "      <th>bore</th>\n",
              "      <th>stroke</th>\n",
              "      <th>compression-ratio</th>\n",
              "      <th>horsepower</th>\n",
              "      <th>peak-rpm</th>\n",
              "      <th>city-mpg</th>\n",
              "      <th>highway-mpg</th>\n",
              "      <th>price</th>\n",
              "    </tr>\n",
              "  </thead>\n",
              "  <tbody>\n",
              "    <tr>\n",
              "      <th>0</th>\n",
              "      <td>3</td>\n",
              "      <td>NaN</td>\n",
              "      <td>alfa-romero</td>\n",
              "      <td>gas</td>\n",
              "      <td>std</td>\n",
              "      <td>two</td>\n",
              "      <td>convertible</td>\n",
              "      <td>rwd</td>\n",
              "      <td>front</td>\n",
              "      <td>88.6</td>\n",
              "      <td>...</td>\n",
              "      <td>130.0</td>\n",
              "      <td>mpfi</td>\n",
              "      <td>3.47</td>\n",
              "      <td>2.68</td>\n",
              "      <td>9.0</td>\n",
              "      <td>111.0</td>\n",
              "      <td>5000</td>\n",
              "      <td>21</td>\n",
              "      <td>27.0</td>\n",
              "      <td>13495</td>\n",
              "    </tr>\n",
              "    <tr>\n",
              "      <th>1</th>\n",
              "      <td>3</td>\n",
              "      <td>NaN</td>\n",
              "      <td>alfa-romero</td>\n",
              "      <td>gas</td>\n",
              "      <td>std</td>\n",
              "      <td>two</td>\n",
              "      <td>convertible</td>\n",
              "      <td>rwd</td>\n",
              "      <td>front</td>\n",
              "      <td>88.6</td>\n",
              "      <td>...</td>\n",
              "      <td>130.0</td>\n",
              "      <td>mpfi</td>\n",
              "      <td>3.47</td>\n",
              "      <td>2.68</td>\n",
              "      <td>9.0</td>\n",
              "      <td>111.0</td>\n",
              "      <td>5000</td>\n",
              "      <td>21</td>\n",
              "      <td>27.0</td>\n",
              "      <td>16500</td>\n",
              "    </tr>\n",
              "    <tr>\n",
              "      <th>2</th>\n",
              "      <td>1</td>\n",
              "      <td>NaN</td>\n",
              "      <td>alfa-romero</td>\n",
              "      <td>gas</td>\n",
              "      <td>std</td>\n",
              "      <td>two</td>\n",
              "      <td>hatchback</td>\n",
              "      <td>rwd</td>\n",
              "      <td>front</td>\n",
              "      <td>94.5</td>\n",
              "      <td>...</td>\n",
              "      <td>152.0</td>\n",
              "      <td>mpfi</td>\n",
              "      <td>2.68</td>\n",
              "      <td>3.47</td>\n",
              "      <td>9.0</td>\n",
              "      <td>154.0</td>\n",
              "      <td>5000</td>\n",
              "      <td>19</td>\n",
              "      <td>26.0</td>\n",
              "      <td>16500</td>\n",
              "    </tr>\n",
              "    <tr>\n",
              "      <th>3</th>\n",
              "      <td>2</td>\n",
              "      <td>164</td>\n",
              "      <td>audi</td>\n",
              "      <td>gas</td>\n",
              "      <td>std</td>\n",
              "      <td>four</td>\n",
              "      <td>sedan</td>\n",
              "      <td>fwd</td>\n",
              "      <td>front</td>\n",
              "      <td>99.8</td>\n",
              "      <td>...</td>\n",
              "      <td>109.0</td>\n",
              "      <td>mpfi</td>\n",
              "      <td>3.19</td>\n",
              "      <td>3.40</td>\n",
              "      <td>10.0</td>\n",
              "      <td>102.0</td>\n",
              "      <td>5500</td>\n",
              "      <td>24</td>\n",
              "      <td>30.0</td>\n",
              "      <td>13950</td>\n",
              "    </tr>\n",
              "    <tr>\n",
              "      <th>4</th>\n",
              "      <td>2</td>\n",
              "      <td>164</td>\n",
              "      <td>audi</td>\n",
              "      <td>gas</td>\n",
              "      <td>std</td>\n",
              "      <td>four</td>\n",
              "      <td>sedan</td>\n",
              "      <td>4wd</td>\n",
              "      <td>front</td>\n",
              "      <td>99.4</td>\n",
              "      <td>...</td>\n",
              "      <td>136.0</td>\n",
              "      <td>mpfi</td>\n",
              "      <td>3.19</td>\n",
              "      <td>3.40</td>\n",
              "      <td>8.0</td>\n",
              "      <td>115.0</td>\n",
              "      <td>5500</td>\n",
              "      <td>18</td>\n",
              "      <td>22.0</td>\n",
              "      <td>17450</td>\n",
              "    </tr>\n",
              "  </tbody>\n",
              "</table>\n",
              "<p>5 rows × 26 columns</p>\n",
              "</div>\n",
              "      <button class=\"colab-df-convert\" onclick=\"convertToInteractive('df-8aff107a-18e6-4112-947a-21baad16df4c')\"\n",
              "              title=\"Convert this dataframe to an interactive table.\"\n",
              "              style=\"display:none;\">\n",
              "        \n",
              "  <svg xmlns=\"http://www.w3.org/2000/svg\" height=\"24px\"viewBox=\"0 0 24 24\"\n",
              "       width=\"24px\">\n",
              "    <path d=\"M0 0h24v24H0V0z\" fill=\"none\"/>\n",
              "    <path d=\"M18.56 5.44l.94 2.06.94-2.06 2.06-.94-2.06-.94-.94-2.06-.94 2.06-2.06.94zm-11 1L8.5 8.5l.94-2.06 2.06-.94-2.06-.94L8.5 2.5l-.94 2.06-2.06.94zm10 10l.94 2.06.94-2.06 2.06-.94-2.06-.94-.94-2.06-.94 2.06-2.06.94z\"/><path d=\"M17.41 7.96l-1.37-1.37c-.4-.4-.92-.59-1.43-.59-.52 0-1.04.2-1.43.59L10.3 9.45l-7.72 7.72c-.78.78-.78 2.05 0 2.83L4 21.41c.39.39.9.59 1.41.59.51 0 1.02-.2 1.41-.59l7.78-7.78 2.81-2.81c.8-.78.8-2.07 0-2.86zM5.41 20L4 18.59l7.72-7.72 1.47 1.35L5.41 20z\"/>\n",
              "  </svg>\n",
              "      </button>\n",
              "      \n",
              "  <style>\n",
              "    .colab-df-container {\n",
              "      display:flex;\n",
              "      flex-wrap:wrap;\n",
              "      gap: 12px;\n",
              "    }\n",
              "\n",
              "    .colab-df-convert {\n",
              "      background-color: #E8F0FE;\n",
              "      border: none;\n",
              "      border-radius: 50%;\n",
              "      cursor: pointer;\n",
              "      display: none;\n",
              "      fill: #1967D2;\n",
              "      height: 32px;\n",
              "      padding: 0 0 0 0;\n",
              "      width: 32px;\n",
              "    }\n",
              "\n",
              "    .colab-df-convert:hover {\n",
              "      background-color: #E2EBFA;\n",
              "      box-shadow: 0px 1px 2px rgba(60, 64, 67, 0.3), 0px 1px 3px 1px rgba(60, 64, 67, 0.15);\n",
              "      fill: #174EA6;\n",
              "    }\n",
              "\n",
              "    [theme=dark] .colab-df-convert {\n",
              "      background-color: #3B4455;\n",
              "      fill: #D2E3FC;\n",
              "    }\n",
              "\n",
              "    [theme=dark] .colab-df-convert:hover {\n",
              "      background-color: #434B5C;\n",
              "      box-shadow: 0px 1px 3px 1px rgba(0, 0, 0, 0.15);\n",
              "      filter: drop-shadow(0px 1px 2px rgba(0, 0, 0, 0.3));\n",
              "      fill: #FFFFFF;\n",
              "    }\n",
              "  </style>\n",
              "\n",
              "      <script>\n",
              "        const buttonEl =\n",
              "          document.querySelector('#df-8aff107a-18e6-4112-947a-21baad16df4c button.colab-df-convert');\n",
              "        buttonEl.style.display =\n",
              "          google.colab.kernel.accessAllowed ? 'block' : 'none';\n",
              "\n",
              "        async function convertToInteractive(key) {\n",
              "          const element = document.querySelector('#df-8aff107a-18e6-4112-947a-21baad16df4c');\n",
              "          const dataTable =\n",
              "            await google.colab.kernel.invokeFunction('convertToInteractive',\n",
              "                                                     [key], {});\n",
              "          if (!dataTable) return;\n",
              "\n",
              "          const docLinkHtml = 'Like what you see? Visit the ' +\n",
              "            '<a target=\"_blank\" href=https://colab.research.google.com/notebooks/data_table.ipynb>data table notebook</a>'\n",
              "            + ' to learn more about interactive tables.';\n",
              "          element.innerHTML = '';\n",
              "          dataTable['output_type'] = 'display_data';\n",
              "          await google.colab.output.renderOutput(dataTable, element);\n",
              "          const docLink = document.createElement('div');\n",
              "          docLink.innerHTML = docLinkHtml;\n",
              "          element.appendChild(docLink);\n",
              "        }\n",
              "      </script>\n",
              "    </div>\n",
              "  </div>\n",
              "  "
            ]
          },
          "metadata": {},
          "execution_count": 38
        }
      ]
    },
    {
      "cell_type": "markdown",
      "source": [
        "---\n",
        "##**Regresion Lineal Simple y Multiple**"
      ],
      "metadata": {
        "id": "NBU3vEKtUgn_"
      }
    },
    {
      "cell_type": "markdown",
      "source": [
        "Una regresion lineal se refiere a una variable independiente realizando una prediccion.\n",
        "\n",
        "Una regresion lineal multiple se refiere a multiples variables independientes realizando una prediccion."
      ],
      "metadata": {
        "id": "8oHjfR7RU4gA"
      }
    },
    {
      "cell_type": "markdown",
      "source": [
        "**Regresion Lineal Simple (SLR)**\n",
        "\n",
        "Es un metodo que nos ayuda a comprender la relacion entre dos variables:\n",
        "* Predictor (variable independiente) X.\n",
        "* Target (variable dependiente) Y.\n",
        "\n",
        "Cuando se entrena un modelo, realmente se estan buscando los coeficientes y constantes en la ecuacion.\n",
        "\n",
        "El modelo se entrana con datos y despues es utilizado para predecir otros datos.\n",
        "\n",
        "No hay que olvidar que el modelo no es siempre correcto.\n",
        "\n",
        "Existen errores o ruido que no respeta la regresion lineal."
      ],
      "metadata": {
        "id": "r2sn6mGOVWQb"
      }
    },
    {
      "cell_type": "code",
      "source": [
        "# Importar modelo de regresion lineal de scikit-learn\n",
        "from sklearn.linear_model import LinearRegression"
      ],
      "metadata": {
        "id": "WzM7oCsgXfGC"
      },
      "execution_count": 39,
      "outputs": []
    },
    {
      "cell_type": "code",
      "source": [
        "# Creacion de objeto de Regresion Lineal\n",
        "lm = LinearRegression()"
      ],
      "metadata": {
        "id": "wQ3S6LHNYDHb"
      },
      "execution_count": 40,
      "outputs": []
    },
    {
      "cell_type": "code",
      "source": [
        "# Se definen las variables de predictor y target\n",
        "X = df[[\"highway-mpg\"]]\n",
        "Y = df[\"price\"]"
      ],
      "metadata": {
        "id": "8zgb_HGsYafP"
      },
      "execution_count": 41,
      "outputs": []
    },
    {
      "cell_type": "code",
      "source": [
        "# Se usa el objeto para entrenar el modelo\n",
        "lm.fit(X,Y)"
      ],
      "metadata": {
        "colab": {
          "base_uri": "https://localhost:8080/"
        },
        "id": "Zue-XAnLYwc0",
        "outputId": "ae37eb0a-40b5-4864-9a82-c77541cb506b"
      },
      "execution_count": 42,
      "outputs": [
        {
          "output_type": "execute_result",
          "data": {
            "text/plain": [
              "LinearRegression()"
            ]
          },
          "metadata": {},
          "execution_count": 42
        }
      ]
    },
    {
      "cell_type": "code",
      "source": [
        "# Se puede obtener una prediccion ahora\n",
        "Yhat = lm.predict(X)\n",
        "Yhat"
      ],
      "metadata": {
        "colab": {
          "base_uri": "https://localhost:8080/"
        },
        "id": "RDppP01Vasjg",
        "outputId": "d42f103f-54b7-47a2-ec9a-40d16b6c0b20"
      },
      "execution_count": 43,
      "outputs": [
        {
          "output_type": "execute_result",
          "data": {
            "text/plain": [
              "array([16236.50464347, 16236.50464347, 17058.23802179, 13771.3045085 ,\n",
              "       20345.17153508, 17879.97140011, 17879.97140011, 17879.97140011,\n",
              "       21988.63829172, 14593.03788682, 14593.03788682, 15414.77126514,\n",
              "       15414.77126514, 17879.97140011, 20345.17153508, 20345.17153508,\n",
              "       21988.63829172, -5128.5631929 ,  3088.77059031,  3088.77059031,\n",
              "        4732.23734696,  7197.43748192, 13771.3045085 ,  7197.43748192,\n",
              "        7197.43748192,  7197.43748192, 13771.3045085 , 13771.3045085 ,\n",
              "       18701.70477843, -5950.29657123,  7197.43748192,  3910.50396864,\n",
              "       10484.37099521, 10484.37099521, 10484.37099521, 10484.37099521,\n",
              "       11306.10437353, 11306.10437353, 11306.10437353, 11306.10437353,\n",
              "       15414.77126514, 12949.57113018, 14593.03788682, 14593.03788682,\n",
              "       22810.37167004, 22810.37167004, 24453.83842668, 12949.57113018,\n",
              "        7197.43748192,  7197.43748192,  7197.43748192,  7197.43748192,\n",
              "       19523.43815675, 19523.43815675, 19523.43815675, 19523.43815675,\n",
              "       12127.83775186, 12127.83775186, 12127.83775186, 12127.83775186,\n",
              "        3910.50396864, 12127.83775186, 16236.50464347,  6375.7041036 ,\n",
              "       17879.97140011, 17879.97140011, 17879.97140011, 17879.97140011,\n",
              "       23632.10504836, 23632.10504836, 25275.57180501, 25275.57180501,\n",
              "       18701.70477843,  4732.23734696,  7197.43748192,  7197.43748192,\n",
              "       13771.3045085 , 13771.3045085 , 12127.83775186, 18701.70477843,\n",
              "       18701.70477843, 18701.70477843, 12127.83775186, 12127.83775186,\n",
              "       13771.3045085 , 13771.3045085 ,  8019.17086025, -2663.36305794,\n",
              "        8019.17086025,  8019.17086025,  8019.17086025,  8019.17086025,\n",
              "        8019.17086025,  8019.17086025,  8019.17086025,  8019.17086025,\n",
              "       10484.37099521, 10484.37099521, 20345.17153508, 20345.17153508,\n",
              "       17879.97140011, 17879.97140011, 19523.43815675, 17879.97140011,\n",
              "       18701.70477843, 11306.10437353, 18701.70477843, 17879.97140011,\n",
              "       18701.70477843, 11306.10437353, 18701.70477843, 17879.97140011,\n",
              "       18701.70477843, 11306.10437353, 18701.70477843,  4732.23734696,\n",
              "       13771.3045085 ,  7197.43748192,  7197.43748192,  7197.43748192,\n",
              "       13771.3045085 , 18701.70477843, 16236.50464347, 17879.97140011,\n",
              "       17879.97140011, 17879.97140011, 12949.57113018, 12949.57113018,\n",
              "       15414.77126514, 15414.77126514, 15414.77126514, 15414.77126514,\n",
              "       17058.23802179, 17058.23802179,  8840.90423857, 12949.57113018,\n",
              "       12949.57113018,  8019.17086025, 11306.10437353, 12127.83775186,\n",
              "       17879.97140011, 14593.03788682, 12127.83775186, 12949.57113018,\n",
              "       14593.03788682, 19523.43815675,  6375.7041036 ,  7197.43748192,\n",
              "        7197.43748192,  8019.17086025, 12127.83775186, 12127.83775186,\n",
              "        8019.17086025,  8019.17086025,  8840.90423857,  -198.16292297,\n",
              "        -198.16292297, 10484.37099521, 10484.37099521, 10484.37099521,\n",
              "       10484.37099521, 14593.03788682, 14593.03788682, 13771.3045085 ,\n",
              "       13771.3045085 , 13771.3045085 , 13771.3045085 , 13771.3045085 ,\n",
              "       13771.3045085 , 10484.37099521, 11306.10437353, 12127.83775186,\n",
              "       12127.83775186, 12127.83775186, 18701.70477843, 18701.70477843,\n",
              "       18701.70477843, 18701.70477843,   623.57045535, 10484.37099521,\n",
              "         623.57045535, 10484.37099521, 10484.37099521,  3910.50396864,\n",
              "       12127.83775186, 14593.03788682, 14593.03788682, 18701.70477843,\n",
              "        7197.43748192, 12949.57113018, 15414.77126514, 15414.77126514,\n",
              "       15414.77126514, 15414.77126514, 20345.17153508, 20345.17153508,\n",
              "       15414.77126514, 17879.97140011, 19523.43815675, 16236.50464347,\n",
              "       17879.97140011])"
            ]
          },
          "metadata": {},
          "execution_count": 43
        }
      ]
    },
    {
      "cell_type": "code",
      "source": [
        "#Ver el valor de b0 o intercept\n",
        "lm.intercept_"
      ],
      "metadata": {
        "colab": {
          "base_uri": "https://localhost:8080/"
        },
        "id": "A_vg2diPa6L1",
        "outputId": "09446925-8803-44f1-9739-e07548843600"
      },
      "execution_count": 44,
      "outputs": [
        {
          "output_type": "execute_result",
          "data": {
            "text/plain": [
              "38423.3058581574"
            ]
          },
          "metadata": {},
          "execution_count": 44
        }
      ]
    },
    {
      "cell_type": "code",
      "source": [
        "#Corroborar el valor del coeficiente o b1\n",
        "lm.coef_"
      ],
      "metadata": {
        "colab": {
          "base_uri": "https://localhost:8080/"
        },
        "id": "V2WQ6lRGbDIL",
        "outputId": "98a30360-eb87-4e1d-ab38-1001683c7e75"
      },
      "execution_count": 45,
      "outputs": [
        {
          "output_type": "execute_result",
          "data": {
            "text/plain": [
              "array([-821.73337832])"
            ]
          },
          "metadata": {},
          "execution_count": 45
        }
      ]
    },
    {
      "cell_type": "markdown",
      "source": [
        "La relacion entre el Price y el Highway es dada por:\n",
        "\n",
        "Price = 38423.3058 - 821.73 * highway-mph"
      ],
      "metadata": {
        "id": "DlBAkPkCb4b0"
      }
    },
    {
      "cell_type": "markdown",
      "source": [
        "**Regresion Lineal Multiple (MLR)**\n",
        "\n",
        "Este metodo es utilizado para explicar la relacion entre:\n",
        "\n",
        "* Una variable target Y continua.\n",
        "* Dos o mas predictores X.\n",
        "\n",
        "![image.png](data:image/png;base64,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)"
      ],
      "metadata": {
        "id": "xCT_avazcEly"
      }
    },
    {
      "cell_type": "code",
      "source": [
        "# Extraemos cuatro variables predictoras para guardarlas en la variable Z\n",
        "Z = df[[\"horsepower\",\"curb-weight\",\"engine-size\",\"highway-mpg\"]]"
      ],
      "metadata": {
        "id": "CgPnwt5Oc0Ss"
      },
      "execution_count": 46,
      "outputs": []
    },
    {
      "cell_type": "code",
      "source": [
        "# Procedemos a entrenar el modelo\n",
        "lm.fit(Z,X)"
      ],
      "metadata": {
        "colab": {
          "base_uri": "https://localhost:8080/"
        },
        "id": "MW2D0N3pdGIj",
        "outputId": "e640972e-d978-4cd3-9cf6-753ff70d44a0"
      },
      "execution_count": 47,
      "outputs": [
        {
          "output_type": "execute_result",
          "data": {
            "text/plain": [
              "LinearRegression()"
            ]
          },
          "metadata": {},
          "execution_count": 47
        }
      ]
    },
    {
      "cell_type": "code",
      "source": [
        "# Obtener las predicciones\n",
        "Yhat = lm.predict(Z)"
      ],
      "metadata": {
        "id": "ly1rkfUpeLqD"
      },
      "execution_count": 49,
      "outputs": []
    },
    {
      "cell_type": "code",
      "source": [
        "lm.intercept_"
      ],
      "metadata": {
        "colab": {
          "base_uri": "https://localhost:8080/"
        },
        "id": "bBLw5-FXeZ3t",
        "outputId": "7062f838-4f27-4e94-f7e1-6af090742ab0"
      },
      "execution_count": 50,
      "outputs": [
        {
          "output_type": "execute_result",
          "data": {
            "text/plain": [
              "array([5.32907052e-14])"
            ]
          },
          "metadata": {},
          "execution_count": 50
        }
      ]
    },
    {
      "cell_type": "code",
      "source": [
        "lm.coef_"
      ],
      "metadata": {
        "colab": {
          "base_uri": "https://localhost:8080/"
        },
        "id": "E0RLdIXHeela",
        "outputId": "21d9b31e-a467-4f1e-8749-97bb8da73f14"
      },
      "execution_count": 51,
      "outputs": [
        {
          "output_type": "execute_result",
          "data": {
            "text/plain": [
              "array([[-3.79838048e-15, -1.26634814e-16,  5.00446039e-15,\n",
              "         1.00000000e+00]])"
            ]
          },
          "metadata": {},
          "execution_count": 51
        }
      ]
    },
    {
      "cell_type": "markdown",
      "source": [
        "---\n",
        "##**Evaluacion del Modelo utilizando Visualizacion**"
      ],
      "metadata": {
        "id": "zlAX2N8afMom"
      }
    },
    {
      "cell_type": "markdown",
      "source": [
        "**Diagrama de Regresion**\n",
        "\n",
        "Este diagrama nos da un buen estimado para:\n",
        "\n",
        "1. La relacion entre dos variables\n",
        "2. La fuerza de correlacion\n",
        "3. La direccion de la relacion (positiva o negativa)"
      ],
      "metadata": {
        "id": "0hhSKqpPfj72"
      }
    },
    {
      "cell_type": "code",
      "source": [
        "import seaborn as sns\n",
        "\n",
        "X = df[[\"highway-mpg\"]]\n",
        "Y = df[\"price\"]\n",
        "\n",
        "#sns.regplot(X,Y)"
      ],
      "metadata": {
        "id": "4VPPuypMf7_I"
      },
      "execution_count": 59,
      "outputs": []
    },
    {
      "cell_type": "markdown",
      "source": [
        "**Diagrama de residuos**"
      ],
      "metadata": {
        "id": "YYbQcNdNhks4"
      }
    },
    {
      "cell_type": "code",
      "source": [
        "#sns.residplot(X,Y)"
      ],
      "metadata": {
        "id": "M01OvLTOhTzD"
      },
      "execution_count": 57,
      "outputs": []
    },
    {
      "cell_type": "markdown",
      "source": [
        "---\n",
        "##**Regresion Polinomial y Pipelines**"
      ],
      "metadata": {
        "id": "kEDT4IY_iPDo"
      }
    },
    {
      "cell_type": "markdown",
      "source": [
        "**Regresion Polinomial**\n",
        "\n",
        "Es un caso especial del modelo de regresion lineal general.\n",
        "\n",
        "Usado para descibir una relacion curvilineal."
      ],
      "metadata": {
        "id": "LdAnK0X7ihzj"
      }
    },
    {
      "cell_type": "code",
      "source": [
        "#f = np.polyfit(x,y,3)\n",
        "#p = np.polyld(f)\n",
        "#print(p)"
      ],
      "metadata": {
        "id": "rwnJMLuUjAmp"
      },
      "execution_count": 61,
      "outputs": []
    },
    {
      "cell_type": "markdown",
      "source": [
        "**Pipeline**\n",
        "\n",
        "Un pipeline realiza secuencialmente una serie de transformaciones a los datos."
      ],
      "metadata": {
        "id": "Eaf6Vkw0jwqZ"
      }
    },
    {
      "cell_type": "markdown",
      "source": [
        "---\n",
        "##**Mediciones para evaluar In-Sample**"
      ],
      "metadata": {
        "id": "5rU5GWlskOy4"
      }
    },
    {
      "cell_type": "markdown",
      "source": [
        "Es una manera para determinar cuan bueno es un modelo entrenado de un dataset.\n",
        "\n",
        "Hay dos importantes mediciones para determinar el entrenamiento de un mdoelo:\n",
        "\n",
        "* Mean Squared Error (MSE)\n",
        "* R-squared (R2)"
      ],
      "metadata": {
        "id": "NfS7dj4PkSWU"
      }
    },
    {
      "cell_type": "code",
      "source": [
        "from sklearn.metrics import mean_squared_error\n",
        "\n",
        "#mean_squared_error(df[\"price\"],Y_predict_simple_fit)"
      ],
      "metadata": {
        "id": "Zhr7JHVekupW"
      },
      "execution_count": 62,
      "outputs": []
    },
    {
      "cell_type": "markdown",
      "source": [
        "**R-squared**\n",
        "\n",
        "Se refiere al Coeficiente de Determinacion o R squared.\n",
        "\n",
        "Es una medicion para determinar cuan cerca se encuentran los datos con respecto a la linea de regresion entrenada.\n",
        "\n",
        "Es el porcentaje de variacion de la variable target que es explicada por el modelo lineal.\n",
        "\n",
        "![image.png](data:image/png;base64,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)"
      ],
      "metadata": {
        "id": "Es8_vgCvlKB9"
      }
    },
    {
      "cell_type": "markdown",
      "source": [
        "---\n",
        "##**Prediccion y Toma de Decisiones**"
      ],
      "metadata": {
        "id": "o2uMdRznnUgE"
      }
    },
    {
      "cell_type": "markdown",
      "source": [
        "Para esto se evaluan todos los modelos que se planean utilizar tomando en cuenta las metricas de desempeño y analizando cada uno de los graficos que estas mismas generan."
      ],
      "metadata": {
        "id": "raOBmFKhnZdM"
      }
    },
    {
      "cell_type": "markdown",
      "source": [
        "---\n",
        "##**Lab4**"
      ],
      "metadata": {
        "id": "mOV51n4bO271"
      }
    },
    {
      "cell_type": "markdown",
      "source": [
        "**Pregunta 1a**\n",
        "\n",
        "Crea una regresion lineal llamada lm1"
      ],
      "metadata": {
        "id": "lbrRBLASXJzZ"
      }
    },
    {
      "cell_type": "code",
      "source": [
        "lm1 = LinearRegression()\n",
        "lm1"
      ],
      "metadata": {
        "colab": {
          "base_uri": "https://localhost:8080/"
        },
        "id": "QRzwxzItXW9g",
        "outputId": "8a494056-ba95-4b89-e791-33624fe5fd3b"
      },
      "execution_count": 65,
      "outputs": [
        {
          "output_type": "execute_result",
          "data": {
            "text/plain": [
              "LinearRegression()"
            ]
          },
          "metadata": {},
          "execution_count": 65
        }
      ]
    },
    {
      "cell_type": "markdown",
      "source": [
        "**Pregunta 1b**\n",
        "\n",
        "Entrena el modelo utulizando engine-size como la variable independiente y price como la variable dependiente."
      ],
      "metadata": {
        "id": "Svr5APZsYAD0"
      }
    },
    {
      "cell_type": "code",
      "source": [
        "lm1.fit(df[['engine-size']], df[['price']])\n",
        "lm1"
      ],
      "metadata": {
        "colab": {
          "base_uri": "https://localhost:8080/"
        },
        "id": "MhQeeDfGYk5C",
        "outputId": "b045e408-a9ae-4fa4-eb72-0c3b2b7712ac"
      },
      "execution_count": 66,
      "outputs": [
        {
          "output_type": "execute_result",
          "data": {
            "text/plain": [
              "LinearRegression()"
            ]
          },
          "metadata": {},
          "execution_count": 66
        }
      ]
    },
    {
      "cell_type": "markdown",
      "source": [
        "**Pregunta 1 c**\n",
        "\n",
        "Encuentra el slope y el intercept del modelo."
      ],
      "metadata": {
        "id": "99EvFvDBZA4p"
      }
    },
    {
      "cell_type": "code",
      "source": [
        "lm1.coef_"
      ],
      "metadata": {
        "colab": {
          "base_uri": "https://localhost:8080/"
        },
        "id": "j_OEAsQpZHql",
        "outputId": "5b5da3b5-310e-40d1-8cee-44ddf22d77d8"
      },
      "execution_count": 67,
      "outputs": [
        {
          "output_type": "execute_result",
          "data": {
            "text/plain": [
              "array([[166.86001569]])"
            ]
          },
          "metadata": {},
          "execution_count": 67
        }
      ]
    },
    {
      "cell_type": "code",
      "source": [
        "lm1.intercept_"
      ],
      "metadata": {
        "colab": {
          "base_uri": "https://localhost:8080/"
        },
        "id": "EAK6O8O5riLT",
        "outputId": "765dd5a3-e583-4d83-ccc6-676eb50cac27"
      },
      "execution_count": 68,
      "outputs": [
        {
          "output_type": "execute_result",
          "data": {
            "text/plain": [
              "array([-7963.33890628])"
            ]
          },
          "metadata": {},
          "execution_count": 68
        }
      ]
    },
    {
      "cell_type": "markdown",
      "source": [
        "---\n",
        "##**Graded Review Questions**"
      ],
      "metadata": {
        "id": "3pKg-oO3O_Dl"
      }
    },
    {
      "cell_type": "markdown",
      "source": [
        "![image.png](data:image/png;base64,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)"
      ],
      "metadata": {
        "id": "VGWDN4xZpObH"
      }
    }
  ]
}