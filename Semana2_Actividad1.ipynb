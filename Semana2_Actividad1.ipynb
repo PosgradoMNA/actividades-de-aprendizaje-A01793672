{
  "nbformat": 4,
  "nbformat_minor": 0,
  "metadata": {
    "colab": {
      "provenance": [],
      "collapsed_sections": [
        "h_KNq3mLG4Og",
        "o3sGZeIwHKPv",
        "skVHI0ggH2in",
        "mX-xmt-lG3GA",
        "EzX7BXM-IFzc"
      ],
      "authorship_tag": "ABX9TyOzKQsfTKV184ttFRfiorcS",
      "include_colab_link": true
    },
    "kernelspec": {
      "name": "python3",
      "display_name": "Python 3"
    },
    "language_info": {
      "name": "python"
    }
  },
  "cells": [
    {
      "cell_type": "markdown",
      "metadata": {
        "id": "view-in-github",
        "colab_type": "text"
      },
      "source": [
        "<a href=\"https://colab.research.google.com/github/PosgradoMNA/actividades-de-aprendizaje-A01793672/blob/main/Semana2_Actividad1.ipynb\" target=\"_parent\"><img src=\"https://colab.research.google.com/assets/colab-badge.svg\" alt=\"Open In Colab\"/></a>"
      ]
    },
    {
      "cell_type": "markdown",
      "source": [
        "#**Module 4 - Working with Data in Python**"
      ],
      "metadata": {
        "id": "KUeAIM1u_5HP"
      }
    },
    {
      "cell_type": "markdown",
      "source": [
        "##**By: Freddy Armendariz Herrera**\n",
        "##**Matrícula: A01793672**"
      ],
      "metadata": {
        "id": "BAIXXaffQetR"
      }
    },
    {
      "cell_type": "markdown",
      "source": [
        "##**Reading Files with Open**"
      ],
      "metadata": {
        "id": "h_KNq3mLG4Og"
      }
    },
    {
      "cell_type": "markdown",
      "source": [
        "En esta sección se utiliza la función *open* para crear un objeto-archivo."
      ],
      "metadata": {
        "id": "PYwUVpYBHk5d"
      }
    },
    {
      "cell_type": "code",
      "source": [
        "File1 = open(\"Example2.txt\",\"w\")"
      ],
      "metadata": {
        "id": "_NyEIwNNHmUe"
      },
      "execution_count": 225,
      "outputs": []
    },
    {
      "cell_type": "markdown",
      "source": [
        "El primer parámetro es la ruta del archivo, mientras que el segundo parámetro es el modo: \"r\" para leer, \"w\" para escribir y \"a\" para anexar.\n",
        "Se puede usar el objeto archivo para obtener información sobre el archivo.\n",
        "Se puede utilizar el atributo *name* para obtener el nombre del archivo; el resultado es un string con el nombre."
      ],
      "metadata": {
        "id": "OCqODtUTCyIi"
      }
    },
    {
      "cell_type": "code",
      "source": [
        "File1.name"
      ],
      "metadata": {
        "colab": {
          "base_uri": "https://localhost:8080/",
          "height": 0
        },
        "id": "mUlpkPBwD2j0",
        "outputId": "51053947-3909-4910-9215-75047957c09b"
      },
      "execution_count": 226,
      "outputs": [
        {
          "output_type": "execute_result",
          "data": {
            "text/plain": [
              "'Example2.txt'"
            ],
            "application/vnd.google.colaboratory.intrinsic+json": {
              "type": "string"
            }
          },
          "metadata": {},
          "execution_count": 226
        }
      ]
    },
    {
      "cell_type": "markdown",
      "source": [
        "Se puede consultar el modo del objeto con el siguiente comando:"
      ],
      "metadata": {
        "id": "ZcDJXV3kHLFv"
      }
    },
    {
      "cell_type": "code",
      "source": [
        "File1.mode"
      ],
      "metadata": {
        "colab": {
          "base_uri": "https://localhost:8080/",
          "height": 0
        },
        "id": "TL8W7Hf5HXyK",
        "outputId": "2a036d2a-8f30-4e9a-d12d-f320cc6340c9"
      },
      "execution_count": 227,
      "outputs": [
        {
          "output_type": "execute_result",
          "data": {
            "text/plain": [
              "'w'"
            ],
            "application/vnd.google.colaboratory.intrinsic+json": {
              "type": "string"
            }
          },
          "metadata": {},
          "execution_count": 227
        }
      ]
    },
    {
      "cell_type": "markdown",
      "source": [
        "Siempre se debe de cerrar el archivo-objeto usando le método *close*."
      ],
      "metadata": {
        "id": "751VNBaWHZ4W"
      }
    },
    {
      "cell_type": "code",
      "source": [
        "File1.close()"
      ],
      "metadata": {
        "id": "wQUEz78IHoYt"
      },
      "execution_count": 228,
      "outputs": []
    },
    {
      "cell_type": "markdown",
      "source": [
        "####**With Statement**"
      ],
      "metadata": {
        "id": "0rH-0s1iH5Wp"
      }
    },
    {
      "cell_type": "markdown",
      "source": [
        "Es mejor usar la sentencia *with* para abrir los archivos ya que los cierra automáticamente."
      ],
      "metadata": {
        "id": "Rta24dwpIDit"
      }
    },
    {
      "cell_type": "code",
      "source": [
        "with open(\"Example.txt\",\"r\") as File1:\n",
        "  file_stuff=File1.read()\n",
        "  print(file_stuff)\n",
        "\n",
        "print(File1.closed)\n",
        "print(file_stuff)"
      ],
      "metadata": {
        "colab": {
          "base_uri": "https://localhost:8080/"
        },
        "id": "02HfI666ISx3",
        "outputId": "d237294d-a53d-4fc7-e833-c7f85f485699"
      },
      "execution_count": 229,
      "outputs": [
        {
          "output_type": "stream",
          "name": "stdout",
          "text": [
            "Freddy Armendariz Herrera\n",
            "Maestría en Inteligencia Artificial\n",
            "True\n",
            "Freddy Armendariz Herrera\n",
            "Maestría en Inteligencia Artificial\n"
          ]
        }
      ]
    },
    {
      "cell_type": "markdown",
      "source": [
        "No se puede leer el archivo fuera de la sentencia, en este caso se guarda primero en una variable y luego se puede mandar a imprimir esa variable fuera de la sentencia.\n",
        "\n",
        "Si un archivo contiene saltos de línea dentro, Python lo asimila como un \\n."
      ],
      "metadata": {
        "id": "pFBWsgwQJRl0"
      }
    },
    {
      "cell_type": "markdown",
      "source": [
        "Se pueden extraer las lineas de un archivo como elementos de una lista usando el método *readlines*."
      ],
      "metadata": {
        "id": "TT8VwO1vKH8N"
      }
    },
    {
      "cell_type": "code",
      "source": [
        "with open(\"Example1.txt\",\"r\") as File1:\n",
        "  file_stuff=File1.readlines()\n",
        "  print(file_stuff)"
      ],
      "metadata": {
        "colab": {
          "base_uri": "https://localhost:8080/"
        },
        "id": "TspxYK5MKgmf",
        "outputId": "ebddde1d-86cb-48c8-8b7f-0c9464426811"
      },
      "execution_count": 230,
      "outputs": [
        {
          "output_type": "stream",
          "name": "stdout",
          "text": [
            "['This is line 1\\n', 'This is line 2\\n', 'This is line 3']\n"
          ]
        }
      ]
    },
    {
      "cell_type": "markdown",
      "source": [
        "Método *readline* para leer solo la primer linea del archivo."
      ],
      "metadata": {
        "id": "yqv2KclkMA6Z"
      }
    },
    {
      "cell_type": "code",
      "source": [
        "with open(\"Example1.txt\",\"r\") as File1:\n",
        "  file_stuff=File1.readline()\n",
        "  print(file_stuff)"
      ],
      "metadata": {
        "colab": {
          "base_uri": "https://localhost:8080/"
        },
        "id": "iR7j42lPMNv2",
        "outputId": "1802aa1b-65a7-4427-8700-b0dc207e2341"
      },
      "execution_count": 231,
      "outputs": [
        {
          "output_type": "stream",
          "name": "stdout",
          "text": [
            "This is line 1\n",
            "\n"
          ]
        }
      ]
    },
    {
      "cell_type": "markdown",
      "source": [
        "**NOTA:** Si Se utiliza el método *readline* dos veces dentro de la misma sentencia, la segunda vez leera la segunda línea del archivo. "
      ],
      "metadata": {
        "id": "pVNEdZFbMQ3B"
      }
    },
    {
      "cell_type": "markdown",
      "source": [
        "Se puede utilizar un ciclo for para imprimir cada línea del archivo individualmente:"
      ],
      "metadata": {
        "id": "0oCR8V2PMwr3"
      }
    },
    {
      "cell_type": "code",
      "source": [
        "with open(\"Example1.txt\",\"r\") as File1:\n",
        "  for line in File1:\n",
        "    print(line)"
      ],
      "metadata": {
        "colab": {
          "base_uri": "https://localhost:8080/"
        },
        "id": "rNJqgMIrMvkG",
        "outputId": "b6fdbc29-d56d-461c-b2a2-78d2737add3a"
      },
      "execution_count": 232,
      "outputs": [
        {
          "output_type": "stream",
          "name": "stdout",
          "text": [
            "This is line 1\n",
            "\n",
            "This is line 2\n",
            "\n",
            "This is line 3\n"
          ]
        }
      ]
    },
    {
      "cell_type": "markdown",
      "source": [
        "Se puede también imprimir solo cierta cantidad de caracteres."
      ],
      "metadata": {
        "id": "uoaD3_UsOAYr"
      }
    },
    {
      "cell_type": "code",
      "source": [
        "with open(\"Example1.txt\",\"r\") as File1:\n",
        "  file_stuff=File1.readlines(4) #Leera solo los 4 primeros caracteres\n",
        "  print(file_stuff)"
      ],
      "metadata": {
        "colab": {
          "base_uri": "https://localhost:8080/"
        },
        "id": "PVUxszboOJwe",
        "outputId": "db4ce032-a1db-4e0e-c30e-fdd7b3638e2a"
      },
      "execution_count": 233,
      "outputs": [
        {
          "output_type": "stream",
          "name": "stdout",
          "text": [
            "['This is line 1\\n']\n"
          ]
        }
      ]
    },
    {
      "cell_type": "markdown",
      "source": [
        "Cada vez que se utilice el método *readlines* con algún argumento dentro, se ira recorriendo de lugar los caraceteres que se quieren leer, con respecto a los anteriores leídos."
      ],
      "metadata": {
        "id": "NuDWPtg9OezD"
      }
    },
    {
      "cell_type": "markdown",
      "source": [
        "###**Lab - Reading Files**"
      ],
      "metadata": {
        "id": "qMvVKe_fIerU"
      }
    },
    {
      "cell_type": "code",
      "source": [
        "# Iterando a través de las lineas\n",
        "with open(\"Example1.txt\",\"r\") as file1:\n",
        "  i=0\n",
        "  for line in file1:\n",
        "    print(\"Iteration\", str(i),\": \",line)\n",
        "    i=i+1"
      ],
      "metadata": {
        "colab": {
          "base_uri": "https://localhost:8080/"
        },
        "id": "jTY_bCeoUGMk",
        "outputId": "49f5dcdb-4317-4a71-f208-9b0d8aa52df9"
      },
      "execution_count": 234,
      "outputs": [
        {
          "output_type": "stream",
          "name": "stdout",
          "text": [
            "Iteration 0 :  This is line 1\n",
            "\n",
            "Iteration 1 :  This is line 2\n",
            "\n",
            "Iteration 2 :  This is line 3\n"
          ]
        }
      ]
    },
    {
      "cell_type": "code",
      "source": [
        "# Leer todas las lineas y guardarlas como una lista\n",
        "with open(\"Example1.txt\",\"r\") as file1:\n",
        "  FileasList = file1.readlines()"
      ],
      "metadata": {
        "id": "8sjpLD-ooelo"
      },
      "execution_count": 235,
      "outputs": []
    },
    {
      "cell_type": "code",
      "source": [
        "# Imprimir la primer línea\n",
        "FileasList[0]"
      ],
      "metadata": {
        "colab": {
          "base_uri": "https://localhost:8080/",
          "height": 0
        },
        "id": "o5X3WPm7pBjr",
        "outputId": "b19fedfc-5e0d-48b1-aba0-e311f2283b87"
      },
      "execution_count": 236,
      "outputs": [
        {
          "output_type": "execute_result",
          "data": {
            "text/plain": [
              "'This is line 1\\n'"
            ],
            "application/vnd.google.colaboratory.intrinsic+json": {
              "type": "string"
            }
          },
          "metadata": {},
          "execution_count": 236
        }
      ]
    },
    {
      "cell_type": "code",
      "source": [
        "# Imprimir la tercer línea\n",
        "FileasList[2]"
      ],
      "metadata": {
        "colab": {
          "base_uri": "https://localhost:8080/",
          "height": 0
        },
        "id": "_Q3_MuYTpOs9",
        "outputId": "9d3f79ae-9bdc-4718-a3f0-c7b3ef1445a8"
      },
      "execution_count": 237,
      "outputs": [
        {
          "output_type": "execute_result",
          "data": {
            "text/plain": [
              "'This is line 3'"
            ],
            "application/vnd.google.colaboratory.intrinsic+json": {
              "type": "string"
            }
          },
          "metadata": {},
          "execution_count": 237
        }
      ]
    },
    {
      "cell_type": "markdown",
      "source": [
        "##**Writing Files with Open**"
      ],
      "metadata": {
        "id": "o3sGZeIwHKPv"
      }
    },
    {
      "cell_type": "markdown",
      "source": [
        "También se puede escribir en archivos utilizando la función *open* con el método *write*."
      ],
      "metadata": {
        "id": "9V9i1_waH1MA"
      }
    },
    {
      "cell_type": "code",
      "source": [
        "File1 = open(\"Example4.txt\",\"w\") #Con este comando se crea el archivo, si el archivo existe, solo se va a sobreescribir."
      ],
      "metadata": {
        "id": "j1VgtQukH19I"
      },
      "execution_count": 238,
      "outputs": []
    },
    {
      "cell_type": "markdown",
      "source": [
        "De igual manera, también se puede utilizar la sentencia *with*."
      ],
      "metadata": {
        "id": "gY-La8-As6ZJ"
      }
    },
    {
      "cell_type": "code",
      "source": [
        "with open(\"Example4.txt\",\"w\") as File1:\n",
        "  File1.write(\"This is line A\\n\")\n",
        "  File1.write(\"This is line B\\n\")\n",
        "  # Al ejecutarse todo dentro de la sentencia, se cerrará automáticamente el archivo"
      ],
      "metadata": {
        "id": "LXDyZDi_tb3t"
      },
      "execution_count": 239,
      "outputs": []
    },
    {
      "cell_type": "markdown",
      "source": [
        "Se puede escribir cada elemento de una lista en un archivo."
      ],
      "metadata": {
        "id": "zs3ks3opusAj"
      }
    },
    {
      "cell_type": "code",
      "source": [
        "Lines = [\"This is line A\\n\",\"This is line B\\n\",\"This is line C\\n\"]\n",
        "with open(\"Example4.txt\",\"w\") as File1: #Se crea el archivo o se sobreescribe\n",
        "  for line in Lines:\n",
        "    File1.write(line)"
      ],
      "metadata": {
        "id": "zv_SQLqLu1wx"
      },
      "execution_count": 240,
      "outputs": []
    },
    {
      "cell_type": "markdown",
      "source": [
        "Se puede setear el modo para añadir texto a un archivo existente utilizando \"a\"."
      ],
      "metadata": {
        "id": "cs1yQUd2v4O3"
      }
    },
    {
      "cell_type": "code",
      "source": [
        "with open(\"Example4.txt\",\"a\") as File1: # Esto no creara un nuevo archivo, sino que escribirá en el ya existente.\n",
        "    File1.write(\"This is line D\")"
      ],
      "metadata": {
        "id": "SZP0pSm-wRrB"
      },
      "execution_count": 241,
      "outputs": []
    },
    {
      "cell_type": "markdown",
      "source": [
        "Se puede copiar el contenido de un archivo en uno nuevo."
      ],
      "metadata": {
        "id": "zOxYR8DvxDXT"
      }
    },
    {
      "cell_type": "code",
      "source": [
        "with open(\"Example4.txt\",\"r\") as readfile:\n",
        "  with open (\"Example5.txt\",\"w\") as writefile:\n",
        "    for line in readfile:\n",
        "      writefile.write(line)"
      ],
      "metadata": {
        "id": "a6wDbhX7xGlj"
      },
      "execution_count": 242,
      "outputs": []
    },
    {
      "cell_type": "markdown",
      "source": [
        "###**Lab - Writing Files**"
      ],
      "metadata": {
        "id": "WlMXA6rSIrY1"
      }
    },
    {
      "cell_type": "markdown",
      "source": [
        "####**Additional Modes**"
      ],
      "metadata": {
        "id": "-9t2o8sP0eBP"
      }
    },
    {
      "cell_type": "markdown",
      "source": [
        "También se pueden utilizar los siguientes modos para acceder a los archivos:\n",
        "* r+: Lectura y escritura. No puede truncar el archivo.\n",
        "* w+: Lectura y escritura. Puede truncar el archivo.\n",
        "* a+: Añadir y leer. Cree un nuevo archivo si no existe.\n",
        "Métodos para el uso del cursor:\n",
        "* .tell() - Regresa la posición actual del curso en bytes.\n",
        "* .seek(offset,from) cambia la posición en bytes de offset con respecto a from.\n"
      ],
      "metadata": {
        "id": "gjr7HuFP0k2E"
      }
    },
    {
      "cell_type": "code",
      "source": [
        "# a+ modo\n",
        "with open('Example4.txt', 'a+') as testwritefile:\n",
        "  testwritefile.write(\"This is line E\\n\")\n",
        "  print(testwritefile.read())"
      ],
      "metadata": {
        "colab": {
          "base_uri": "https://localhost:8080/"
        },
        "id": "7FleEivs2jPG",
        "outputId": "ba945b6f-092d-4a74-9fa6-b382c3dfc98e"
      },
      "execution_count": 243,
      "outputs": [
        {
          "output_type": "stream",
          "name": "stdout",
          "text": [
            "\n"
          ]
        }
      ]
    },
    {
      "cell_type": "code",
      "source": [
        "with open('Example4.txt', 'a+') as testwritefile:\n",
        "    print(\"Initial Location: {}\".format(testwritefile.tell()))\n",
        "    \n",
        "    data = testwritefile.read()\n",
        "    if (not data):  #Strings vacíos retornan un valor falso en Python\n",
        "            print('Read nothing') \n",
        "    else: \n",
        "            print(testwritefile.read())\n",
        "            \n",
        "    testwritefile.seek(0,0) # Mueve 0 bytes del principio\n",
        "    \n",
        "    print(\"\\nNew Location : {}\".format(testwritefile.tell()))\n",
        "    data = testwritefile.read()\n",
        "    if (not data): \n",
        "            print('Read nothing') \n",
        "    else: \n",
        "            print(data)\n",
        "    \n",
        "    print(\"Location after read: {}\".format(testwritefile.tell()) )"
      ],
      "metadata": {
        "colab": {
          "base_uri": "https://localhost:8080/"
        },
        "id": "CdabaW653Zzd",
        "outputId": "90735cca-f37a-4db5-b8f5-7cdefa3d620d"
      },
      "execution_count": 244,
      "outputs": [
        {
          "output_type": "stream",
          "name": "stdout",
          "text": [
            "Initial Location: 74\n",
            "Read nothing\n",
            "\n",
            "New Location : 0\n",
            "This is line A\n",
            "This is line B\n",
            "This is line C\n",
            "This is line DThis is line E\n",
            "\n",
            "Location after read: 74\n"
          ]
        }
      ]
    },
    {
      "cell_type": "markdown",
      "source": [
        "####**Exercise**"
      ],
      "metadata": {
        "id": "cCObb0Gp5qeT"
      }
    },
    {
      "cell_type": "markdown",
      "source": [
        "Ejecutar el siguiente código antes del ejercicio."
      ],
      "metadata": {
        "id": "JoFksakq6pVc"
      }
    },
    {
      "cell_type": "code",
      "source": [
        "from random import randint as rnd\n",
        "\n",
        "memReg = 'members.txt'\n",
        "exReg = 'inactive.txt'\n",
        "fee =('yes','no')\n",
        "\n",
        "def genFiles(current,old):\n",
        "    with open(current,'w+') as writefile: \n",
        "        writefile.write('Membership No  Date Joined  Active  \\n')\n",
        "        data = \"{:^13}  {:<11}  {:<6}\\n\"\n",
        "\n",
        "        for rowno in range(20):\n",
        "            date = str(rnd(2015,2020))+ '-' + str(rnd(1,12))+'-'+str(rnd(1,25))\n",
        "            writefile.write(data.format(rnd(10000,99999),date,fee[rnd(0,1)]))\n",
        "\n",
        "\n",
        "    with open(old,'w+') as writefile: \n",
        "        writefile.write('Membership No  Date Joined  Active  \\n')\n",
        "        data = \"{:^13}  {:<11}  {:<6}\\n\"\n",
        "        for rowno in range(3):\n",
        "            date = str(rnd(2015,2020))+ '-' + str(rnd(1,12))+'-'+str(rnd(1,25))\n",
        "            writefile.write(data.format(rnd(10000,99999),date,fee[1]))\n",
        "\n",
        "\n",
        "genFiles(memReg,exReg)"
      ],
      "metadata": {
        "id": "f99bOgeY5tPX"
      },
      "execution_count": 245,
      "outputs": []
    },
    {
      "cell_type": "markdown",
      "source": [
        "Definir la función cleanFiles."
      ],
      "metadata": {
        "id": "RR-LIh2Z6s0S"
      }
    },
    {
      "cell_type": "code",
      "source": [
        "'''\n",
        "The two arguments for this function are the files:\n",
        "    - currentMem: File containing list of current members\n",
        "    - exMem: File containing list of old members\n",
        "    \n",
        "    This function should remove all rows from currentMem containing 'no' \n",
        "    in the 'Active' column and appends them to exMem.\n",
        "    '''\n",
        "def cleanFiles(currentMem, exMem):\n",
        "       with open(currentMem,'r+') as writeFile: \n",
        "        with open(exMem,'a+') as appendFile:\n",
        "            #get the data\n",
        "            writeFile.seek(0)\n",
        "            members = writeFile.readlines()\n",
        "            #remove header\n",
        "            header = members[0]\n",
        "            members.pop(0)\n",
        "                \n",
        "            inactive = [member for member in members if ('no' in member)]\n",
        "\n",
        "            writeFile.seek(0) \n",
        "            writeFile.write(header)\n",
        "            for member in members:\n",
        "                if (member in inactive):\n",
        "                    appendFile.write(member)\n",
        "                else:\n",
        "                    writeFile.write(member)      \n",
        "            writeFile.truncate()\n",
        "\n",
        "\n",
        "# The code below is to help you view the files.\n",
        "# Do not modify this code for this exercise.\n",
        "memReg = 'members.txt'\n",
        "exReg = 'inactive.txt'\n",
        "cleanFiles(memReg,exReg)\n",
        "\n",
        "\n",
        "headers = \"Membership No  Date Joined  Active  \\n\"\n",
        "with open(memReg,'r') as readFile:\n",
        "    print(\"Active Members: \\n\\n\")\n",
        "    print(readFile.read())\n",
        "    \n",
        "with open(exReg,'r') as readFile:\n",
        "    print(\"Inactive Members: \\n\\n\")\n",
        "    print(readFile.read())"
      ],
      "metadata": {
        "colab": {
          "base_uri": "https://localhost:8080/"
        },
        "id": "u3wWymte35Sz",
        "outputId": "02e7fe2c-d400-4a3d-8b62-89b88d789b87"
      },
      "execution_count": 246,
      "outputs": [
        {
          "output_type": "stream",
          "name": "stdout",
          "text": [
            "Active Members: \n",
            "\n",
            "\n",
            "Membership No  Date Joined  Active  \n",
            "    51226      2016-2-20    yes   \n",
            "    15409      2016-5-11    yes   \n",
            "    89714      2020-5-14    yes   \n",
            "    40050      2016-9-17    yes   \n",
            "    18504      2017-8-18    yes   \n",
            "    81624      2019-3-17    yes   \n",
            "    65143      2018-3-10    yes   \n",
            "    71435      2017-7-20    yes   \n",
            "    86036      2015-12-3    yes   \n",
            "\n",
            "Inactive Members: \n",
            "\n",
            "\n",
            "Membership No  Date Joined  Active  \n",
            "    97809      2015-11-16   no    \n",
            "    81220      2015-9-21    no    \n",
            "    72534      2016-1-19    no    \n",
            "    16959      2017-8-10    no    \n",
            "    42638      2020-5-10    no    \n",
            "    72311      2020-2-20    no    \n",
            "    55375      2016-4-2     no    \n",
            "    24682      2015-8-7     no    \n",
            "    27994      2015-7-13    no    \n",
            "    64613      2020-1-22    no    \n",
            "    57333      2018-11-20   no    \n",
            "    67388      2018-10-2    no    \n",
            "    84154      2017-2-6     no    \n",
            "    72777      2018-8-11    no    \n",
            "\n"
          ]
        }
      ]
    },
    {
      "cell_type": "markdown",
      "source": [
        "Código para verificar la solución"
      ],
      "metadata": {
        "id": "SeQybM-z7R7V"
      }
    },
    {
      "cell_type": "code",
      "source": [
        "def testMsg(passed):\n",
        "    if passed:\n",
        "       return 'Test Passed'\n",
        "    else :\n",
        "       return 'Test Failed'\n",
        "\n",
        "testWrite = \"testWrite.txt\"\n",
        "testAppend = \"testAppend.txt\" \n",
        "passed = True\n",
        "\n",
        "genFiles(testWrite,testAppend)\n",
        "\n",
        "with open(testWrite,'r') as file:\n",
        "    ogWrite = file.readlines()\n",
        "\n",
        "with open(testAppend,'r') as file:\n",
        "    ogAppend = file.readlines()\n",
        "\n",
        "try:\n",
        "    cleanFiles(testWrite,testAppend)\n",
        "except:\n",
        "    print('Error')\n",
        "\n",
        "with open(testWrite,'r') as file:\n",
        "    clWrite = file.readlines()\n",
        "\n",
        "with open(testAppend,'r') as file:\n",
        "    clAppend = file.readlines()\n",
        "        \n",
        "# checking if total no of rows is same, including headers\n",
        "\n",
        "if (len(ogWrite) + len(ogAppend) != len(clWrite) + len(clAppend)):\n",
        "    print(\"The number of rows do not add up. Make sure your final files have the same header and format.\")\n",
        "    passed = False\n",
        "    \n",
        "for line in clWrite:\n",
        "    if  'no' in line:\n",
        "        passed = False\n",
        "        print(\"Inactive members in file\")\n",
        "        break\n",
        "    else:\n",
        "        if line not in ogWrite:\n",
        "            print(\"Data in file does not match original file\")\n",
        "            passed = False\n",
        "print (\"{}\".format(testMsg(passed)))"
      ],
      "metadata": {
        "colab": {
          "base_uri": "https://localhost:8080/"
        },
        "id": "Kw0PzIHK7UXp",
        "outputId": "e28aaa29-1795-4786-df2a-7f9f8311aac5"
      },
      "execution_count": 247,
      "outputs": [
        {
          "output_type": "stream",
          "name": "stdout",
          "text": [
            "Test Passed\n"
          ]
        }
      ]
    },
    {
      "cell_type": "markdown",
      "source": [
        "##**Loading Data with Pandas**"
      ],
      "metadata": {
        "id": "skVHI0ggH2in"
      }
    },
    {
      "cell_type": "markdown",
      "source": [
        "Trabajaremos con la librería pandas para el análisis de datos."
      ],
      "metadata": {
        "id": "HdlivsmrIDl4"
      }
    },
    {
      "cell_type": "code",
      "source": [
        "import pandas as pd #Importa la librería pandas y pd es la abreviación de la librería\n",
        "csv_path=\"file1.csv\" #Se guarda la ruta del archivo en la variable csv_path\n",
        "df=pd.read_csv(csv_path) #read_csv() es la función para guardar los datos en un marco de datos\n",
        "df.head(5) #Método para desplegar las primeras 5 filas de un marco de datos."
      ],
      "metadata": {
        "id": "OggXbY8WIEu0",
        "colab": {
          "base_uri": "https://localhost:8080/",
          "height": 0
        },
        "outputId": "9c41df19-ac30-401c-e723-014980c43297"
      },
      "execution_count": 248,
      "outputs": [
        {
          "output_type": "execute_result",
          "data": {
            "text/plain": [
              "            Artist                      Album  Released   Length  \\\n",
              "0  Michael Jackson                   Thriller      1982  0:42:19   \n",
              "1            AC/DC              Back in Black      1980  0:42:11   \n",
              "2       Pink Floyd  The Dark Side of the Moon      1973  0:42:49   \n",
              "3  Whitney Houston              The Bodyguard      1992  0:57:44   \n",
              "4        Meat Loaf            Bat Out of Hell      1977  0:46:33   \n",
              "\n",
              "                         Genre  Music Recording Sales (millions)  \\\n",
              "0               pop, rock, R&B                              46.0   \n",
              "1                    hard rock                              26.1   \n",
              "2             progressive rock                              24.2   \n",
              "3               R&B, soul, pop                              27.4   \n",
              "4  hard rock, progressive rock                              20.6   \n",
              "\n",
              "   Claimed Sales (millions) Released.1 Soundtrack  Rating  \n",
              "0                        65  30-Nov-82        NaN    10.0  \n",
              "1                        50  25-Jul-80        NaN     9.5  \n",
              "2                        45  01-Mar-73        NaN     9.0  \n",
              "3                        44  17-Nov-92          Y     8.5  \n",
              "4                        43  21-Oct-77        NaN     8.0  "
            ],
            "text/html": [
              "\n",
              "  <div id=\"df-56e2d540-8a81-45c7-b411-c6eeff8d4060\">\n",
              "    <div class=\"colab-df-container\">\n",
              "      <div>\n",
              "<style scoped>\n",
              "    .dataframe tbody tr th:only-of-type {\n",
              "        vertical-align: middle;\n",
              "    }\n",
              "\n",
              "    .dataframe tbody tr th {\n",
              "        vertical-align: top;\n",
              "    }\n",
              "\n",
              "    .dataframe thead th {\n",
              "        text-align: right;\n",
              "    }\n",
              "</style>\n",
              "<table border=\"1\" class=\"dataframe\">\n",
              "  <thead>\n",
              "    <tr style=\"text-align: right;\">\n",
              "      <th></th>\n",
              "      <th>Artist</th>\n",
              "      <th>Album</th>\n",
              "      <th>Released</th>\n",
              "      <th>Length</th>\n",
              "      <th>Genre</th>\n",
              "      <th>Music Recording Sales (millions)</th>\n",
              "      <th>Claimed Sales (millions)</th>\n",
              "      <th>Released.1</th>\n",
              "      <th>Soundtrack</th>\n",
              "      <th>Rating</th>\n",
              "    </tr>\n",
              "  </thead>\n",
              "  <tbody>\n",
              "    <tr>\n",
              "      <th>0</th>\n",
              "      <td>Michael Jackson</td>\n",
              "      <td>Thriller</td>\n",
              "      <td>1982</td>\n",
              "      <td>0:42:19</td>\n",
              "      <td>pop, rock, R&amp;B</td>\n",
              "      <td>46.0</td>\n",
              "      <td>65</td>\n",
              "      <td>30-Nov-82</td>\n",
              "      <td>NaN</td>\n",
              "      <td>10.0</td>\n",
              "    </tr>\n",
              "    <tr>\n",
              "      <th>1</th>\n",
              "      <td>AC/DC</td>\n",
              "      <td>Back in Black</td>\n",
              "      <td>1980</td>\n",
              "      <td>0:42:11</td>\n",
              "      <td>hard rock</td>\n",
              "      <td>26.1</td>\n",
              "      <td>50</td>\n",
              "      <td>25-Jul-80</td>\n",
              "      <td>NaN</td>\n",
              "      <td>9.5</td>\n",
              "    </tr>\n",
              "    <tr>\n",
              "      <th>2</th>\n",
              "      <td>Pink Floyd</td>\n",
              "      <td>The Dark Side of the Moon</td>\n",
              "      <td>1973</td>\n",
              "      <td>0:42:49</td>\n",
              "      <td>progressive rock</td>\n",
              "      <td>24.2</td>\n",
              "      <td>45</td>\n",
              "      <td>01-Mar-73</td>\n",
              "      <td>NaN</td>\n",
              "      <td>9.0</td>\n",
              "    </tr>\n",
              "    <tr>\n",
              "      <th>3</th>\n",
              "      <td>Whitney Houston</td>\n",
              "      <td>The Bodyguard</td>\n",
              "      <td>1992</td>\n",
              "      <td>0:57:44</td>\n",
              "      <td>R&amp;B, soul, pop</td>\n",
              "      <td>27.4</td>\n",
              "      <td>44</td>\n",
              "      <td>17-Nov-92</td>\n",
              "      <td>Y</td>\n",
              "      <td>8.5</td>\n",
              "    </tr>\n",
              "    <tr>\n",
              "      <th>4</th>\n",
              "      <td>Meat Loaf</td>\n",
              "      <td>Bat Out of Hell</td>\n",
              "      <td>1977</td>\n",
              "      <td>0:46:33</td>\n",
              "      <td>hard rock, progressive rock</td>\n",
              "      <td>20.6</td>\n",
              "      <td>43</td>\n",
              "      <td>21-Oct-77</td>\n",
              "      <td>NaN</td>\n",
              "      <td>8.0</td>\n",
              "    </tr>\n",
              "  </tbody>\n",
              "</table>\n",
              "</div>\n",
              "      <button class=\"colab-df-convert\" onclick=\"convertToInteractive('df-56e2d540-8a81-45c7-b411-c6eeff8d4060')\"\n",
              "              title=\"Convert this dataframe to an interactive table.\"\n",
              "              style=\"display:none;\">\n",
              "        \n",
              "  <svg xmlns=\"http://www.w3.org/2000/svg\" height=\"24px\"viewBox=\"0 0 24 24\"\n",
              "       width=\"24px\">\n",
              "    <path d=\"M0 0h24v24H0V0z\" fill=\"none\"/>\n",
              "    <path d=\"M18.56 5.44l.94 2.06.94-2.06 2.06-.94-2.06-.94-.94-2.06-.94 2.06-2.06.94zm-11 1L8.5 8.5l.94-2.06 2.06-.94-2.06-.94L8.5 2.5l-.94 2.06-2.06.94zm10 10l.94 2.06.94-2.06 2.06-.94-2.06-.94-.94-2.06-.94 2.06-2.06.94z\"/><path d=\"M17.41 7.96l-1.37-1.37c-.4-.4-.92-.59-1.43-.59-.52 0-1.04.2-1.43.59L10.3 9.45l-7.72 7.72c-.78.78-.78 2.05 0 2.83L4 21.41c.39.39.9.59 1.41.59.51 0 1.02-.2 1.41-.59l7.78-7.78 2.81-2.81c.8-.78.8-2.07 0-2.86zM5.41 20L4 18.59l7.72-7.72 1.47 1.35L5.41 20z\"/>\n",
              "  </svg>\n",
              "      </button>\n",
              "      \n",
              "  <style>\n",
              "    .colab-df-container {\n",
              "      display:flex;\n",
              "      flex-wrap:wrap;\n",
              "      gap: 12px;\n",
              "    }\n",
              "\n",
              "    .colab-df-convert {\n",
              "      background-color: #E8F0FE;\n",
              "      border: none;\n",
              "      border-radius: 50%;\n",
              "      cursor: pointer;\n",
              "      display: none;\n",
              "      fill: #1967D2;\n",
              "      height: 32px;\n",
              "      padding: 0 0 0 0;\n",
              "      width: 32px;\n",
              "    }\n",
              "\n",
              "    .colab-df-convert:hover {\n",
              "      background-color: #E2EBFA;\n",
              "      box-shadow: 0px 1px 2px rgba(60, 64, 67, 0.3), 0px 1px 3px 1px rgba(60, 64, 67, 0.15);\n",
              "      fill: #174EA6;\n",
              "    }\n",
              "\n",
              "    [theme=dark] .colab-df-convert {\n",
              "      background-color: #3B4455;\n",
              "      fill: #D2E3FC;\n",
              "    }\n",
              "\n",
              "    [theme=dark] .colab-df-convert:hover {\n",
              "      background-color: #434B5C;\n",
              "      box-shadow: 0px 1px 3px 1px rgba(0, 0, 0, 0.15);\n",
              "      filter: drop-shadow(0px 1px 2px rgba(0, 0, 0, 0.3));\n",
              "      fill: #FFFFFF;\n",
              "    }\n",
              "  </style>\n",
              "\n",
              "      <script>\n",
              "        const buttonEl =\n",
              "          document.querySelector('#df-56e2d540-8a81-45c7-b411-c6eeff8d4060 button.colab-df-convert');\n",
              "        buttonEl.style.display =\n",
              "          google.colab.kernel.accessAllowed ? 'block' : 'none';\n",
              "\n",
              "        async function convertToInteractive(key) {\n",
              "          const element = document.querySelector('#df-56e2d540-8a81-45c7-b411-c6eeff8d4060');\n",
              "          const dataTable =\n",
              "            await google.colab.kernel.invokeFunction('convertToInteractive',\n",
              "                                                     [key], {});\n",
              "          if (!dataTable) return;\n",
              "\n",
              "          const docLinkHtml = 'Like what you see? Visit the ' +\n",
              "            '<a target=\"_blank\" href=https://colab.research.google.com/notebooks/data_table.ipynb>data table notebook</a>'\n",
              "            + ' to learn more about interactive tables.';\n",
              "          element.innerHTML = '';\n",
              "          dataTable['output_type'] = 'display_data';\n",
              "          await google.colab.output.renderOutput(dataTable, element);\n",
              "          const docLink = document.createElement('div');\n",
              "          docLink.innerHTML = docLinkHtml;\n",
              "          element.appendChild(docLink);\n",
              "        }\n",
              "      </script>\n",
              "    </div>\n",
              "  </div>\n",
              "  "
            ]
          },
          "metadata": {},
          "execution_count": 248
        }
      ]
    },
    {
      "cell_type": "markdown",
      "source": [
        "El proceso para cargar un archivo excel es similar."
      ],
      "metadata": {
        "id": "Cq_0obEs--Gn"
      }
    },
    {
      "cell_type": "code",
      "source": [
        "xlsx_path=\"file1.xlsx\"\n",
        "df=pd.read_excel(xlsx_path)\n",
        "df.head()"
      ],
      "metadata": {
        "colab": {
          "base_uri": "https://localhost:8080/",
          "height": 0
        },
        "id": "ODV9B20e_Bpv",
        "outputId": "0ce55691-3683-4220-bf9c-2224fec2a28c"
      },
      "execution_count": 249,
      "outputs": [
        {
          "output_type": "execute_result",
          "data": {
            "text/plain": [
              "            Artist                      Album  Released    Length  \\\n",
              "0  Michael Jackson                   Thriller      1982  00:42:19   \n",
              "1            AC/DC              Back in Black      1980  00:42:11   \n",
              "2       Pink Floyd  The Dark Side of the Moon      1973  00:42:49   \n",
              "3  Whitney Houston              The Bodyguard      1992  00:57:44   \n",
              "4        Meat Loaf            Bat Out of Hell      1977  00:46:33   \n",
              "\n",
              "                         Genre  Music Recording Sales (millions)  \\\n",
              "0               pop, rock, R&B                              46.0   \n",
              "1                    hard rock                              26.1   \n",
              "2             progressive rock                              24.2   \n",
              "3               R&B, soul, pop                              27.4   \n",
              "4  hard rock, progressive rock                              20.6   \n",
              "\n",
              "   Claimed Sales (millions) Released.1 Soundtrack  Rating  \n",
              "0                        65 1982-11-30        NaN    10.0  \n",
              "1                        50 1980-07-25        NaN     9.5  \n",
              "2                        45 1973-03-01        NaN     9.0  \n",
              "3                        44 1992-11-17          Y     8.5  \n",
              "4                        43 1977-10-21        NaN     8.0  "
            ],
            "text/html": [
              "\n",
              "  <div id=\"df-7786df5a-d387-4546-aa05-20690fbc9b7a\">\n",
              "    <div class=\"colab-df-container\">\n",
              "      <div>\n",
              "<style scoped>\n",
              "    .dataframe tbody tr th:only-of-type {\n",
              "        vertical-align: middle;\n",
              "    }\n",
              "\n",
              "    .dataframe tbody tr th {\n",
              "        vertical-align: top;\n",
              "    }\n",
              "\n",
              "    .dataframe thead th {\n",
              "        text-align: right;\n",
              "    }\n",
              "</style>\n",
              "<table border=\"1\" class=\"dataframe\">\n",
              "  <thead>\n",
              "    <tr style=\"text-align: right;\">\n",
              "      <th></th>\n",
              "      <th>Artist</th>\n",
              "      <th>Album</th>\n",
              "      <th>Released</th>\n",
              "      <th>Length</th>\n",
              "      <th>Genre</th>\n",
              "      <th>Music Recording Sales (millions)</th>\n",
              "      <th>Claimed Sales (millions)</th>\n",
              "      <th>Released.1</th>\n",
              "      <th>Soundtrack</th>\n",
              "      <th>Rating</th>\n",
              "    </tr>\n",
              "  </thead>\n",
              "  <tbody>\n",
              "    <tr>\n",
              "      <th>0</th>\n",
              "      <td>Michael Jackson</td>\n",
              "      <td>Thriller</td>\n",
              "      <td>1982</td>\n",
              "      <td>00:42:19</td>\n",
              "      <td>pop, rock, R&amp;B</td>\n",
              "      <td>46.0</td>\n",
              "      <td>65</td>\n",
              "      <td>1982-11-30</td>\n",
              "      <td>NaN</td>\n",
              "      <td>10.0</td>\n",
              "    </tr>\n",
              "    <tr>\n",
              "      <th>1</th>\n",
              "      <td>AC/DC</td>\n",
              "      <td>Back in Black</td>\n",
              "      <td>1980</td>\n",
              "      <td>00:42:11</td>\n",
              "      <td>hard rock</td>\n",
              "      <td>26.1</td>\n",
              "      <td>50</td>\n",
              "      <td>1980-07-25</td>\n",
              "      <td>NaN</td>\n",
              "      <td>9.5</td>\n",
              "    </tr>\n",
              "    <tr>\n",
              "      <th>2</th>\n",
              "      <td>Pink Floyd</td>\n",
              "      <td>The Dark Side of the Moon</td>\n",
              "      <td>1973</td>\n",
              "      <td>00:42:49</td>\n",
              "      <td>progressive rock</td>\n",
              "      <td>24.2</td>\n",
              "      <td>45</td>\n",
              "      <td>1973-03-01</td>\n",
              "      <td>NaN</td>\n",
              "      <td>9.0</td>\n",
              "    </tr>\n",
              "    <tr>\n",
              "      <th>3</th>\n",
              "      <td>Whitney Houston</td>\n",
              "      <td>The Bodyguard</td>\n",
              "      <td>1992</td>\n",
              "      <td>00:57:44</td>\n",
              "      <td>R&amp;B, soul, pop</td>\n",
              "      <td>27.4</td>\n",
              "      <td>44</td>\n",
              "      <td>1992-11-17</td>\n",
              "      <td>Y</td>\n",
              "      <td>8.5</td>\n",
              "    </tr>\n",
              "    <tr>\n",
              "      <th>4</th>\n",
              "      <td>Meat Loaf</td>\n",
              "      <td>Bat Out of Hell</td>\n",
              "      <td>1977</td>\n",
              "      <td>00:46:33</td>\n",
              "      <td>hard rock, progressive rock</td>\n",
              "      <td>20.6</td>\n",
              "      <td>43</td>\n",
              "      <td>1977-10-21</td>\n",
              "      <td>NaN</td>\n",
              "      <td>8.0</td>\n",
              "    </tr>\n",
              "  </tbody>\n",
              "</table>\n",
              "</div>\n",
              "      <button class=\"colab-df-convert\" onclick=\"convertToInteractive('df-7786df5a-d387-4546-aa05-20690fbc9b7a')\"\n",
              "              title=\"Convert this dataframe to an interactive table.\"\n",
              "              style=\"display:none;\">\n",
              "        \n",
              "  <svg xmlns=\"http://www.w3.org/2000/svg\" height=\"24px\"viewBox=\"0 0 24 24\"\n",
              "       width=\"24px\">\n",
              "    <path d=\"M0 0h24v24H0V0z\" fill=\"none\"/>\n",
              "    <path d=\"M18.56 5.44l.94 2.06.94-2.06 2.06-.94-2.06-.94-.94-2.06-.94 2.06-2.06.94zm-11 1L8.5 8.5l.94-2.06 2.06-.94-2.06-.94L8.5 2.5l-.94 2.06-2.06.94zm10 10l.94 2.06.94-2.06 2.06-.94-2.06-.94-.94-2.06-.94 2.06-2.06.94z\"/><path d=\"M17.41 7.96l-1.37-1.37c-.4-.4-.92-.59-1.43-.59-.52 0-1.04.2-1.43.59L10.3 9.45l-7.72 7.72c-.78.78-.78 2.05 0 2.83L4 21.41c.39.39.9.59 1.41.59.51 0 1.02-.2 1.41-.59l7.78-7.78 2.81-2.81c.8-.78.8-2.07 0-2.86zM5.41 20L4 18.59l7.72-7.72 1.47 1.35L5.41 20z\"/>\n",
              "  </svg>\n",
              "      </button>\n",
              "      \n",
              "  <style>\n",
              "    .colab-df-container {\n",
              "      display:flex;\n",
              "      flex-wrap:wrap;\n",
              "      gap: 12px;\n",
              "    }\n",
              "\n",
              "    .colab-df-convert {\n",
              "      background-color: #E8F0FE;\n",
              "      border: none;\n",
              "      border-radius: 50%;\n",
              "      cursor: pointer;\n",
              "      display: none;\n",
              "      fill: #1967D2;\n",
              "      height: 32px;\n",
              "      padding: 0 0 0 0;\n",
              "      width: 32px;\n",
              "    }\n",
              "\n",
              "    .colab-df-convert:hover {\n",
              "      background-color: #E2EBFA;\n",
              "      box-shadow: 0px 1px 2px rgba(60, 64, 67, 0.3), 0px 1px 3px 1px rgba(60, 64, 67, 0.15);\n",
              "      fill: #174EA6;\n",
              "    }\n",
              "\n",
              "    [theme=dark] .colab-df-convert {\n",
              "      background-color: #3B4455;\n",
              "      fill: #D2E3FC;\n",
              "    }\n",
              "\n",
              "    [theme=dark] .colab-df-convert:hover {\n",
              "      background-color: #434B5C;\n",
              "      box-shadow: 0px 1px 3px 1px rgba(0, 0, 0, 0.15);\n",
              "      filter: drop-shadow(0px 1px 2px rgba(0, 0, 0, 0.3));\n",
              "      fill: #FFFFFF;\n",
              "    }\n",
              "  </style>\n",
              "\n",
              "      <script>\n",
              "        const buttonEl =\n",
              "          document.querySelector('#df-7786df5a-d387-4546-aa05-20690fbc9b7a button.colab-df-convert');\n",
              "        buttonEl.style.display =\n",
              "          google.colab.kernel.accessAllowed ? 'block' : 'none';\n",
              "\n",
              "        async function convertToInteractive(key) {\n",
              "          const element = document.querySelector('#df-7786df5a-d387-4546-aa05-20690fbc9b7a');\n",
              "          const dataTable =\n",
              "            await google.colab.kernel.invokeFunction('convertToInteractive',\n",
              "                                                     [key], {});\n",
              "          if (!dataTable) return;\n",
              "\n",
              "          const docLinkHtml = 'Like what you see? Visit the ' +\n",
              "            '<a target=\"_blank\" href=https://colab.research.google.com/notebooks/data_table.ipynb>data table notebook</a>'\n",
              "            + ' to learn more about interactive tables.';\n",
              "          element.innerHTML = '';\n",
              "          dataTable['output_type'] = 'display_data';\n",
              "          await google.colab.output.renderOutput(dataTable, element);\n",
              "          const docLink = document.createElement('div');\n",
              "          docLink.innerHTML = docLinkHtml;\n",
              "          element.appendChild(docLink);\n",
              "        }\n",
              "      </script>\n",
              "    </div>\n",
              "  </div>\n",
              "  "
            ]
          },
          "metadata": {},
          "execution_count": 249
        }
      ]
    },
    {
      "cell_type": "markdown",
      "source": [
        "Un marco de datos es un comprimido de filas y columnas.\n",
        "\n",
        "Podemos crear un marco de datos desde un diccionario."
      ],
      "metadata": {
        "id": "O2NvNnaV_zC2"
      }
    },
    {
      "cell_type": "code",
      "source": [
        "songs = {\"Album\":[\"Thriller\",\"Back in Black\",\"The Dark Side of the Moon\"],\"Released\":[1982,1980,1973],\"Length\":[\"00:42:19\",\"00:42:11\",\"00:42:49\"]}\n",
        "songs_frame=pd.DataFrame(songs)\n",
        "#Las keys se convierten en los encabezados de las columnas"
      ],
      "metadata": {
        "id": "YijgTx9f__j8"
      },
      "execution_count": 250,
      "outputs": []
    },
    {
      "cell_type": "markdown",
      "source": [
        "Se puede extraer una sola columna del marco de datos con el siguiente metodo:"
      ],
      "metadata": {
        "id": "CmSKfczEBNOv"
      }
    },
    {
      "cell_type": "code",
      "source": [
        "x=df[[\"Length\"]] #Dentro se pone el nombre del encabezado de la columna\n",
        "# Si se requieren sacar mas columnas, se separan por comas dentro del doble corchete\n",
        "y=df[[\"Artist\",\"Length\",\"Genre\"]]\n",
        "#El resultado es un nuevo marco de datos solo con estas columnas"
      ],
      "metadata": {
        "id": "oV6OchUvBVks"
      },
      "execution_count": 251,
      "outputs": []
    },
    {
      "cell_type": "markdown",
      "source": [
        "Para acceder a un único elemento del dataframe se utiliza el siguiente método:"
      ],
      "metadata": {
        "id": "qy1U9-FECkJA"
      }
    },
    {
      "cell_type": "code",
      "source": [
        "df.iloc[0,0] #Entre corchetes va [fila,columna] siendo esta la posicion del elemento.\n",
        "df.loc[0,\"Artist\"] #En este caso se colca el nombre de la columna y no su posicion."
      ],
      "metadata": {
        "colab": {
          "base_uri": "https://localhost:8080/",
          "height": 0
        },
        "id": "AizDHmeHCsF1",
        "outputId": "fe0ced1a-866f-45f2-a159-d5efc2f77aa6"
      },
      "execution_count": 252,
      "outputs": [
        {
          "output_type": "execute_result",
          "data": {
            "text/plain": [
              "'Michael Jackson'"
            ],
            "application/vnd.google.colaboratory.intrinsic+json": {
              "type": "string"
            }
          },
          "metadata": {},
          "execution_count": 252
        }
      ]
    },
    {
      "cell_type": "markdown",
      "source": [
        "Se puede extraer un cierto conjunto de datos desde un dataframe:"
      ],
      "metadata": {
        "id": "c-wrwJQXE3pa"
      }
    },
    {
      "cell_type": "code",
      "source": [
        "z=df.iloc[0:2,0:3] #Extraemos las primeras dos filas y las primeras tres columnas.\n",
        "z=df.loc[0:2,\"Artist\":\"Released\"] #El mismo dato utilizando el nombre de las columnas."
      ],
      "metadata": {
        "id": "x2h3rCnNFMf4"
      },
      "execution_count": 253,
      "outputs": []
    },
    {
      "cell_type": "markdown",
      "source": [
        "###**Lab - Get to Know a Pandas Array**"
      ],
      "metadata": {
        "id": "mX-xmt-lG3GA"
      }
    },
    {
      "cell_type": "code",
      "source": [
        "import pandas as pd\n",
        "df=pd.DataFrame({\"a\":[11,21,31],\"b\":[21,22,23]})"
      ],
      "metadata": {
        "id": "cyIFCUd2HCfj"
      },
      "execution_count": 254,
      "outputs": []
    },
    {
      "cell_type": "markdown",
      "source": [
        "Mostrar las primeras tres filas."
      ],
      "metadata": {
        "id": "U2fXq1xtHT7t"
      }
    },
    {
      "cell_type": "code",
      "source": [
        "df.head(3)"
      ],
      "metadata": {
        "colab": {
          "base_uri": "https://localhost:8080/",
          "height": 0
        },
        "id": "BNbIGS4mHX1H",
        "outputId": "08e28f0f-e4fb-4b59-b1ed-5f723fff1850"
      },
      "execution_count": 255,
      "outputs": [
        {
          "output_type": "execute_result",
          "data": {
            "text/plain": [
              "    a   b\n",
              "0  11  21\n",
              "1  21  22\n",
              "2  31  23"
            ],
            "text/html": [
              "\n",
              "  <div id=\"df-9cd3e2d9-7e75-4ff3-9533-165975c4b4b7\">\n",
              "    <div class=\"colab-df-container\">\n",
              "      <div>\n",
              "<style scoped>\n",
              "    .dataframe tbody tr th:only-of-type {\n",
              "        vertical-align: middle;\n",
              "    }\n",
              "\n",
              "    .dataframe tbody tr th {\n",
              "        vertical-align: top;\n",
              "    }\n",
              "\n",
              "    .dataframe thead th {\n",
              "        text-align: right;\n",
              "    }\n",
              "</style>\n",
              "<table border=\"1\" class=\"dataframe\">\n",
              "  <thead>\n",
              "    <tr style=\"text-align: right;\">\n",
              "      <th></th>\n",
              "      <th>a</th>\n",
              "      <th>b</th>\n",
              "    </tr>\n",
              "  </thead>\n",
              "  <tbody>\n",
              "    <tr>\n",
              "      <th>0</th>\n",
              "      <td>11</td>\n",
              "      <td>21</td>\n",
              "    </tr>\n",
              "    <tr>\n",
              "      <th>1</th>\n",
              "      <td>21</td>\n",
              "      <td>22</td>\n",
              "    </tr>\n",
              "    <tr>\n",
              "      <th>2</th>\n",
              "      <td>31</td>\n",
              "      <td>23</td>\n",
              "    </tr>\n",
              "  </tbody>\n",
              "</table>\n",
              "</div>\n",
              "      <button class=\"colab-df-convert\" onclick=\"convertToInteractive('df-9cd3e2d9-7e75-4ff3-9533-165975c4b4b7')\"\n",
              "              title=\"Convert this dataframe to an interactive table.\"\n",
              "              style=\"display:none;\">\n",
              "        \n",
              "  <svg xmlns=\"http://www.w3.org/2000/svg\" height=\"24px\"viewBox=\"0 0 24 24\"\n",
              "       width=\"24px\">\n",
              "    <path d=\"M0 0h24v24H0V0z\" fill=\"none\"/>\n",
              "    <path d=\"M18.56 5.44l.94 2.06.94-2.06 2.06-.94-2.06-.94-.94-2.06-.94 2.06-2.06.94zm-11 1L8.5 8.5l.94-2.06 2.06-.94-2.06-.94L8.5 2.5l-.94 2.06-2.06.94zm10 10l.94 2.06.94-2.06 2.06-.94-2.06-.94-.94-2.06-.94 2.06-2.06.94z\"/><path d=\"M17.41 7.96l-1.37-1.37c-.4-.4-.92-.59-1.43-.59-.52 0-1.04.2-1.43.59L10.3 9.45l-7.72 7.72c-.78.78-.78 2.05 0 2.83L4 21.41c.39.39.9.59 1.41.59.51 0 1.02-.2 1.41-.59l7.78-7.78 2.81-2.81c.8-.78.8-2.07 0-2.86zM5.41 20L4 18.59l7.72-7.72 1.47 1.35L5.41 20z\"/>\n",
              "  </svg>\n",
              "      </button>\n",
              "      \n",
              "  <style>\n",
              "    .colab-df-container {\n",
              "      display:flex;\n",
              "      flex-wrap:wrap;\n",
              "      gap: 12px;\n",
              "    }\n",
              "\n",
              "    .colab-df-convert {\n",
              "      background-color: #E8F0FE;\n",
              "      border: none;\n",
              "      border-radius: 50%;\n",
              "      cursor: pointer;\n",
              "      display: none;\n",
              "      fill: #1967D2;\n",
              "      height: 32px;\n",
              "      padding: 0 0 0 0;\n",
              "      width: 32px;\n",
              "    }\n",
              "\n",
              "    .colab-df-convert:hover {\n",
              "      background-color: #E2EBFA;\n",
              "      box-shadow: 0px 1px 2px rgba(60, 64, 67, 0.3), 0px 1px 3px 1px rgba(60, 64, 67, 0.15);\n",
              "      fill: #174EA6;\n",
              "    }\n",
              "\n",
              "    [theme=dark] .colab-df-convert {\n",
              "      background-color: #3B4455;\n",
              "      fill: #D2E3FC;\n",
              "    }\n",
              "\n",
              "    [theme=dark] .colab-df-convert:hover {\n",
              "      background-color: #434B5C;\n",
              "      box-shadow: 0px 1px 3px 1px rgba(0, 0, 0, 0.15);\n",
              "      filter: drop-shadow(0px 1px 2px rgba(0, 0, 0, 0.3));\n",
              "      fill: #FFFFFF;\n",
              "    }\n",
              "  </style>\n",
              "\n",
              "      <script>\n",
              "        const buttonEl =\n",
              "          document.querySelector('#df-9cd3e2d9-7e75-4ff3-9533-165975c4b4b7 button.colab-df-convert');\n",
              "        buttonEl.style.display =\n",
              "          google.colab.kernel.accessAllowed ? 'block' : 'none';\n",
              "\n",
              "        async function convertToInteractive(key) {\n",
              "          const element = document.querySelector('#df-9cd3e2d9-7e75-4ff3-9533-165975c4b4b7');\n",
              "          const dataTable =\n",
              "            await google.colab.kernel.invokeFunction('convertToInteractive',\n",
              "                                                     [key], {});\n",
              "          if (!dataTable) return;\n",
              "\n",
              "          const docLinkHtml = 'Like what you see? Visit the ' +\n",
              "            '<a target=\"_blank\" href=https://colab.research.google.com/notebooks/data_table.ipynb>data table notebook</a>'\n",
              "            + ' to learn more about interactive tables.';\n",
              "          element.innerHTML = '';\n",
              "          dataTable['output_type'] = 'display_data';\n",
              "          await google.colab.output.renderOutput(dataTable, element);\n",
              "          const docLink = document.createElement('div');\n",
              "          docLink.innerHTML = docLinkHtml;\n",
              "          element.appendChild(docLink);\n",
              "        }\n",
              "      </script>\n",
              "    </div>\n",
              "  </div>\n",
              "  "
            ]
          },
          "metadata": {},
          "execution_count": 255
        }
      ]
    },
    {
      "cell_type": "markdown",
      "source": [
        "Obtener la columna \"a\"."
      ],
      "metadata": {
        "id": "p0gdJb_wHkOD"
      }
    },
    {
      "cell_type": "code",
      "source": [
        "df[\"a\"]"
      ],
      "metadata": {
        "colab": {
          "base_uri": "https://localhost:8080/"
        },
        "id": "xe2DjOY1HnK6",
        "outputId": "5e941bcc-e22a-401f-90cd-5f5981560430"
      },
      "execution_count": 256,
      "outputs": [
        {
          "output_type": "execute_result",
          "data": {
            "text/plain": [
              "0    11\n",
              "1    21\n",
              "2    31\n",
              "Name: a, dtype: int64"
            ]
          },
          "metadata": {},
          "execution_count": 256
        }
      ]
    },
    {
      "cell_type": "markdown",
      "source": [
        "##**Working with and Saving Data with Pandas**"
      ],
      "metadata": {
        "id": "EzX7BXM-IFzc"
      }
    },
    {
      "cell_type": "code",
      "source": [
        "xlsx_path=\"file1.xlsx\"\n",
        "df=pd.read_excel(xlsx_path)\n",
        "df.head()"
      ],
      "metadata": {
        "colab": {
          "base_uri": "https://localhost:8080/",
          "height": 0
        },
        "id": "TxpliZdLQ4dy",
        "outputId": "8e6cd0a5-d179-416b-95ae-435b4fa7a247"
      },
      "execution_count": 257,
      "outputs": [
        {
          "output_type": "execute_result",
          "data": {
            "text/plain": [
              "            Artist                      Album  Released    Length  \\\n",
              "0  Michael Jackson                   Thriller      1982  00:42:19   \n",
              "1            AC/DC              Back in Black      1980  00:42:11   \n",
              "2       Pink Floyd  The Dark Side of the Moon      1973  00:42:49   \n",
              "3  Whitney Houston              The Bodyguard      1992  00:57:44   \n",
              "4        Meat Loaf            Bat Out of Hell      1977  00:46:33   \n",
              "\n",
              "                         Genre  Music Recording Sales (millions)  \\\n",
              "0               pop, rock, R&B                              46.0   \n",
              "1                    hard rock                              26.1   \n",
              "2             progressive rock                              24.2   \n",
              "3               R&B, soul, pop                              27.4   \n",
              "4  hard rock, progressive rock                              20.6   \n",
              "\n",
              "   Claimed Sales (millions) Released.1 Soundtrack  Rating  \n",
              "0                        65 1982-11-30        NaN    10.0  \n",
              "1                        50 1980-07-25        NaN     9.5  \n",
              "2                        45 1973-03-01        NaN     9.0  \n",
              "3                        44 1992-11-17          Y     8.5  \n",
              "4                        43 1977-10-21        NaN     8.0  "
            ],
            "text/html": [
              "\n",
              "  <div id=\"df-821127db-828e-4e84-88da-43edfae6e8dc\">\n",
              "    <div class=\"colab-df-container\">\n",
              "      <div>\n",
              "<style scoped>\n",
              "    .dataframe tbody tr th:only-of-type {\n",
              "        vertical-align: middle;\n",
              "    }\n",
              "\n",
              "    .dataframe tbody tr th {\n",
              "        vertical-align: top;\n",
              "    }\n",
              "\n",
              "    .dataframe thead th {\n",
              "        text-align: right;\n",
              "    }\n",
              "</style>\n",
              "<table border=\"1\" class=\"dataframe\">\n",
              "  <thead>\n",
              "    <tr style=\"text-align: right;\">\n",
              "      <th></th>\n",
              "      <th>Artist</th>\n",
              "      <th>Album</th>\n",
              "      <th>Released</th>\n",
              "      <th>Length</th>\n",
              "      <th>Genre</th>\n",
              "      <th>Music Recording Sales (millions)</th>\n",
              "      <th>Claimed Sales (millions)</th>\n",
              "      <th>Released.1</th>\n",
              "      <th>Soundtrack</th>\n",
              "      <th>Rating</th>\n",
              "    </tr>\n",
              "  </thead>\n",
              "  <tbody>\n",
              "    <tr>\n",
              "      <th>0</th>\n",
              "      <td>Michael Jackson</td>\n",
              "      <td>Thriller</td>\n",
              "      <td>1982</td>\n",
              "      <td>00:42:19</td>\n",
              "      <td>pop, rock, R&amp;B</td>\n",
              "      <td>46.0</td>\n",
              "      <td>65</td>\n",
              "      <td>1982-11-30</td>\n",
              "      <td>NaN</td>\n",
              "      <td>10.0</td>\n",
              "    </tr>\n",
              "    <tr>\n",
              "      <th>1</th>\n",
              "      <td>AC/DC</td>\n",
              "      <td>Back in Black</td>\n",
              "      <td>1980</td>\n",
              "      <td>00:42:11</td>\n",
              "      <td>hard rock</td>\n",
              "      <td>26.1</td>\n",
              "      <td>50</td>\n",
              "      <td>1980-07-25</td>\n",
              "      <td>NaN</td>\n",
              "      <td>9.5</td>\n",
              "    </tr>\n",
              "    <tr>\n",
              "      <th>2</th>\n",
              "      <td>Pink Floyd</td>\n",
              "      <td>The Dark Side of the Moon</td>\n",
              "      <td>1973</td>\n",
              "      <td>00:42:49</td>\n",
              "      <td>progressive rock</td>\n",
              "      <td>24.2</td>\n",
              "      <td>45</td>\n",
              "      <td>1973-03-01</td>\n",
              "      <td>NaN</td>\n",
              "      <td>9.0</td>\n",
              "    </tr>\n",
              "    <tr>\n",
              "      <th>3</th>\n",
              "      <td>Whitney Houston</td>\n",
              "      <td>The Bodyguard</td>\n",
              "      <td>1992</td>\n",
              "      <td>00:57:44</td>\n",
              "      <td>R&amp;B, soul, pop</td>\n",
              "      <td>27.4</td>\n",
              "      <td>44</td>\n",
              "      <td>1992-11-17</td>\n",
              "      <td>Y</td>\n",
              "      <td>8.5</td>\n",
              "    </tr>\n",
              "    <tr>\n",
              "      <th>4</th>\n",
              "      <td>Meat Loaf</td>\n",
              "      <td>Bat Out of Hell</td>\n",
              "      <td>1977</td>\n",
              "      <td>00:46:33</td>\n",
              "      <td>hard rock, progressive rock</td>\n",
              "      <td>20.6</td>\n",
              "      <td>43</td>\n",
              "      <td>1977-10-21</td>\n",
              "      <td>NaN</td>\n",
              "      <td>8.0</td>\n",
              "    </tr>\n",
              "  </tbody>\n",
              "</table>\n",
              "</div>\n",
              "      <button class=\"colab-df-convert\" onclick=\"convertToInteractive('df-821127db-828e-4e84-88da-43edfae6e8dc')\"\n",
              "              title=\"Convert this dataframe to an interactive table.\"\n",
              "              style=\"display:none;\">\n",
              "        \n",
              "  <svg xmlns=\"http://www.w3.org/2000/svg\" height=\"24px\"viewBox=\"0 0 24 24\"\n",
              "       width=\"24px\">\n",
              "    <path d=\"M0 0h24v24H0V0z\" fill=\"none\"/>\n",
              "    <path d=\"M18.56 5.44l.94 2.06.94-2.06 2.06-.94-2.06-.94-.94-2.06-.94 2.06-2.06.94zm-11 1L8.5 8.5l.94-2.06 2.06-.94-2.06-.94L8.5 2.5l-.94 2.06-2.06.94zm10 10l.94 2.06.94-2.06 2.06-.94-2.06-.94-.94-2.06-.94 2.06-2.06.94z\"/><path d=\"M17.41 7.96l-1.37-1.37c-.4-.4-.92-.59-1.43-.59-.52 0-1.04.2-1.43.59L10.3 9.45l-7.72 7.72c-.78.78-.78 2.05 0 2.83L4 21.41c.39.39.9.59 1.41.59.51 0 1.02-.2 1.41-.59l7.78-7.78 2.81-2.81c.8-.78.8-2.07 0-2.86zM5.41 20L4 18.59l7.72-7.72 1.47 1.35L5.41 20z\"/>\n",
              "  </svg>\n",
              "      </button>\n",
              "      \n",
              "  <style>\n",
              "    .colab-df-container {\n",
              "      display:flex;\n",
              "      flex-wrap:wrap;\n",
              "      gap: 12px;\n",
              "    }\n",
              "\n",
              "    .colab-df-convert {\n",
              "      background-color: #E8F0FE;\n",
              "      border: none;\n",
              "      border-radius: 50%;\n",
              "      cursor: pointer;\n",
              "      display: none;\n",
              "      fill: #1967D2;\n",
              "      height: 32px;\n",
              "      padding: 0 0 0 0;\n",
              "      width: 32px;\n",
              "    }\n",
              "\n",
              "    .colab-df-convert:hover {\n",
              "      background-color: #E2EBFA;\n",
              "      box-shadow: 0px 1px 2px rgba(60, 64, 67, 0.3), 0px 1px 3px 1px rgba(60, 64, 67, 0.15);\n",
              "      fill: #174EA6;\n",
              "    }\n",
              "\n",
              "    [theme=dark] .colab-df-convert {\n",
              "      background-color: #3B4455;\n",
              "      fill: #D2E3FC;\n",
              "    }\n",
              "\n",
              "    [theme=dark] .colab-df-convert:hover {\n",
              "      background-color: #434B5C;\n",
              "      box-shadow: 0px 1px 3px 1px rgba(0, 0, 0, 0.15);\n",
              "      filter: drop-shadow(0px 1px 2px rgba(0, 0, 0, 0.3));\n",
              "      fill: #FFFFFF;\n",
              "    }\n",
              "  </style>\n",
              "\n",
              "      <script>\n",
              "        const buttonEl =\n",
              "          document.querySelector('#df-821127db-828e-4e84-88da-43edfae6e8dc button.colab-df-convert');\n",
              "        buttonEl.style.display =\n",
              "          google.colab.kernel.accessAllowed ? 'block' : 'none';\n",
              "\n",
              "        async function convertToInteractive(key) {\n",
              "          const element = document.querySelector('#df-821127db-828e-4e84-88da-43edfae6e8dc');\n",
              "          const dataTable =\n",
              "            await google.colab.kernel.invokeFunction('convertToInteractive',\n",
              "                                                     [key], {});\n",
              "          if (!dataTable) return;\n",
              "\n",
              "          const docLinkHtml = 'Like what you see? Visit the ' +\n",
              "            '<a target=\"_blank\" href=https://colab.research.google.com/notebooks/data_table.ipynb>data table notebook</a>'\n",
              "            + ' to learn more about interactive tables.';\n",
              "          element.innerHTML = '';\n",
              "          dataTable['output_type'] = 'display_data';\n",
              "          await google.colab.output.renderOutput(dataTable, element);\n",
              "          const docLink = document.createElement('div');\n",
              "          docLink.innerHTML = docLinkHtml;\n",
              "          element.appendChild(docLink);\n",
              "        }\n",
              "      </script>\n",
              "    </div>\n",
              "  </div>\n",
              "  "
            ]
          },
          "metadata": {},
          "execution_count": 257
        }
      ]
    },
    {
      "cell_type": "markdown",
      "source": [
        "Cuando se tiene un dataframe se puede trabajar con los datos y guardar los reusltados en un formato diferente."
      ],
      "metadata": {
        "id": "w7H15ZyPIRWC"
      }
    },
    {
      "cell_type": "markdown",
      "source": [
        "Si se requiere extraer los valores unicos de un dataframe se utilizar el metodo unique()."
      ],
      "metadata": {
        "id": "5tMuS392KmKi"
      }
    },
    {
      "cell_type": "code",
      "source": [
        "df[\"Released\"].unique()"
      ],
      "metadata": {
        "id": "FKSme8e2IR8W",
        "colab": {
          "base_uri": "https://localhost:8080/"
        },
        "outputId": "a3ff7c96-6142-486e-b6c6-482b9163e725"
      },
      "execution_count": 258,
      "outputs": [
        {
          "output_type": "execute_result",
          "data": {
            "text/plain": [
              "array([1982, 1980, 1973, 1992, 1977, 1976])"
            ]
          },
          "metadata": {},
          "execution_count": 258
        }
      ]
    },
    {
      "cell_type": "markdown",
      "source": [
        "Se pueden utilizar los operadores logicos en todo el dataframe."
      ],
      "metadata": {
        "id": "ZDs9VBpGLLY2"
      }
    },
    {
      "cell_type": "code",
      "source": [
        "df[\"Released\"]>=1980 #El resultado es una serie de valores boleanos, uno por cada fila."
      ],
      "metadata": {
        "colab": {
          "base_uri": "https://localhost:8080/"
        },
        "id": "WyIL3GxLLX_J",
        "outputId": "1d023973-fc6f-4d4f-f3e2-67b53bb60fa9"
      },
      "execution_count": 259,
      "outputs": [
        {
          "output_type": "execute_result",
          "data": {
            "text/plain": [
              "0     True\n",
              "1     True\n",
              "2    False\n",
              "3     True\n",
              "4    False\n",
              "5    False\n",
              "6    False\n",
              "7    False\n",
              "Name: Released, dtype: bool"
            ]
          },
          "metadata": {},
          "execution_count": 259
        }
      ]
    },
    {
      "cell_type": "markdown",
      "source": [
        "Si se quieren extraer los registros donde el año sea mayor o igual de 1980."
      ],
      "metadata": {
        "id": "FI3PIqsIL8_J"
      }
    },
    {
      "cell_type": "code",
      "source": [
        "df1=df[df[\"Released\"]>=1980] #df1 guarda un nuevo dataframe con los registros que cumplen con la condicion."
      ],
      "metadata": {
        "id": "veDZWb7tMENy"
      },
      "execution_count": 260,
      "outputs": []
    },
    {
      "cell_type": "markdown",
      "source": [
        "Para guardar un dataframe en un archivo CSV se utiliza la siguiente funcion:"
      ],
      "metadata": {
        "id": "6dI9hCCdMY2X"
      }
    },
    {
      "cell_type": "code",
      "source": [
        "df1.to_csv(\"new_songs.csv\") #Siempre incluir la extension del archivo despues del nombre."
      ],
      "metadata": {
        "id": "wzuy-hTrMe4u"
      },
      "execution_count": 261,
      "outputs": []
    },
    {
      "cell_type": "markdown",
      "source": [
        "Hay mas funciones para guardar los dataframe en diferentes formatos."
      ],
      "metadata": {
        "id": "-zVVD6lKMvPn"
      }
    },
    {
      "cell_type": "markdown",
      "source": [
        "###**Lab - Loading Data and Viewing Data**"
      ],
      "metadata": {
        "id": "d2Ot1lcKIx-S"
      }
    },
    {
      "cell_type": "code",
      "source": [
        "df = pd.read_csv(\"TopSellingAlbums.csv\")\n",
        "df.head()"
      ],
      "metadata": {
        "colab": {
          "base_uri": "https://localhost:8080/",
          "height": 0
        },
        "id": "9c6jXddiPseR",
        "outputId": "7c48794b-f8d1-49ea-9d0b-00a885a04ad0"
      },
      "execution_count": 262,
      "outputs": [
        {
          "output_type": "execute_result",
          "data": {
            "text/plain": [
              "            Artist                      Album  Released   Length  \\\n",
              "0  Michael Jackson                   Thriller      1982  0:42:19   \n",
              "1            AC/DC              Back in Black      1980  0:42:11   \n",
              "2       Pink Floyd  The Dark Side of the Moon      1973  0:42:49   \n",
              "3  Whitney Houston              The Bodyguard      1992  0:57:44   \n",
              "4        Meat Loaf            Bat Out of Hell      1977  0:46:33   \n",
              "\n",
              "                         Genre  Music Recording Sales (millions)  \\\n",
              "0               pop, rock, R&B                              46.0   \n",
              "1                    hard rock                              26.1   \n",
              "2             progressive rock                              24.2   \n",
              "3               R&B, soul, pop                              27.4   \n",
              "4  hard rock, progressive rock                              20.6   \n",
              "\n",
              "   Claimed Sales (millions) Released.1 Soundtrack  Rating  \n",
              "0                        65  30-Nov-82        NaN    10.0  \n",
              "1                        50  25-Jul-80        NaN     9.5  \n",
              "2                        45  01-Mar-73        NaN     9.0  \n",
              "3                        44  17-Nov-92          Y     8.5  \n",
              "4                        43  21-Oct-77        NaN     8.0  "
            ],
            "text/html": [
              "\n",
              "  <div id=\"df-fde2b0c2-971d-45e3-91db-8abcba5e1c4f\">\n",
              "    <div class=\"colab-df-container\">\n",
              "      <div>\n",
              "<style scoped>\n",
              "    .dataframe tbody tr th:only-of-type {\n",
              "        vertical-align: middle;\n",
              "    }\n",
              "\n",
              "    .dataframe tbody tr th {\n",
              "        vertical-align: top;\n",
              "    }\n",
              "\n",
              "    .dataframe thead th {\n",
              "        text-align: right;\n",
              "    }\n",
              "</style>\n",
              "<table border=\"1\" class=\"dataframe\">\n",
              "  <thead>\n",
              "    <tr style=\"text-align: right;\">\n",
              "      <th></th>\n",
              "      <th>Artist</th>\n",
              "      <th>Album</th>\n",
              "      <th>Released</th>\n",
              "      <th>Length</th>\n",
              "      <th>Genre</th>\n",
              "      <th>Music Recording Sales (millions)</th>\n",
              "      <th>Claimed Sales (millions)</th>\n",
              "      <th>Released.1</th>\n",
              "      <th>Soundtrack</th>\n",
              "      <th>Rating</th>\n",
              "    </tr>\n",
              "  </thead>\n",
              "  <tbody>\n",
              "    <tr>\n",
              "      <th>0</th>\n",
              "      <td>Michael Jackson</td>\n",
              "      <td>Thriller</td>\n",
              "      <td>1982</td>\n",
              "      <td>0:42:19</td>\n",
              "      <td>pop, rock, R&amp;B</td>\n",
              "      <td>46.0</td>\n",
              "      <td>65</td>\n",
              "      <td>30-Nov-82</td>\n",
              "      <td>NaN</td>\n",
              "      <td>10.0</td>\n",
              "    </tr>\n",
              "    <tr>\n",
              "      <th>1</th>\n",
              "      <td>AC/DC</td>\n",
              "      <td>Back in Black</td>\n",
              "      <td>1980</td>\n",
              "      <td>0:42:11</td>\n",
              "      <td>hard rock</td>\n",
              "      <td>26.1</td>\n",
              "      <td>50</td>\n",
              "      <td>25-Jul-80</td>\n",
              "      <td>NaN</td>\n",
              "      <td>9.5</td>\n",
              "    </tr>\n",
              "    <tr>\n",
              "      <th>2</th>\n",
              "      <td>Pink Floyd</td>\n",
              "      <td>The Dark Side of the Moon</td>\n",
              "      <td>1973</td>\n",
              "      <td>0:42:49</td>\n",
              "      <td>progressive rock</td>\n",
              "      <td>24.2</td>\n",
              "      <td>45</td>\n",
              "      <td>01-Mar-73</td>\n",
              "      <td>NaN</td>\n",
              "      <td>9.0</td>\n",
              "    </tr>\n",
              "    <tr>\n",
              "      <th>3</th>\n",
              "      <td>Whitney Houston</td>\n",
              "      <td>The Bodyguard</td>\n",
              "      <td>1992</td>\n",
              "      <td>0:57:44</td>\n",
              "      <td>R&amp;B, soul, pop</td>\n",
              "      <td>27.4</td>\n",
              "      <td>44</td>\n",
              "      <td>17-Nov-92</td>\n",
              "      <td>Y</td>\n",
              "      <td>8.5</td>\n",
              "    </tr>\n",
              "    <tr>\n",
              "      <th>4</th>\n",
              "      <td>Meat Loaf</td>\n",
              "      <td>Bat Out of Hell</td>\n",
              "      <td>1977</td>\n",
              "      <td>0:46:33</td>\n",
              "      <td>hard rock, progressive rock</td>\n",
              "      <td>20.6</td>\n",
              "      <td>43</td>\n",
              "      <td>21-Oct-77</td>\n",
              "      <td>NaN</td>\n",
              "      <td>8.0</td>\n",
              "    </tr>\n",
              "  </tbody>\n",
              "</table>\n",
              "</div>\n",
              "      <button class=\"colab-df-convert\" onclick=\"convertToInteractive('df-fde2b0c2-971d-45e3-91db-8abcba5e1c4f')\"\n",
              "              title=\"Convert this dataframe to an interactive table.\"\n",
              "              style=\"display:none;\">\n",
              "        \n",
              "  <svg xmlns=\"http://www.w3.org/2000/svg\" height=\"24px\"viewBox=\"0 0 24 24\"\n",
              "       width=\"24px\">\n",
              "    <path d=\"M0 0h24v24H0V0z\" fill=\"none\"/>\n",
              "    <path d=\"M18.56 5.44l.94 2.06.94-2.06 2.06-.94-2.06-.94-.94-2.06-.94 2.06-2.06.94zm-11 1L8.5 8.5l.94-2.06 2.06-.94-2.06-.94L8.5 2.5l-.94 2.06-2.06.94zm10 10l.94 2.06.94-2.06 2.06-.94-2.06-.94-.94-2.06-.94 2.06-2.06.94z\"/><path d=\"M17.41 7.96l-1.37-1.37c-.4-.4-.92-.59-1.43-.59-.52 0-1.04.2-1.43.59L10.3 9.45l-7.72 7.72c-.78.78-.78 2.05 0 2.83L4 21.41c.39.39.9.59 1.41.59.51 0 1.02-.2 1.41-.59l7.78-7.78 2.81-2.81c.8-.78.8-2.07 0-2.86zM5.41 20L4 18.59l7.72-7.72 1.47 1.35L5.41 20z\"/>\n",
              "  </svg>\n",
              "      </button>\n",
              "      \n",
              "  <style>\n",
              "    .colab-df-container {\n",
              "      display:flex;\n",
              "      flex-wrap:wrap;\n",
              "      gap: 12px;\n",
              "    }\n",
              "\n",
              "    .colab-df-convert {\n",
              "      background-color: #E8F0FE;\n",
              "      border: none;\n",
              "      border-radius: 50%;\n",
              "      cursor: pointer;\n",
              "      display: none;\n",
              "      fill: #1967D2;\n",
              "      height: 32px;\n",
              "      padding: 0 0 0 0;\n",
              "      width: 32px;\n",
              "    }\n",
              "\n",
              "    .colab-df-convert:hover {\n",
              "      background-color: #E2EBFA;\n",
              "      box-shadow: 0px 1px 2px rgba(60, 64, 67, 0.3), 0px 1px 3px 1px rgba(60, 64, 67, 0.15);\n",
              "      fill: #174EA6;\n",
              "    }\n",
              "\n",
              "    [theme=dark] .colab-df-convert {\n",
              "      background-color: #3B4455;\n",
              "      fill: #D2E3FC;\n",
              "    }\n",
              "\n",
              "    [theme=dark] .colab-df-convert:hover {\n",
              "      background-color: #434B5C;\n",
              "      box-shadow: 0px 1px 3px 1px rgba(0, 0, 0, 0.15);\n",
              "      filter: drop-shadow(0px 1px 2px rgba(0, 0, 0, 0.3));\n",
              "      fill: #FFFFFF;\n",
              "    }\n",
              "  </style>\n",
              "\n",
              "      <script>\n",
              "        const buttonEl =\n",
              "          document.querySelector('#df-fde2b0c2-971d-45e3-91db-8abcba5e1c4f button.colab-df-convert');\n",
              "        buttonEl.style.display =\n",
              "          google.colab.kernel.accessAllowed ? 'block' : 'none';\n",
              "\n",
              "        async function convertToInteractive(key) {\n",
              "          const element = document.querySelector('#df-fde2b0c2-971d-45e3-91db-8abcba5e1c4f');\n",
              "          const dataTable =\n",
              "            await google.colab.kernel.invokeFunction('convertToInteractive',\n",
              "                                                     [key], {});\n",
              "          if (!dataTable) return;\n",
              "\n",
              "          const docLinkHtml = 'Like what you see? Visit the ' +\n",
              "            '<a target=\"_blank\" href=https://colab.research.google.com/notebooks/data_table.ipynb>data table notebook</a>'\n",
              "            + ' to learn more about interactive tables.';\n",
              "          element.innerHTML = '';\n",
              "          dataTable['output_type'] = 'display_data';\n",
              "          await google.colab.output.renderOutput(dataTable, element);\n",
              "          const docLink = document.createElement('div');\n",
              "          docLink.innerHTML = docLinkHtml;\n",
              "          element.appendChild(docLink);\n",
              "        }\n",
              "      </script>\n",
              "    </div>\n",
              "  </div>\n",
              "  "
            ]
          },
          "metadata": {},
          "execution_count": 262
        }
      ]
    },
    {
      "cell_type": "markdown",
      "source": [
        "Almacenar en la variable q la columna Rating:"
      ],
      "metadata": {
        "id": "VaG93_f8PwLD"
      }
    },
    {
      "cell_type": "code",
      "source": [
        "q = df[[\"Rating\"]]"
      ],
      "metadata": {
        "id": "ngdAX1z0P9lt"
      },
      "execution_count": 263,
      "outputs": []
    },
    {
      "cell_type": "markdown",
      "source": [
        "Acceder a la segunda fila y tercer columna:"
      ],
      "metadata": {
        "id": "Lsx4NfbxQCd2"
      }
    },
    {
      "cell_type": "code",
      "source": [
        "df.iloc[1,2]"
      ],
      "metadata": {
        "colab": {
          "base_uri": "https://localhost:8080/"
        },
        "id": "pVrWkGV3QO2F",
        "outputId": "698242c0-4cde-44f5-9ac1-4ed2b8089d3a"
      },
      "execution_count": 264,
      "outputs": [
        {
          "output_type": "execute_result",
          "data": {
            "text/plain": [
              "1980"
            ]
          },
          "metadata": {},
          "execution_count": 264
        }
      ]
    }
  ]
}